{
  "cells": [
    {
      "cell_type": "markdown",
      "metadata": {
        "id": "xNq-XQWWYNXh"
      },
      "source": [
        "# **Computational Drug Discovery - Comparing Regressors**\n",
        "\n",
        "In **Part 5**, I will be comparing several ML algorithms for build regression models of sodium/glucose cotransporter 2 (SGLT2) inhibitors.\n",
        "\n",
        "---"
      ]
    },
    {
      "cell_type": "markdown",
      "metadata": {
        "id": "OnVZXG7QY1D2"
      },
      "source": [
        "## **Import libraries**"
      ]
    },
    {
      "cell_type": "code",
      "execution_count": 1,
      "metadata": {
        "colab": {
          "base_uri": "https://localhost:8080/"
        },
        "id": "Vf73M_f9XwZ7",
        "outputId": "4256ee85-6e74-4322-fa05-9e79a1779dfd"
      },
      "outputs": [
        {
          "ename": "AttributeError",
          "evalue": "module 'numpy' has no attribute 'float'.\n`np.float` was a deprecated alias for the builtin `float`. To avoid this error in existing code, use `float` by itself. Doing this will not modify any behavior and is safe. If you specifically wanted the numpy scalar type, use `np.float64` here.\nThe aliases was originally deprecated in NumPy 1.20; for more details and guidance see the original release note at:\n    https://numpy.org/devdocs/release/1.20.0-notes.html#deprecations",
          "output_type": "error",
          "traceback": [
            "\u001b[0;31m---------------------------------------------------------------------------\u001b[0m",
            "\u001b[0;31mAttributeError\u001b[0m                            Traceback (most recent call last)",
            "\u001b[1;32m/Users/sarahzorome/Desktop/bioinformatics_cdd/notebooks/CDD_ML_Part_5_SGLT2_Compare_Regressors.ipynb Cell 3\u001b[0m line \u001b[0;36m4\n\u001b[1;32m      <a href='vscode-notebook-cell:/Users/sarahzorome/Desktop/bioinformatics_cdd/notebooks/CDD_ML_Part_5_SGLT2_Compare_Regressors.ipynb#W2sZmlsZQ%3D%3D?line=1'>2</a>\u001b[0m \u001b[39mimport\u001b[39;00m \u001b[39mseaborn\u001b[39;00m \u001b[39mas\u001b[39;00m \u001b[39msns\u001b[39;00m\n\u001b[1;32m      <a href='vscode-notebook-cell:/Users/sarahzorome/Desktop/bioinformatics_cdd/notebooks/CDD_ML_Part_5_SGLT2_Compare_Regressors.ipynb#W2sZmlsZQ%3D%3D?line=2'>3</a>\u001b[0m \u001b[39mfrom\u001b[39;00m \u001b[39msklearn\u001b[39;00m\u001b[39m.\u001b[39;00m\u001b[39mmodel_selection\u001b[39;00m \u001b[39mimport\u001b[39;00m train_test_split\n\u001b[0;32m----> <a href='vscode-notebook-cell:/Users/sarahzorome/Desktop/bioinformatics_cdd/notebooks/CDD_ML_Part_5_SGLT2_Compare_Regressors.ipynb#W2sZmlsZQ%3D%3D?line=3'>4</a>\u001b[0m \u001b[39mfrom\u001b[39;00m \u001b[39mlazypredict\u001b[39;00m\u001b[39m.\u001b[39;00m\u001b[39mSupervised\u001b[39;00m \u001b[39mimport\u001b[39;00m LazyRegressor\n",
            "File \u001b[0;32m~/Library/Python/3.8/lib/python/site-packages/lazypredict/Supervised.py:12\u001b[0m\n\u001b[1;32m     10\u001b[0m \u001b[39mimport\u001b[39;00m \u001b[39mtime\u001b[39;00m\n\u001b[1;32m     11\u001b[0m \u001b[39mfrom\u001b[39;00m \u001b[39msklearn\u001b[39;00m\u001b[39m.\u001b[39;00m\u001b[39mpipeline\u001b[39;00m \u001b[39mimport\u001b[39;00m Pipeline\n\u001b[0;32m---> 12\u001b[0m \u001b[39mfrom\u001b[39;00m \u001b[39msklearn\u001b[39;00m\u001b[39m.\u001b[39;00m\u001b[39mimpute\u001b[39;00m \u001b[39mimport\u001b[39;00m SimpleImputer, MissingIndicator\n\u001b[1;32m     13\u001b[0m \u001b[39mfrom\u001b[39;00m \u001b[39msklearn\u001b[39;00m\u001b[39m.\u001b[39;00m\u001b[39mpreprocessing\u001b[39;00m \u001b[39mimport\u001b[39;00m StandardScaler, OneHotEncoder, OrdinalEncoder\n\u001b[1;32m     14\u001b[0m \u001b[39mfrom\u001b[39;00m \u001b[39msklearn\u001b[39;00m\u001b[39m.\u001b[39;00m\u001b[39mcompose\u001b[39;00m \u001b[39mimport\u001b[39;00m ColumnTransformer\n",
            "File \u001b[0;32m~/Library/Python/3.8/lib/python/site-packages/sklearn/impute/__init__.py:5\u001b[0m\n\u001b[1;32m      2\u001b[0m \u001b[39mimport\u001b[39;00m \u001b[39mtyping\u001b[39;00m\n\u001b[1;32m      4\u001b[0m \u001b[39mfrom\u001b[39;00m \u001b[39m.\u001b[39;00m\u001b[39m_base\u001b[39;00m \u001b[39mimport\u001b[39;00m MissingIndicator, SimpleImputer\n\u001b[0;32m----> 5\u001b[0m \u001b[39mfrom\u001b[39;00m \u001b[39m.\u001b[39;00m\u001b[39m_knn\u001b[39;00m \u001b[39mimport\u001b[39;00m KNNImputer\n\u001b[1;32m      7\u001b[0m \u001b[39mif\u001b[39;00m typing\u001b[39m.\u001b[39mTYPE_CHECKING:\n\u001b[1;32m      8\u001b[0m     \u001b[39m# Avoid errors in type checkers (e.g. mypy) for experimental estimators.\u001b[39;00m\n\u001b[1;32m      9\u001b[0m     \u001b[39m# TODO: remove this check once the estimator is no longer experimental.\u001b[39;00m\n\u001b[1;32m     10\u001b[0m     \u001b[39mfrom\u001b[39;00m \u001b[39m.\u001b[39;00m\u001b[39m_iterative\u001b[39;00m \u001b[39mimport\u001b[39;00m IterativeImputer  \u001b[39m# noqa\u001b[39;00m\n",
            "File \u001b[0;32m~/Library/Python/3.8/lib/python/site-packages/sklearn/impute/_knn.py:11\u001b[0m\n\u001b[1;32m      9\u001b[0m \u001b[39mfrom\u001b[39;00m \u001b[39m.\u001b[39;00m\u001b[39m.\u001b[39;00m\u001b[39mmetrics\u001b[39;00m \u001b[39mimport\u001b[39;00m pairwise_distances_chunked\n\u001b[1;32m     10\u001b[0m \u001b[39mfrom\u001b[39;00m \u001b[39m.\u001b[39;00m\u001b[39m.\u001b[39;00m\u001b[39mmetrics\u001b[39;00m\u001b[39m.\u001b[39;00m\u001b[39mpairwise\u001b[39;00m \u001b[39mimport\u001b[39;00m _NAN_METRICS\n\u001b[0;32m---> 11\u001b[0m \u001b[39mfrom\u001b[39;00m \u001b[39m.\u001b[39;00m\u001b[39m.\u001b[39;00m\u001b[39mneighbors\u001b[39;00m\u001b[39m.\u001b[39;00m\u001b[39m_base\u001b[39;00m \u001b[39mimport\u001b[39;00m _get_weights\n\u001b[1;32m     12\u001b[0m \u001b[39mfrom\u001b[39;00m \u001b[39m.\u001b[39;00m\u001b[39m.\u001b[39;00m\u001b[39mneighbors\u001b[39;00m\u001b[39m.\u001b[39;00m\u001b[39m_base\u001b[39;00m \u001b[39mimport\u001b[39;00m _check_weights\n\u001b[1;32m     13\u001b[0m \u001b[39mfrom\u001b[39;00m \u001b[39m.\u001b[39;00m\u001b[39m.\u001b[39;00m\u001b[39mutils\u001b[39;00m \u001b[39mimport\u001b[39;00m check_array\n",
            "File \u001b[0;32m~/Library/Python/3.8/lib/python/site-packages/sklearn/neighbors/__init__.py:17\u001b[0m\n\u001b[1;32m     15\u001b[0m \u001b[39mfrom\u001b[39;00m \u001b[39m.\u001b[39;00m\u001b[39m_kde\u001b[39;00m \u001b[39mimport\u001b[39;00m KernelDensity\n\u001b[1;32m     16\u001b[0m \u001b[39mfrom\u001b[39;00m \u001b[39m.\u001b[39;00m\u001b[39m_lof\u001b[39;00m \u001b[39mimport\u001b[39;00m LocalOutlierFactor\n\u001b[0;32m---> 17\u001b[0m \u001b[39mfrom\u001b[39;00m \u001b[39m.\u001b[39;00m\u001b[39m_nca\u001b[39;00m \u001b[39mimport\u001b[39;00m NeighborhoodComponentsAnalysis\n\u001b[1;32m     18\u001b[0m \u001b[39mfrom\u001b[39;00m \u001b[39m.\u001b[39;00m\u001b[39m_base\u001b[39;00m \u001b[39mimport\u001b[39;00m VALID_METRICS, VALID_METRICS_SPARSE\n\u001b[1;32m     20\u001b[0m __all__ \u001b[39m=\u001b[39m [\u001b[39m'\u001b[39m\u001b[39mBallTree\u001b[39m\u001b[39m'\u001b[39m,\n\u001b[1;32m     21\u001b[0m            \u001b[39m'\u001b[39m\u001b[39mDistanceMetric\u001b[39m\u001b[39m'\u001b[39m,\n\u001b[1;32m     22\u001b[0m            \u001b[39m'\u001b[39m\u001b[39mKDTree\u001b[39m\u001b[39m'\u001b[39m,\n\u001b[0;32m   (...)\u001b[0m\n\u001b[1;32m     36\u001b[0m            \u001b[39m'\u001b[39m\u001b[39mVALID_METRICS\u001b[39m\u001b[39m'\u001b[39m,\n\u001b[1;32m     37\u001b[0m            \u001b[39m'\u001b[39m\u001b[39mVALID_METRICS_SPARSE\u001b[39m\u001b[39m'\u001b[39m]\n",
            "File \u001b[0;32m~/Library/Python/3.8/lib/python/site-packages/sklearn/neighbors/_nca.py:22\u001b[0m\n\u001b[1;32m     20\u001b[0m \u001b[39mfrom\u001b[39;00m \u001b[39m.\u001b[39;00m\u001b[39m.\u001b[39;00m\u001b[39mbase\u001b[39;00m \u001b[39mimport\u001b[39;00m BaseEstimator, TransformerMixin\n\u001b[1;32m     21\u001b[0m \u001b[39mfrom\u001b[39;00m \u001b[39m.\u001b[39;00m\u001b[39m.\u001b[39;00m\u001b[39mpreprocessing\u001b[39;00m \u001b[39mimport\u001b[39;00m LabelEncoder\n\u001b[0;32m---> 22\u001b[0m \u001b[39mfrom\u001b[39;00m \u001b[39m.\u001b[39;00m\u001b[39m.\u001b[39;00m\u001b[39mdecomposition\u001b[39;00m \u001b[39mimport\u001b[39;00m PCA\n\u001b[1;32m     23\u001b[0m \u001b[39mfrom\u001b[39;00m \u001b[39m.\u001b[39;00m\u001b[39m.\u001b[39;00m\u001b[39mutils\u001b[39;00m\u001b[39m.\u001b[39;00m\u001b[39mmulticlass\u001b[39;00m \u001b[39mimport\u001b[39;00m check_classification_targets\n\u001b[1;32m     24\u001b[0m \u001b[39mfrom\u001b[39;00m \u001b[39m.\u001b[39;00m\u001b[39m.\u001b[39;00m\u001b[39mutils\u001b[39;00m\u001b[39m.\u001b[39;00m\u001b[39mrandom\u001b[39;00m \u001b[39mimport\u001b[39;00m check_random_state\n",
            "File \u001b[0;32m~/Library/Python/3.8/lib/python/site-packages/sklearn/decomposition/__init__.py:17\u001b[0m\n\u001b[1;32m     15\u001b[0m \u001b[39mwith\u001b[39;00m warnings\u001b[39m.\u001b[39mcatch_warnings():\n\u001b[1;32m     16\u001b[0m     warnings\u001b[39m.\u001b[39msimplefilter(\u001b[39m\"\u001b[39m\u001b[39mignore\u001b[39m\u001b[39m\"\u001b[39m, category\u001b[39m=\u001b[39m\u001b[39mFutureWarning\u001b[39;00m)\n\u001b[0;32m---> 17\u001b[0m     \u001b[39mfrom\u001b[39;00m \u001b[39m.\u001b[39;00m\u001b[39mdict_learning\u001b[39;00m \u001b[39mimport\u001b[39;00m dict_learning\n\u001b[1;32m     20\u001b[0m \u001b[39mfrom\u001b[39;00m \u001b[39m.\u001b[39;00m\u001b[39m_nmf\u001b[39;00m \u001b[39mimport\u001b[39;00m NMF, non_negative_factorization  \u001b[39m# noqa\u001b[39;00m\n\u001b[1;32m     21\u001b[0m \u001b[39mfrom\u001b[39;00m \u001b[39m.\u001b[39;00m\u001b[39m_pca\u001b[39;00m \u001b[39mimport\u001b[39;00m PCA  \u001b[39m# noqa\u001b[39;00m\n",
            "File \u001b[0;32m~/Library/Python/3.8/lib/python/site-packages/sklearn/decomposition/dict_learning.py:5\u001b[0m\n\u001b[1;32m      3\u001b[0m \u001b[39mimport\u001b[39;00m \u001b[39msys\u001b[39;00m\n\u001b[1;32m      4\u001b[0m \u001b[39m# mypy error: Module X has no attribute y (typically for C extensions)\u001b[39;00m\n\u001b[0;32m----> 5\u001b[0m \u001b[39mfrom\u001b[39;00m \u001b[39m.\u001b[39;00m \u001b[39mimport\u001b[39;00m _dict_learning  \u001b[39m# type: ignore\u001b[39;00m\n\u001b[1;32m      6\u001b[0m \u001b[39mfrom\u001b[39;00m \u001b[39m.\u001b[39;00m\u001b[39m.\u001b[39;00m\u001b[39mexternals\u001b[39;00m\u001b[39m.\u001b[39;00m\u001b[39m_pep562\u001b[39;00m \u001b[39mimport\u001b[39;00m Pep562\n\u001b[1;32m      7\u001b[0m \u001b[39mfrom\u001b[39;00m \u001b[39m.\u001b[39;00m\u001b[39m.\u001b[39;00m\u001b[39mutils\u001b[39;00m\u001b[39m.\u001b[39;00m\u001b[39mdeprecation\u001b[39;00m \u001b[39mimport\u001b[39;00m _raise_dep_warning_if_not_pytest\n",
            "File \u001b[0;32m~/Library/Python/3.8/lib/python/site-packages/sklearn/decomposition/_dict_learning.py:21\u001b[0m\n\u001b[1;32m     19\u001b[0m \u001b[39mfrom\u001b[39;00m \u001b[39m.\u001b[39;00m\u001b[39m.\u001b[39;00m\u001b[39mutils\u001b[39;00m\u001b[39m.\u001b[39;00m\u001b[39mextmath\u001b[39;00m \u001b[39mimport\u001b[39;00m randomized_svd, row_norms\n\u001b[1;32m     20\u001b[0m \u001b[39mfrom\u001b[39;00m \u001b[39m.\u001b[39;00m\u001b[39m.\u001b[39;00m\u001b[39mutils\u001b[39;00m\u001b[39m.\u001b[39;00m\u001b[39mvalidation\u001b[39;00m \u001b[39mimport\u001b[39;00m check_is_fitted, _deprecate_positional_args\n\u001b[0;32m---> 21\u001b[0m \u001b[39mfrom\u001b[39;00m \u001b[39m.\u001b[39;00m\u001b[39m.\u001b[39;00m\u001b[39mlinear_model\u001b[39;00m \u001b[39mimport\u001b[39;00m Lasso, orthogonal_mp_gram, LassoLars, Lars\n\u001b[1;32m     24\u001b[0m \u001b[39mdef\u001b[39;00m \u001b[39m_check_positive_coding\u001b[39m(method, positive):\n\u001b[1;32m     25\u001b[0m     \u001b[39mif\u001b[39;00m positive \u001b[39mand\u001b[39;00m method \u001b[39min\u001b[39;00m [\u001b[39m\"\u001b[39m\u001b[39momp\u001b[39m\u001b[39m\"\u001b[39m, \u001b[39m\"\u001b[39m\u001b[39mlars\u001b[39m\u001b[39m\"\u001b[39m]:\n",
            "File \u001b[0;32m~/Library/Python/3.8/lib/python/site-packages/sklearn/linear_model/__init__.py:11\u001b[0m\n\u001b[1;32m      9\u001b[0m \u001b[39mfrom\u001b[39;00m \u001b[39m.\u001b[39;00m\u001b[39m_base\u001b[39;00m \u001b[39mimport\u001b[39;00m LinearRegression\n\u001b[1;32m     10\u001b[0m \u001b[39mfrom\u001b[39;00m \u001b[39m.\u001b[39;00m\u001b[39m_bayes\u001b[39;00m \u001b[39mimport\u001b[39;00m BayesianRidge, ARDRegression\n\u001b[0;32m---> 11\u001b[0m \u001b[39mfrom\u001b[39;00m \u001b[39m.\u001b[39;00m\u001b[39m_least_angle\u001b[39;00m \u001b[39mimport\u001b[39;00m (Lars, LassoLars, lars_path, lars_path_gram, LarsCV,\n\u001b[1;32m     12\u001b[0m                            LassoLarsCV, LassoLarsIC)\n\u001b[1;32m     13\u001b[0m \u001b[39mfrom\u001b[39;00m \u001b[39m.\u001b[39;00m\u001b[39m_coordinate_descent\u001b[39;00m \u001b[39mimport\u001b[39;00m (Lasso, ElasticNet, LassoCV, ElasticNetCV,\n\u001b[1;32m     14\u001b[0m                                   lasso_path, enet_path, MultiTaskLasso,\n\u001b[1;32m     15\u001b[0m                                   MultiTaskElasticNet, MultiTaskElasticNetCV,\n\u001b[1;32m     16\u001b[0m                                   MultiTaskLassoCV)\n\u001b[1;32m     17\u001b[0m \u001b[39mfrom\u001b[39;00m \u001b[39m.\u001b[39;00m\u001b[39m_glm\u001b[39;00m \u001b[39mimport\u001b[39;00m (PoissonRegressor,\n\u001b[1;32m     18\u001b[0m                    GammaRegressor, TweedieRegressor)\n",
            "File \u001b[0;32m~/Library/Python/3.8/lib/python/site-packages/sklearn/linear_model/_least_angle.py:34\u001b[0m\n\u001b[1;32m     27\u001b[0m \u001b[39mfrom\u001b[39;00m \u001b[39m.\u001b[39;00m\u001b[39m.\u001b[39;00m\u001b[39mutils\u001b[39;00m\u001b[39m.\u001b[39;00m\u001b[39mvalidation\u001b[39;00m \u001b[39mimport\u001b[39;00m _deprecate_positional_args\n\u001b[1;32m     29\u001b[0m SOLVE_TRIANGULAR_ARGS \u001b[39m=\u001b[39m {\u001b[39m'\u001b[39m\u001b[39mcheck_finite\u001b[39m\u001b[39m'\u001b[39m: \u001b[39mFalse\u001b[39;00m}\n\u001b[1;32m     32\u001b[0m \u001b[39m@_deprecate_positional_args\u001b[39m\n\u001b[1;32m     33\u001b[0m \u001b[39mdef\u001b[39;00m \u001b[39mlars_path\u001b[39m(X, y, Xy\u001b[39m=\u001b[39m\u001b[39mNone\u001b[39;00m, \u001b[39m*\u001b[39m, Gram\u001b[39m=\u001b[39m\u001b[39mNone\u001b[39;00m, max_iter\u001b[39m=\u001b[39m\u001b[39m500\u001b[39m, alpha_min\u001b[39m=\u001b[39m\u001b[39m0\u001b[39m,\n\u001b[0;32m---> 34\u001b[0m               method\u001b[39m=\u001b[39m\u001b[39m'\u001b[39m\u001b[39mlar\u001b[39m\u001b[39m'\u001b[39m, copy_X\u001b[39m=\u001b[39m\u001b[39mTrue\u001b[39;00m, eps\u001b[39m=\u001b[39mnp\u001b[39m.\u001b[39mfinfo(np\u001b[39m.\u001b[39;49mfloat)\u001b[39m.\u001b[39meps,\n\u001b[1;32m     35\u001b[0m               copy_Gram\u001b[39m=\u001b[39m\u001b[39mTrue\u001b[39;00m, verbose\u001b[39m=\u001b[39m\u001b[39m0\u001b[39m, return_path\u001b[39m=\u001b[39m\u001b[39mTrue\u001b[39;00m,\n\u001b[1;32m     36\u001b[0m               return_n_iter\u001b[39m=\u001b[39m\u001b[39mFalse\u001b[39;00m, positive\u001b[39m=\u001b[39m\u001b[39mFalse\u001b[39;00m):\n\u001b[1;32m     37\u001b[0m \u001b[39m    \u001b[39m\u001b[39m\"\"\"Compute Least Angle Regression or Lasso path using LARS algorithm [1]\u001b[39;00m\n\u001b[1;32m     38\u001b[0m \n\u001b[1;32m     39\u001b[0m \u001b[39m    The optimization objective for the case method='lasso' is::\u001b[39;00m\n\u001b[0;32m   (...)\u001b[0m\n\u001b[1;32m    148\u001b[0m \n\u001b[1;32m    149\u001b[0m \u001b[39m    \"\"\"\u001b[39;00m\n\u001b[1;32m    150\u001b[0m     \u001b[39mif\u001b[39;00m X \u001b[39mis\u001b[39;00m \u001b[39mNone\u001b[39;00m \u001b[39mand\u001b[39;00m Gram \u001b[39mis\u001b[39;00m \u001b[39mnot\u001b[39;00m \u001b[39mNone\u001b[39;00m:\n",
            "File \u001b[0;32m~/Library/Python/3.8/lib/python/site-packages/numpy/__init__.py:305\u001b[0m, in \u001b[0;36m__getattr__\u001b[0;34m(attr)\u001b[0m\n\u001b[1;32m    300\u001b[0m     warnings\u001b[39m.\u001b[39mwarn(\n\u001b[1;32m    301\u001b[0m         \u001b[39mf\u001b[39m\u001b[39m\"\u001b[39m\u001b[39mIn the future `np.\u001b[39m\u001b[39m{\u001b[39;00mattr\u001b[39m}\u001b[39;00m\u001b[39m` will be defined as the \u001b[39m\u001b[39m\"\u001b[39m\n\u001b[1;32m    302\u001b[0m         \u001b[39m\"\u001b[39m\u001b[39mcorresponding NumPy scalar.\u001b[39m\u001b[39m\"\u001b[39m, \u001b[39mFutureWarning\u001b[39;00m, stacklevel\u001b[39m=\u001b[39m\u001b[39m2\u001b[39m)\n\u001b[1;32m    304\u001b[0m \u001b[39mif\u001b[39;00m attr \u001b[39min\u001b[39;00m __former_attrs__:\n\u001b[0;32m--> 305\u001b[0m     \u001b[39mraise\u001b[39;00m \u001b[39mAttributeError\u001b[39;00m(__former_attrs__[attr])\n\u001b[1;32m    307\u001b[0m \u001b[39m# Importing Tester requires importing all of UnitTest which is not a\u001b[39;00m\n\u001b[1;32m    308\u001b[0m \u001b[39m# cheap import Since it is mainly used in test suits, we lazy import it\u001b[39;00m\n\u001b[1;32m    309\u001b[0m \u001b[39m# here to save on the order of 10 ms of import time for most users\u001b[39;00m\n\u001b[1;32m    310\u001b[0m \u001b[39m#\u001b[39;00m\n\u001b[1;32m    311\u001b[0m \u001b[39m# The previous way Tester was imported also had a side effect of adding\u001b[39;00m\n\u001b[1;32m    312\u001b[0m \u001b[39m# the full `numpy.testing` namespace\u001b[39;00m\n\u001b[1;32m    313\u001b[0m \u001b[39mif\u001b[39;00m attr \u001b[39m==\u001b[39m \u001b[39m'\u001b[39m\u001b[39mtesting\u001b[39m\u001b[39m'\u001b[39m:\n",
            "\u001b[0;31mAttributeError\u001b[0m: module 'numpy' has no attribute 'float'.\n`np.float` was a deprecated alias for the builtin `float`. To avoid this error in existing code, use `float` by itself. Doing this will not modify any behavior and is safe. If you specifically wanted the numpy scalar type, use `np.float64` here.\nThe aliases was originally deprecated in NumPy 1.20; for more details and guidance see the original release note at:\n    https://numpy.org/devdocs/release/1.20.0-notes.html#deprecations"
          ]
        }
      ],
      "source": [
        "import pandas as pd\n",
        "import seaborn as sns\n",
        "from sklearn.model_selection import train_test_split\n",
        "from lazypredict.Supervised import LazyRegressor"
      ]
    },
    {
      "cell_type": "markdown",
      "metadata": {
        "id": "lUGwBVH7Y8Rq"
      },
      "source": [
        "## **Load the dataset**"
      ]
    },
    {
      "cell_type": "code",
      "execution_count": null,
      "metadata": {
        "id": "WVojHjyWZC9D"
      },
      "outputs": [],
      "source": [
        "df = pd.read_csv('../data/SGLT2_06_bioactivity_data_3class_pIC50_pubchem_fp.csv')"
      ]
    },
    {
      "cell_type": "code",
      "execution_count": null,
      "metadata": {
        "id": "KbTq4zzKZpVf"
      },
      "outputs": [],
      "source": [
        "X = df.drop('pIC50', axis=1)\n",
        "Y = df.pIC50"
      ]
    },
    {
      "cell_type": "markdown",
      "metadata": {
        "id": "7Qa6WSGGZ39n"
      },
      "source": [
        "## **Data pre-processing**"
      ]
    },
    {
      "cell_type": "code",
      "execution_count": null,
      "metadata": {
        "colab": {
          "base_uri": "https://localhost:8080/"
        },
        "id": "CtC4SWpBaCVQ",
        "outputId": "1008b65f-5b93-423a-b2bf-0695dc2014ec"
      },
      "outputs": [
        {
          "data": {
            "text/plain": [
              "(4695, 881)"
            ]
          },
          "execution_count": 18,
          "metadata": {},
          "output_type": "execute_result"
        }
      ],
      "source": [
        "# Examine X dimension\n",
        "X.shape"
      ]
    },
    {
      "cell_type": "code",
      "execution_count": null,
      "metadata": {
        "colab": {
          "base_uri": "https://localhost:8080/"
        },
        "id": "mVHzT2f5Z8sF",
        "outputId": "66fc3cdb-2f97-4694-b915-58c95a49b3d2"
      },
      "outputs": [
        {
          "ename": "AttributeError",
          "evalue": "module 'numpy' has no attribute 'float'.\n`np.float` was a deprecated alias for the builtin `float`. To avoid this error in existing code, use `float` by itself. Doing this will not modify any behavior and is safe. If you specifically wanted the numpy scalar type, use `np.float64` here.\nThe aliases was originally deprecated in NumPy 1.20; for more details and guidance see the original release note at:\n    https://numpy.org/devdocs/release/1.20.0-notes.html#deprecations",
          "output_type": "error",
          "traceback": [
            "\u001b[0;31m---------------------------------------------------------------------------\u001b[0m",
            "\u001b[0;31mAttributeError\u001b[0m                            Traceback (most recent call last)",
            "\u001b[1;32m/Users/sarahzorome/Desktop/bioinformatics_cdd/notebooks/CDD_ML_Part_5_SGLT2_Compare_Regressors.ipynb Cell 9\u001b[0m line \u001b[0;36m2\n\u001b[1;32m      <a href='vscode-notebook-cell:/Users/sarahzorome/Desktop/bioinformatics_cdd/notebooks/CDD_ML_Part_5_SGLT2_Compare_Regressors.ipynb#X11sZmlsZQ%3D%3D?line=0'>1</a>\u001b[0m \u001b[39m# Remove low variance features\u001b[39;00m\n\u001b[0;32m----> <a href='vscode-notebook-cell:/Users/sarahzorome/Desktop/bioinformatics_cdd/notebooks/CDD_ML_Part_5_SGLT2_Compare_Regressors.ipynb#X11sZmlsZQ%3D%3D?line=1'>2</a>\u001b[0m \u001b[39mfrom\u001b[39;00m \u001b[39msklearn\u001b[39;00m\u001b[39m.\u001b[39;00m\u001b[39mfeature_selection\u001b[39;00m \u001b[39mimport\u001b[39;00m VarianceThreshold\n\u001b[1;32m      <a href='vscode-notebook-cell:/Users/sarahzorome/Desktop/bioinformatics_cdd/notebooks/CDD_ML_Part_5_SGLT2_Compare_Regressors.ipynb#X11sZmlsZQ%3D%3D?line=2'>3</a>\u001b[0m selection \u001b[39m=\u001b[39m VarianceThreshold(threshold\u001b[39m=\u001b[39m(\u001b[39m.8\u001b[39m \u001b[39m*\u001b[39m (\u001b[39m1\u001b[39m \u001b[39m-\u001b[39m \u001b[39m.8\u001b[39m)))    \n\u001b[1;32m      <a href='vscode-notebook-cell:/Users/sarahzorome/Desktop/bioinformatics_cdd/notebooks/CDD_ML_Part_5_SGLT2_Compare_Regressors.ipynb#X11sZmlsZQ%3D%3D?line=3'>4</a>\u001b[0m X \u001b[39m=\u001b[39m selection\u001b[39m.\u001b[39mfit_transform(X)\n",
            "File \u001b[0;32m~/Library/Python/3.8/lib/python/site-packages/sklearn/feature_selection/__init__.py:25\u001b[0m\n\u001b[1;32m     21\u001b[0m \u001b[39mfrom\u001b[39;00m \u001b[39m.\u001b[39;00m\u001b[39m_rfe\u001b[39;00m \u001b[39mimport\u001b[39;00m RFECV\n\u001b[1;32m     23\u001b[0m \u001b[39mfrom\u001b[39;00m \u001b[39m.\u001b[39;00m\u001b[39m_from_model\u001b[39;00m \u001b[39mimport\u001b[39;00m SelectFromModel\n\u001b[0;32m---> 25\u001b[0m \u001b[39mfrom\u001b[39;00m \u001b[39m.\u001b[39;00m\u001b[39m_mutual_info\u001b[39;00m \u001b[39mimport\u001b[39;00m mutual_info_regression, mutual_info_classif\n\u001b[1;32m     27\u001b[0m \u001b[39mfrom\u001b[39;00m \u001b[39m.\u001b[39;00m\u001b[39m_base\u001b[39;00m \u001b[39mimport\u001b[39;00m SelectorMixin\n\u001b[1;32m     30\u001b[0m __all__ \u001b[39m=\u001b[39m [\u001b[39m'\u001b[39m\u001b[39mGenericUnivariateSelect\u001b[39m\u001b[39m'\u001b[39m,\n\u001b[1;32m     31\u001b[0m            \u001b[39m'\u001b[39m\u001b[39mRFE\u001b[39m\u001b[39m'\u001b[39m,\n\u001b[1;32m     32\u001b[0m            \u001b[39m'\u001b[39m\u001b[39mRFECV\u001b[39m\u001b[39m'\u001b[39m,\n\u001b[0;32m   (...)\u001b[0m\n\u001b[1;32m     45\u001b[0m            \u001b[39m'\u001b[39m\u001b[39mmutual_info_regression\u001b[39m\u001b[39m'\u001b[39m,\n\u001b[1;32m     46\u001b[0m            \u001b[39m'\u001b[39m\u001b[39mSelectorMixin\u001b[39m\u001b[39m'\u001b[39m]\n",
            "File \u001b[0;32m~/Library/Python/3.8/lib/python/site-packages/sklearn/feature_selection/_mutual_info.py:9\u001b[0m\n\u001b[1;32m      6\u001b[0m \u001b[39mfrom\u001b[39;00m \u001b[39mscipy\u001b[39;00m\u001b[39m.\u001b[39;00m\u001b[39mspecial\u001b[39;00m \u001b[39mimport\u001b[39;00m digamma\n\u001b[1;32m      8\u001b[0m \u001b[39mfrom\u001b[39;00m \u001b[39m.\u001b[39;00m\u001b[39m.\u001b[39;00m\u001b[39mmetrics\u001b[39;00m\u001b[39m.\u001b[39;00m\u001b[39mcluster\u001b[39;00m \u001b[39mimport\u001b[39;00m mutual_info_score\n\u001b[0;32m----> 9\u001b[0m \u001b[39mfrom\u001b[39;00m \u001b[39m.\u001b[39;00m\u001b[39m.\u001b[39;00m\u001b[39mneighbors\u001b[39;00m \u001b[39mimport\u001b[39;00m NearestNeighbors\n\u001b[1;32m     10\u001b[0m \u001b[39mfrom\u001b[39;00m \u001b[39m.\u001b[39;00m\u001b[39m.\u001b[39;00m\u001b[39mpreprocessing\u001b[39;00m \u001b[39mimport\u001b[39;00m scale\n\u001b[1;32m     11\u001b[0m \u001b[39mfrom\u001b[39;00m \u001b[39m.\u001b[39;00m\u001b[39m.\u001b[39;00m\u001b[39mutils\u001b[39;00m \u001b[39mimport\u001b[39;00m check_random_state\n",
            "File \u001b[0;32m~/Library/Python/3.8/lib/python/site-packages/sklearn/neighbors/__init__.py:17\u001b[0m\n\u001b[1;32m     15\u001b[0m \u001b[39mfrom\u001b[39;00m \u001b[39m.\u001b[39;00m\u001b[39m_kde\u001b[39;00m \u001b[39mimport\u001b[39;00m KernelDensity\n\u001b[1;32m     16\u001b[0m \u001b[39mfrom\u001b[39;00m \u001b[39m.\u001b[39;00m\u001b[39m_lof\u001b[39;00m \u001b[39mimport\u001b[39;00m LocalOutlierFactor\n\u001b[0;32m---> 17\u001b[0m \u001b[39mfrom\u001b[39;00m \u001b[39m.\u001b[39;00m\u001b[39m_nca\u001b[39;00m \u001b[39mimport\u001b[39;00m NeighborhoodComponentsAnalysis\n\u001b[1;32m     18\u001b[0m \u001b[39mfrom\u001b[39;00m \u001b[39m.\u001b[39;00m\u001b[39m_base\u001b[39;00m \u001b[39mimport\u001b[39;00m VALID_METRICS, VALID_METRICS_SPARSE\n\u001b[1;32m     20\u001b[0m __all__ \u001b[39m=\u001b[39m [\u001b[39m'\u001b[39m\u001b[39mBallTree\u001b[39m\u001b[39m'\u001b[39m,\n\u001b[1;32m     21\u001b[0m            \u001b[39m'\u001b[39m\u001b[39mDistanceMetric\u001b[39m\u001b[39m'\u001b[39m,\n\u001b[1;32m     22\u001b[0m            \u001b[39m'\u001b[39m\u001b[39mKDTree\u001b[39m\u001b[39m'\u001b[39m,\n\u001b[0;32m   (...)\u001b[0m\n\u001b[1;32m     36\u001b[0m            \u001b[39m'\u001b[39m\u001b[39mVALID_METRICS\u001b[39m\u001b[39m'\u001b[39m,\n\u001b[1;32m     37\u001b[0m            \u001b[39m'\u001b[39m\u001b[39mVALID_METRICS_SPARSE\u001b[39m\u001b[39m'\u001b[39m]\n",
            "File \u001b[0;32m~/Library/Python/3.8/lib/python/site-packages/sklearn/neighbors/_nca.py:22\u001b[0m\n\u001b[1;32m     20\u001b[0m \u001b[39mfrom\u001b[39;00m \u001b[39m.\u001b[39;00m\u001b[39m.\u001b[39;00m\u001b[39mbase\u001b[39;00m \u001b[39mimport\u001b[39;00m BaseEstimator, TransformerMixin\n\u001b[1;32m     21\u001b[0m \u001b[39mfrom\u001b[39;00m \u001b[39m.\u001b[39;00m\u001b[39m.\u001b[39;00m\u001b[39mpreprocessing\u001b[39;00m \u001b[39mimport\u001b[39;00m LabelEncoder\n\u001b[0;32m---> 22\u001b[0m \u001b[39mfrom\u001b[39;00m \u001b[39m.\u001b[39;00m\u001b[39m.\u001b[39;00m\u001b[39mdecomposition\u001b[39;00m \u001b[39mimport\u001b[39;00m PCA\n\u001b[1;32m     23\u001b[0m \u001b[39mfrom\u001b[39;00m \u001b[39m.\u001b[39;00m\u001b[39m.\u001b[39;00m\u001b[39mutils\u001b[39;00m\u001b[39m.\u001b[39;00m\u001b[39mmulticlass\u001b[39;00m \u001b[39mimport\u001b[39;00m check_classification_targets\n\u001b[1;32m     24\u001b[0m \u001b[39mfrom\u001b[39;00m \u001b[39m.\u001b[39;00m\u001b[39m.\u001b[39;00m\u001b[39mutils\u001b[39;00m\u001b[39m.\u001b[39;00m\u001b[39mrandom\u001b[39;00m \u001b[39mimport\u001b[39;00m check_random_state\n",
            "File \u001b[0;32m~/Library/Python/3.8/lib/python/site-packages/sklearn/decomposition/__init__.py:17\u001b[0m\n\u001b[1;32m     15\u001b[0m \u001b[39mwith\u001b[39;00m warnings\u001b[39m.\u001b[39mcatch_warnings():\n\u001b[1;32m     16\u001b[0m     warnings\u001b[39m.\u001b[39msimplefilter(\u001b[39m\"\u001b[39m\u001b[39mignore\u001b[39m\u001b[39m\"\u001b[39m, category\u001b[39m=\u001b[39m\u001b[39mFutureWarning\u001b[39;00m)\n\u001b[0;32m---> 17\u001b[0m     \u001b[39mfrom\u001b[39;00m \u001b[39m.\u001b[39;00m\u001b[39mdict_learning\u001b[39;00m \u001b[39mimport\u001b[39;00m dict_learning\n\u001b[1;32m     20\u001b[0m \u001b[39mfrom\u001b[39;00m \u001b[39m.\u001b[39;00m\u001b[39m_nmf\u001b[39;00m \u001b[39mimport\u001b[39;00m NMF, non_negative_factorization  \u001b[39m# noqa\u001b[39;00m\n\u001b[1;32m     21\u001b[0m \u001b[39mfrom\u001b[39;00m \u001b[39m.\u001b[39;00m\u001b[39m_pca\u001b[39;00m \u001b[39mimport\u001b[39;00m PCA  \u001b[39m# noqa\u001b[39;00m\n",
            "File \u001b[0;32m~/Library/Python/3.8/lib/python/site-packages/sklearn/decomposition/dict_learning.py:5\u001b[0m\n\u001b[1;32m      3\u001b[0m \u001b[39mimport\u001b[39;00m \u001b[39msys\u001b[39;00m\n\u001b[1;32m      4\u001b[0m \u001b[39m# mypy error: Module X has no attribute y (typically for C extensions)\u001b[39;00m\n\u001b[0;32m----> 5\u001b[0m \u001b[39mfrom\u001b[39;00m \u001b[39m.\u001b[39;00m \u001b[39mimport\u001b[39;00m _dict_learning  \u001b[39m# type: ignore\u001b[39;00m\n\u001b[1;32m      6\u001b[0m \u001b[39mfrom\u001b[39;00m \u001b[39m.\u001b[39;00m\u001b[39m.\u001b[39;00m\u001b[39mexternals\u001b[39;00m\u001b[39m.\u001b[39;00m\u001b[39m_pep562\u001b[39;00m \u001b[39mimport\u001b[39;00m Pep562\n\u001b[1;32m      7\u001b[0m \u001b[39mfrom\u001b[39;00m \u001b[39m.\u001b[39;00m\u001b[39m.\u001b[39;00m\u001b[39mutils\u001b[39;00m\u001b[39m.\u001b[39;00m\u001b[39mdeprecation\u001b[39;00m \u001b[39mimport\u001b[39;00m _raise_dep_warning_if_not_pytest\n",
            "File \u001b[0;32m~/Library/Python/3.8/lib/python/site-packages/sklearn/decomposition/_dict_learning.py:21\u001b[0m\n\u001b[1;32m     19\u001b[0m \u001b[39mfrom\u001b[39;00m \u001b[39m.\u001b[39;00m\u001b[39m.\u001b[39;00m\u001b[39mutils\u001b[39;00m\u001b[39m.\u001b[39;00m\u001b[39mextmath\u001b[39;00m \u001b[39mimport\u001b[39;00m randomized_svd, row_norms\n\u001b[1;32m     20\u001b[0m \u001b[39mfrom\u001b[39;00m \u001b[39m.\u001b[39;00m\u001b[39m.\u001b[39;00m\u001b[39mutils\u001b[39;00m\u001b[39m.\u001b[39;00m\u001b[39mvalidation\u001b[39;00m \u001b[39mimport\u001b[39;00m check_is_fitted, _deprecate_positional_args\n\u001b[0;32m---> 21\u001b[0m \u001b[39mfrom\u001b[39;00m \u001b[39m.\u001b[39;00m\u001b[39m.\u001b[39;00m\u001b[39mlinear_model\u001b[39;00m \u001b[39mimport\u001b[39;00m Lasso, orthogonal_mp_gram, LassoLars, Lars\n\u001b[1;32m     24\u001b[0m \u001b[39mdef\u001b[39;00m \u001b[39m_check_positive_coding\u001b[39m(method, positive):\n\u001b[1;32m     25\u001b[0m     \u001b[39mif\u001b[39;00m positive \u001b[39mand\u001b[39;00m method \u001b[39min\u001b[39;00m [\u001b[39m\"\u001b[39m\u001b[39momp\u001b[39m\u001b[39m\"\u001b[39m, \u001b[39m\"\u001b[39m\u001b[39mlars\u001b[39m\u001b[39m\"\u001b[39m]:\n",
            "File \u001b[0;32m~/Library/Python/3.8/lib/python/site-packages/sklearn/linear_model/__init__.py:11\u001b[0m\n\u001b[1;32m      9\u001b[0m \u001b[39mfrom\u001b[39;00m \u001b[39m.\u001b[39;00m\u001b[39m_base\u001b[39;00m \u001b[39mimport\u001b[39;00m LinearRegression\n\u001b[1;32m     10\u001b[0m \u001b[39mfrom\u001b[39;00m \u001b[39m.\u001b[39;00m\u001b[39m_bayes\u001b[39;00m \u001b[39mimport\u001b[39;00m BayesianRidge, ARDRegression\n\u001b[0;32m---> 11\u001b[0m \u001b[39mfrom\u001b[39;00m \u001b[39m.\u001b[39;00m\u001b[39m_least_angle\u001b[39;00m \u001b[39mimport\u001b[39;00m (Lars, LassoLars, lars_path, lars_path_gram, LarsCV,\n\u001b[1;32m     12\u001b[0m                            LassoLarsCV, LassoLarsIC)\n\u001b[1;32m     13\u001b[0m \u001b[39mfrom\u001b[39;00m \u001b[39m.\u001b[39;00m\u001b[39m_coordinate_descent\u001b[39;00m \u001b[39mimport\u001b[39;00m (Lasso, ElasticNet, LassoCV, ElasticNetCV,\n\u001b[1;32m     14\u001b[0m                                   lasso_path, enet_path, MultiTaskLasso,\n\u001b[1;32m     15\u001b[0m                                   MultiTaskElasticNet, MultiTaskElasticNetCV,\n\u001b[1;32m     16\u001b[0m                                   MultiTaskLassoCV)\n\u001b[1;32m     17\u001b[0m \u001b[39mfrom\u001b[39;00m \u001b[39m.\u001b[39;00m\u001b[39m_glm\u001b[39;00m \u001b[39mimport\u001b[39;00m (PoissonRegressor,\n\u001b[1;32m     18\u001b[0m                    GammaRegressor, TweedieRegressor)\n",
            "File \u001b[0;32m~/Library/Python/3.8/lib/python/site-packages/sklearn/linear_model/_least_angle.py:34\u001b[0m\n\u001b[1;32m     27\u001b[0m \u001b[39mfrom\u001b[39;00m \u001b[39m.\u001b[39;00m\u001b[39m.\u001b[39;00m\u001b[39mutils\u001b[39;00m\u001b[39m.\u001b[39;00m\u001b[39mvalidation\u001b[39;00m \u001b[39mimport\u001b[39;00m _deprecate_positional_args\n\u001b[1;32m     29\u001b[0m SOLVE_TRIANGULAR_ARGS \u001b[39m=\u001b[39m {\u001b[39m'\u001b[39m\u001b[39mcheck_finite\u001b[39m\u001b[39m'\u001b[39m: \u001b[39mFalse\u001b[39;00m}\n\u001b[1;32m     32\u001b[0m \u001b[39m@_deprecate_positional_args\u001b[39m\n\u001b[1;32m     33\u001b[0m \u001b[39mdef\u001b[39;00m \u001b[39mlars_path\u001b[39m(X, y, Xy\u001b[39m=\u001b[39m\u001b[39mNone\u001b[39;00m, \u001b[39m*\u001b[39m, Gram\u001b[39m=\u001b[39m\u001b[39mNone\u001b[39;00m, max_iter\u001b[39m=\u001b[39m\u001b[39m500\u001b[39m, alpha_min\u001b[39m=\u001b[39m\u001b[39m0\u001b[39m,\n\u001b[0;32m---> 34\u001b[0m               method\u001b[39m=\u001b[39m\u001b[39m'\u001b[39m\u001b[39mlar\u001b[39m\u001b[39m'\u001b[39m, copy_X\u001b[39m=\u001b[39m\u001b[39mTrue\u001b[39;00m, eps\u001b[39m=\u001b[39mnp\u001b[39m.\u001b[39mfinfo(np\u001b[39m.\u001b[39;49mfloat)\u001b[39m.\u001b[39meps,\n\u001b[1;32m     35\u001b[0m               copy_Gram\u001b[39m=\u001b[39m\u001b[39mTrue\u001b[39;00m, verbose\u001b[39m=\u001b[39m\u001b[39m0\u001b[39m, return_path\u001b[39m=\u001b[39m\u001b[39mTrue\u001b[39;00m,\n\u001b[1;32m     36\u001b[0m               return_n_iter\u001b[39m=\u001b[39m\u001b[39mFalse\u001b[39;00m, positive\u001b[39m=\u001b[39m\u001b[39mFalse\u001b[39;00m):\n\u001b[1;32m     37\u001b[0m \u001b[39m    \u001b[39m\u001b[39m\"\"\"Compute Least Angle Regression or Lasso path using LARS algorithm [1]\u001b[39;00m\n\u001b[1;32m     38\u001b[0m \n\u001b[1;32m     39\u001b[0m \u001b[39m    The optimization objective for the case method='lasso' is::\u001b[39;00m\n\u001b[0;32m   (...)\u001b[0m\n\u001b[1;32m    148\u001b[0m \n\u001b[1;32m    149\u001b[0m \u001b[39m    \"\"\"\u001b[39;00m\n\u001b[1;32m    150\u001b[0m     \u001b[39mif\u001b[39;00m X \u001b[39mis\u001b[39;00m \u001b[39mNone\u001b[39;00m \u001b[39mand\u001b[39;00m Gram \u001b[39mis\u001b[39;00m \u001b[39mnot\u001b[39;00m \u001b[39mNone\u001b[39;00m:\n",
            "File \u001b[0;32m~/Library/Python/3.8/lib/python/site-packages/numpy/__init__.py:305\u001b[0m, in \u001b[0;36m__getattr__\u001b[0;34m(attr)\u001b[0m\n\u001b[1;32m    300\u001b[0m     warnings\u001b[39m.\u001b[39mwarn(\n\u001b[1;32m    301\u001b[0m         \u001b[39mf\u001b[39m\u001b[39m\"\u001b[39m\u001b[39mIn the future `np.\u001b[39m\u001b[39m{\u001b[39;00mattr\u001b[39m}\u001b[39;00m\u001b[39m` will be defined as the \u001b[39m\u001b[39m\"\u001b[39m\n\u001b[1;32m    302\u001b[0m         \u001b[39m\"\u001b[39m\u001b[39mcorresponding NumPy scalar.\u001b[39m\u001b[39m\"\u001b[39m, \u001b[39mFutureWarning\u001b[39;00m, stacklevel\u001b[39m=\u001b[39m\u001b[39m2\u001b[39m)\n\u001b[1;32m    304\u001b[0m \u001b[39mif\u001b[39;00m attr \u001b[39min\u001b[39;00m __former_attrs__:\n\u001b[0;32m--> 305\u001b[0m     \u001b[39mraise\u001b[39;00m \u001b[39mAttributeError\u001b[39;00m(__former_attrs__[attr])\n\u001b[1;32m    307\u001b[0m \u001b[39m# Importing Tester requires importing all of UnitTest which is not a\u001b[39;00m\n\u001b[1;32m    308\u001b[0m \u001b[39m# cheap import Since it is mainly used in test suits, we lazy import it\u001b[39;00m\n\u001b[1;32m    309\u001b[0m \u001b[39m# here to save on the order of 10 ms of import time for most users\u001b[39;00m\n\u001b[1;32m    310\u001b[0m \u001b[39m#\u001b[39;00m\n\u001b[1;32m    311\u001b[0m \u001b[39m# The previous way Tester was imported also had a side effect of adding\u001b[39;00m\n\u001b[1;32m    312\u001b[0m \u001b[39m# the full `numpy.testing` namespace\u001b[39;00m\n\u001b[1;32m    313\u001b[0m \u001b[39mif\u001b[39;00m attr \u001b[39m==\u001b[39m \u001b[39m'\u001b[39m\u001b[39mtesting\u001b[39m\u001b[39m'\u001b[39m:\n",
            "\u001b[0;31mAttributeError\u001b[0m: module 'numpy' has no attribute 'float'.\n`np.float` was a deprecated alias for the builtin `float`. To avoid this error in existing code, use `float` by itself. Doing this will not modify any behavior and is safe. If you specifically wanted the numpy scalar type, use `np.float64` here.\nThe aliases was originally deprecated in NumPy 1.20; for more details and guidance see the original release note at:\n    https://numpy.org/devdocs/release/1.20.0-notes.html#deprecations"
          ]
        }
      ],
      "source": [
        "# Remove low variance features\n",
        "from sklearn.feature_selection import VarianceThreshold\n",
        "selection = VarianceThreshold(threshold=(.8 * (1 - .8)))    \n",
        "X = selection.fit_transform(X)\n",
        "X.shape"
      ]
    },
    {
      "cell_type": "code",
      "execution_count": null,
      "metadata": {
        "id": "MYck-_XeaHNZ"
      },
      "outputs": [],
      "source": [
        "# Perform data splitting using 80/20 ratio\n",
        "X_train, X_test, Y_train, Y_test = train_test_split(X, Y, test_size=0.2, random_state=42)"
      ]
    },
    {
      "cell_type": "markdown",
      "metadata": {
        "id": "zkW9nKohamEj"
      },
      "source": [
        "## **Compare ML algorithms**"
      ]
    },
    {
      "cell_type": "code",
      "execution_count": null,
      "metadata": {
        "colab": {
          "base_uri": "https://localhost:8080/"
        },
        "id": "nnFbUjA1aUj1",
        "outputId": "84de30a4-1459-4506-fefd-d4495c30fbee"
      },
      "outputs": [
        {
          "ename": "NameError",
          "evalue": "name 'LazyRegressor' is not defined",
          "output_type": "error",
          "traceback": [
            "\u001b[0;31m---------------------------------------------------------------------------\u001b[0m",
            "\u001b[0;31mNameError\u001b[0m                                 Traceback (most recent call last)",
            "\u001b[1;32m/Users/sarahzorome/Desktop/bioinformatics_cdd/notebooks/CDD_ML_Part_5_SGLT2_Compare_Regressors.ipynb Cell 12\u001b[0m line \u001b[0;36m2\n\u001b[1;32m      <a href='vscode-notebook-cell:/Users/sarahzorome/Desktop/bioinformatics_cdd/notebooks/CDD_ML_Part_5_SGLT2_Compare_Regressors.ipynb#X14sZmlsZQ%3D%3D?line=0'>1</a>\u001b[0m \u001b[39m# Defines and builds the lazyclassifier\u001b[39;00m\n\u001b[0;32m----> <a href='vscode-notebook-cell:/Users/sarahzorome/Desktop/bioinformatics_cdd/notebooks/CDD_ML_Part_5_SGLT2_Compare_Regressors.ipynb#X14sZmlsZQ%3D%3D?line=1'>2</a>\u001b[0m clf \u001b[39m=\u001b[39m LazyRegressor(verbose\u001b[39m=\u001b[39m\u001b[39m0\u001b[39m,ignore_warnings\u001b[39m=\u001b[39m\u001b[39mTrue\u001b[39;00m, custom_metric\u001b[39m=\u001b[39m\u001b[39mNone\u001b[39;00m)\n\u001b[1;32m      <a href='vscode-notebook-cell:/Users/sarahzorome/Desktop/bioinformatics_cdd/notebooks/CDD_ML_Part_5_SGLT2_Compare_Regressors.ipynb#X14sZmlsZQ%3D%3D?line=2'>3</a>\u001b[0m models_train,predictions_train \u001b[39m=\u001b[39m clf\u001b[39m.\u001b[39mfit(X_train, X_train, Y_train, Y_train)\n\u001b[1;32m      <a href='vscode-notebook-cell:/Users/sarahzorome/Desktop/bioinformatics_cdd/notebooks/CDD_ML_Part_5_SGLT2_Compare_Regressors.ipynb#X14sZmlsZQ%3D%3D?line=3'>4</a>\u001b[0m models_test,predictions_test \u001b[39m=\u001b[39m clf\u001b[39m.\u001b[39mfit(X_train, X_test, Y_train, Y_test)\n",
            "\u001b[0;31mNameError\u001b[0m: name 'LazyRegressor' is not defined"
          ]
        }
      ],
      "source": [
        "# Defines and builds the lazyclassifier\n",
        "clf = LazyRegressor(verbose=0,ignore_warnings=True, custom_metric=None)\n",
        "models_train,predictions_train = clf.fit(X_train, X_train, Y_train, Y_train)\n",
        "models_test,predictions_test = clf.fit(X_train, X_test, Y_train, Y_test)"
      ]
    },
    {
      "cell_type": "code",
      "execution_count": null,
      "metadata": {
        "colab": {
          "base_uri": "https://localhost:8080/",
          "height": 1000
        },
        "id": "cHOFkp-ka5tF",
        "outputId": "7abc08e9-e5b4-44e2-955d-dec0c20b91a1"
      },
      "outputs": [
        {
          "ename": "NameError",
          "evalue": "name 'predictions_train' is not defined",
          "output_type": "error",
          "traceback": [
            "\u001b[0;31m---------------------------------------------------------------------------\u001b[0m",
            "\u001b[0;31mNameError\u001b[0m                                 Traceback (most recent call last)",
            "\u001b[1;32m/Users/sarahzorome/Desktop/bioinformatics_cdd/notebooks/CDD_ML_Part_5_SGLT2_Compare_Regressors.ipynb Cell 13\u001b[0m line \u001b[0;36m2\n\u001b[1;32m      <a href='vscode-notebook-cell:/Users/sarahzorome/Desktop/bioinformatics_cdd/notebooks/CDD_ML_Part_5_SGLT2_Compare_Regressors.ipynb#X15sZmlsZQ%3D%3D?line=0'>1</a>\u001b[0m \u001b[39m# Performance table of the training set (80% subset)\u001b[39;00m\n\u001b[0;32m----> <a href='vscode-notebook-cell:/Users/sarahzorome/Desktop/bioinformatics_cdd/notebooks/CDD_ML_Part_5_SGLT2_Compare_Regressors.ipynb#X15sZmlsZQ%3D%3D?line=1'>2</a>\u001b[0m predictions_train\n",
            "\u001b[0;31mNameError\u001b[0m: name 'predictions_train' is not defined"
          ]
        }
      ],
      "source": [
        "# Performance table of the training set (80% subset)\n",
        "predictions_train"
      ]
    },
    {
      "cell_type": "code",
      "execution_count": null,
      "metadata": {
        "colab": {
          "base_uri": "https://localhost:8080/",
          "height": 1000
        },
        "id": "KP6qT55ebcfd",
        "outputId": "b25cc626-135a-4c86-8a4b-90f44a63dabe"
      },
      "outputs": [
        {
          "ename": "NameError",
          "evalue": "name 'predictions_test' is not defined",
          "output_type": "error",
          "traceback": [
            "\u001b[0;31m---------------------------------------------------------------------------\u001b[0m",
            "\u001b[0;31mNameError\u001b[0m                                 Traceback (most recent call last)",
            "\u001b[1;32m/Users/sarahzorome/Desktop/Test/notebooks/CDD_ML_Part_5_SGLT2_Compare_Regressors.ipynb Cell 15\u001b[0m line \u001b[0;36m2\n\u001b[1;32m      <a href='vscode-notebook-cell:/Users/sarahzorome/Desktop/Test/notebooks/CDD_ML_Part_5_SGLT2_Compare_Regressors.ipynb#X21sZmlsZQ%3D%3D?line=0'>1</a>\u001b[0m \u001b[39m# Performance table of the test set (20% subset)\u001b[39;00m\n\u001b[0;32m----> <a href='vscode-notebook-cell:/Users/sarahzorome/Desktop/Test/notebooks/CDD_ML_Part_5_SGLT2_Compare_Regressors.ipynb#X21sZmlsZQ%3D%3D?line=1'>2</a>\u001b[0m predictions_test\n",
            "\u001b[0;31mNameError\u001b[0m: name 'predictions_test' is not defined"
          ]
        }
      ],
      "source": [
        "# Performance table of the test set (20% subset)\n",
        "predictions_test"
      ]
    },
    {
      "cell_type": "markdown",
      "metadata": {
        "id": "CM-lcHz6byNz"
      },
      "source": [
        "## **Data visualization of model performance**"
      ]
    },
    {
      "cell_type": "code",
      "execution_count": null,
      "metadata": {
        "colab": {
          "base_uri": "https://localhost:8080/",
          "height": 628
        },
        "id": "MLsi5uSvbpC7",
        "outputId": "2cca0f31-9f81-4d37-8ccd-e88d35268272"
      },
      "outputs": [
        {
          "ename": "NameError",
          "evalue": "name 'predictions_train' is not defined",
          "output_type": "error",
          "traceback": [
            "\u001b[0;31m---------------------------------------------------------------------------\u001b[0m",
            "\u001b[0;31mNameError\u001b[0m                                 Traceback (most recent call last)",
            "\u001b[1;32m/Users/sarahzorome/Desktop/bioinformatics_cdd/notebooks/CDD_ML_Part_5_SGLT2_Compare_Regressors.ipynb Cell 16\u001b[0m line \u001b[0;36m9\n\u001b[1;32m      <a href='vscode-notebook-cell:/Users/sarahzorome/Desktop/bioinformatics_cdd/notebooks/CDD_ML_Part_5_SGLT2_Compare_Regressors.ipynb#X21sZmlsZQ%3D%3D?line=6'>7</a>\u001b[0m plt\u001b[39m.\u001b[39mfigure(figsize\u001b[39m=\u001b[39m(\u001b[39m5\u001b[39m, \u001b[39m10\u001b[39m))\n\u001b[1;32m      <a href='vscode-notebook-cell:/Users/sarahzorome/Desktop/bioinformatics_cdd/notebooks/CDD_ML_Part_5_SGLT2_Compare_Regressors.ipynb#X21sZmlsZQ%3D%3D?line=7'>8</a>\u001b[0m sns\u001b[39m.\u001b[39mset_theme(style\u001b[39m=\u001b[39m\u001b[39m\"\u001b[39m\u001b[39mwhitegrid\u001b[39m\u001b[39m\"\u001b[39m)\n\u001b[0;32m----> <a href='vscode-notebook-cell:/Users/sarahzorome/Desktop/bioinformatics_cdd/notebooks/CDD_ML_Part_5_SGLT2_Compare_Regressors.ipynb#X21sZmlsZQ%3D%3D?line=8'>9</a>\u001b[0m ax \u001b[39m=\u001b[39m sns\u001b[39m.\u001b[39mbarplot(y\u001b[39m=\u001b[39mpredictions_train\u001b[39m.\u001b[39mindex, x\u001b[39m=\u001b[39m\u001b[39m\"\u001b[39m\u001b[39mR-Squared\u001b[39m\u001b[39m\"\u001b[39m, data\u001b[39m=\u001b[39mpredictions_train)\n\u001b[1;32m     <a href='vscode-notebook-cell:/Users/sarahzorome/Desktop/bioinformatics_cdd/notebooks/CDD_ML_Part_5_SGLT2_Compare_Regressors.ipynb#X21sZmlsZQ%3D%3D?line=9'>10</a>\u001b[0m ax\u001b[39m.\u001b[39mset(xlim\u001b[39m=\u001b[39m(\u001b[39m0\u001b[39m, \u001b[39m1\u001b[39m))\n",
            "\u001b[0;31mNameError\u001b[0m: name 'predictions_train' is not defined"
          ]
        },
        {
          "data": {
            "text/plain": [
              "<Figure size 500x1000 with 0 Axes>"
            ]
          },
          "metadata": {},
          "output_type": "display_data"
        }
      ],
      "source": [
        "# Bar plot of R-squared values\n",
        "import matplotlib.pyplot as plt\n",
        "import seaborn as sns\n",
        "\n",
        "#train[\"R-Squared\"] = [0 if i < 0 else i for i in train.iloc[:,0] ]\n",
        "\n",
        "plt.figure(figsize=(5, 10))\n",
        "sns.set_theme(style=\"whitegrid\")\n",
        "ax = sns.barplot(y=predictions_train.index, x=\"R-Squared\", data=predictions_train)\n",
        "ax.set(xlim=(0, 1))"
      ]
    },
    {
      "cell_type": "code",
      "execution_count": null,
      "metadata": {
        "colab": {
          "base_uri": "https://localhost:8080/",
          "height": 628
        },
        "id": "OLkiiTTwb-Cb",
        "outputId": "6efb0857-c5fe-4bbc-dead-1bfd98a6f5d3"
      },
      "outputs": [
        {
          "ename": "NameError",
          "evalue": "name 'predictions_train' is not defined",
          "output_type": "error",
          "traceback": [
            "\u001b[0;31m---------------------------------------------------------------------------\u001b[0m",
            "\u001b[0;31mNameError\u001b[0m                                 Traceback (most recent call last)",
            "\u001b[1;32m/Users/sarahzorome/Desktop/Test/notebooks/CDD_ML_Part_5_SGLT2_Compare_Regressors.ipynb Cell 18\u001b[0m line \u001b[0;36m7\n\u001b[1;32m      <a href='vscode-notebook-cell:/Users/sarahzorome/Desktop/Test/notebooks/CDD_ML_Part_5_SGLT2_Compare_Regressors.ipynb#X24sZmlsZQ%3D%3D?line=4'>5</a>\u001b[0m plt\u001b[39m.\u001b[39mfigure(figsize\u001b[39m=\u001b[39m(\u001b[39m5\u001b[39m, \u001b[39m10\u001b[39m))\n\u001b[1;32m      <a href='vscode-notebook-cell:/Users/sarahzorome/Desktop/Test/notebooks/CDD_ML_Part_5_SGLT2_Compare_Regressors.ipynb#X24sZmlsZQ%3D%3D?line=5'>6</a>\u001b[0m sns\u001b[39m.\u001b[39mset_theme(style\u001b[39m=\u001b[39m\u001b[39m\"\u001b[39m\u001b[39mwhitegrid\u001b[39m\u001b[39m\"\u001b[39m)\n\u001b[0;32m----> <a href='vscode-notebook-cell:/Users/sarahzorome/Desktop/Test/notebooks/CDD_ML_Part_5_SGLT2_Compare_Regressors.ipynb#X24sZmlsZQ%3D%3D?line=6'>7</a>\u001b[0m ax \u001b[39m=\u001b[39m sns\u001b[39m.\u001b[39mbarplot(y\u001b[39m=\u001b[39mpredictions_train\u001b[39m.\u001b[39mindex, x\u001b[39m=\u001b[39m\u001b[39m\"\u001b[39m\u001b[39mRMSE\u001b[39m\u001b[39m\"\u001b[39m, data\u001b[39m=\u001b[39mpredictions_train)\n\u001b[1;32m      <a href='vscode-notebook-cell:/Users/sarahzorome/Desktop/Test/notebooks/CDD_ML_Part_5_SGLT2_Compare_Regressors.ipynb#X24sZmlsZQ%3D%3D?line=7'>8</a>\u001b[0m ax\u001b[39m.\u001b[39mset(xlim\u001b[39m=\u001b[39m(\u001b[39m0\u001b[39m, \u001b[39m10\u001b[39m))\n",
            "\u001b[0;31mNameError\u001b[0m: name 'predictions_train' is not defined"
          ]
        },
        {
          "data": {
            "text/plain": [
              "<Figure size 500x1000 with 0 Axes>"
            ]
          },
          "metadata": {},
          "output_type": "display_data"
        }
      ],
      "source": [
        "# Bar plot of RMSE values\n",
        "import matplotlib.pyplot as plt\n",
        "import seaborn as sns\n",
        "\n",
        "plt.figure(figsize=(5, 10))\n",
        "sns.set_theme(style=\"whitegrid\")\n",
        "ax = sns.barplot(y=predictions_train.index, x=\"RMSE\", data=predictions_train)\n",
        "ax.set(xlim=(0, 10))"
      ]
    },
    {
      "cell_type": "code",
      "execution_count": null,
      "metadata": {
        "colab": {
          "base_uri": "https://localhost:8080/",
          "height": 628
        },
        "id": "pCdcxpzScqXX",
        "outputId": "62dbbf7b-d569-4280-ce60-0c191bbd8e2a"
      },
      "outputs": [
        {
          "ename": "NameError",
          "evalue": "name 'predictions_train' is not defined",
          "output_type": "error",
          "traceback": [
            "\u001b[0;31m---------------------------------------------------------------------------\u001b[0m",
            "\u001b[0;31mNameError\u001b[0m                                 Traceback (most recent call last)",
            "\u001b[1;32m/Users/sarahzorome/Desktop/Test/notebooks/CDD_ML_Part_5_SGLT2_Compare_Regressors.ipynb Cell 19\u001b[0m line \u001b[0;36m7\n\u001b[1;32m      <a href='vscode-notebook-cell:/Users/sarahzorome/Desktop/Test/notebooks/CDD_ML_Part_5_SGLT2_Compare_Regressors.ipynb#X25sZmlsZQ%3D%3D?line=4'>5</a>\u001b[0m plt\u001b[39m.\u001b[39mfigure(figsize\u001b[39m=\u001b[39m(\u001b[39m5\u001b[39m, \u001b[39m10\u001b[39m))\n\u001b[1;32m      <a href='vscode-notebook-cell:/Users/sarahzorome/Desktop/Test/notebooks/CDD_ML_Part_5_SGLT2_Compare_Regressors.ipynb#X25sZmlsZQ%3D%3D?line=5'>6</a>\u001b[0m sns\u001b[39m.\u001b[39mset_theme(style\u001b[39m=\u001b[39m\u001b[39m\"\u001b[39m\u001b[39mwhitegrid\u001b[39m\u001b[39m\"\u001b[39m)\n\u001b[0;32m----> <a href='vscode-notebook-cell:/Users/sarahzorome/Desktop/Test/notebooks/CDD_ML_Part_5_SGLT2_Compare_Regressors.ipynb#X25sZmlsZQ%3D%3D?line=6'>7</a>\u001b[0m ax \u001b[39m=\u001b[39m sns\u001b[39m.\u001b[39mbarplot(y\u001b[39m=\u001b[39mpredictions_train\u001b[39m.\u001b[39mindex, x\u001b[39m=\u001b[39m\u001b[39m\"\u001b[39m\u001b[39mTime Taken\u001b[39m\u001b[39m\"\u001b[39m, data\u001b[39m=\u001b[39mpredictions_train)\n\u001b[1;32m      <a href='vscode-notebook-cell:/Users/sarahzorome/Desktop/Test/notebooks/CDD_ML_Part_5_SGLT2_Compare_Regressors.ipynb#X25sZmlsZQ%3D%3D?line=7'>8</a>\u001b[0m ax\u001b[39m.\u001b[39mset(xlim\u001b[39m=\u001b[39m(\u001b[39m0\u001b[39m, \u001b[39m10\u001b[39m))\n",
            "\u001b[0;31mNameError\u001b[0m: name 'predictions_train' is not defined"
          ]
        },
        {
          "data": {
            "text/plain": [
              "<Figure size 500x1000 with 0 Axes>"
            ]
          },
          "metadata": {},
          "output_type": "display_data"
        }
      ],
      "source": [
        "# Bar plot of calculation time\n",
        "import matplotlib.pyplot as plt\n",
        "import seaborn as sns\n",
        "\n",
        "plt.figure(figsize=(5, 10))\n",
        "sns.set_theme(style=\"whitegrid\")\n",
        "ax = sns.barplot(y=predictions_train.index, x=\"Time Taken\", data=predictions_train)\n",
        "ax.set(xlim=(0, 10))"
      ]
    }
  ],
  "metadata": {
    "colab": {
      "collapsed_sections": [],
      "name": "CDD_ML_Part_5_Acetylcholinesterase_Compare_Regressors.ipynb",
      "provenance": []
    },
    "kernelspec": {
      "display_name": "Python 3",
      "name": "python3"
    },
    "language_info": {
      "codemirror_mode": {
        "name": "ipython",
        "version": 3
      },
      "file_extension": ".py",
      "mimetype": "text/x-python",
      "name": "python",
      "nbconvert_exporter": "python",
      "pygments_lexer": "ipython3",
      "version": "3.8.5"
    }
  },
  "nbformat": 4,
  "nbformat_minor": 0
}
