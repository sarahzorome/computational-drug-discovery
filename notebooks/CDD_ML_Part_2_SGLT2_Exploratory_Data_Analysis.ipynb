{
  "cells": [
    {
      "attachments": {},
      "cell_type": "markdown",
      "metadata": {
        "colab_type": "text",
        "id": "l0Y7_lgN4jzM"
      },
      "source": [
        "# **Computational Drug Discovery - Exploratory Data Analysis**\n",
        "\n",
        "In **Part 2**, I will be performing Descriptor Calculation and Exploratory Data Analysis.\n",
        "\n",
        "---"
      ]
    },
    {
      "attachments": {},
      "cell_type": "markdown",
      "metadata": {
        "colab_type": "text",
        "id": "QmxXXFa4wTNG"
      },
      "source": [
        "## **Load bioactivity data**"
      ]
    },
    {
      "cell_type": "code",
      "execution_count": 1,
      "metadata": {
        "colab": {},
        "colab_type": "code",
        "id": "Fpu5C7HlwV9s"
      },
      "outputs": [],
      "source": [
        "import pandas as pd"
      ]
    },
    {
      "cell_type": "code",
      "execution_count": 2,
      "metadata": {
        "colab": {
          "base_uri": "https://localhost:8080/",
          "height": 419
        },
        "colab_type": "code",
        "id": "GCcE8J5XwjtB",
        "outputId": "40a10f00-3d5f-4835-fdf8-2cb5acd8683c"
      },
      "outputs": [
        {
          "data": {
            "text/html": [
              "<div>\n",
              "<style scoped>\n",
              "    .dataframe tbody tr th:only-of-type {\n",
              "        vertical-align: middle;\n",
              "    }\n",
              "\n",
              "    .dataframe tbody tr th {\n",
              "        vertical-align: top;\n",
              "    }\n",
              "\n",
              "    .dataframe thead th {\n",
              "        text-align: right;\n",
              "    }\n",
              "</style>\n",
              "<table border=\"1\" class=\"dataframe\">\n",
              "  <thead>\n",
              "    <tr style=\"text-align: right;\">\n",
              "      <th></th>\n",
              "      <th>molecule_chembl_id</th>\n",
              "      <th>canonical_smiles</th>\n",
              "      <th>standard_value</th>\n",
              "      <th>class</th>\n",
              "    </tr>\n",
              "  </thead>\n",
              "  <tbody>\n",
              "    <tr>\n",
              "      <th>0</th>\n",
              "      <td>CHEMBL183937</td>\n",
              "      <td>Cc1cc(O)c(C(=O)CCc2ccc3occc3c2)c(O[C@@H]2O[C@H...</td>\n",
              "      <td>11.00</td>\n",
              "      <td>active</td>\n",
              "    </tr>\n",
              "    <tr>\n",
              "      <th>1</th>\n",
              "      <td>CHEMBL371448</td>\n",
              "      <td>Cc1cc(O[C@@H]2O[C@H](CO)[C@@H](O)[C@H](O)[C@H]...</td>\n",
              "      <td>491.00</td>\n",
              "      <td>active</td>\n",
              "    </tr>\n",
              "    <tr>\n",
              "      <th>2</th>\n",
              "      <td>CHEMBL382302</td>\n",
              "      <td>Cc1cc(O[C@@H]2O[C@H](CO)[C@@H](O)[C@H](O)[C@H]...</td>\n",
              "      <td>458.00</td>\n",
              "      <td>active</td>\n",
              "    </tr>\n",
              "    <tr>\n",
              "      <th>3</th>\n",
              "      <td>CHEMBL382319</td>\n",
              "      <td>CCc1cc(O[C@@H]2O[C@H](CO)[C@@H](O)[C@H](O)[C@H...</td>\n",
              "      <td>532.00</td>\n",
              "      <td>active</td>\n",
              "    </tr>\n",
              "    <tr>\n",
              "      <th>4</th>\n",
              "      <td>CHEMBL200608</td>\n",
              "      <td>Cc1cc(O[C@@H]2O[C@H](CO)[C@@H](O)[C@H](O)[C@H]...</td>\n",
              "      <td>754.00</td>\n",
              "      <td>active</td>\n",
              "    </tr>\n",
              "    <tr>\n",
              "      <th>...</th>\n",
              "      <td>...</td>\n",
              "      <td>...</td>\n",
              "      <td>...</td>\n",
              "      <td>...</td>\n",
              "    </tr>\n",
              "    <tr>\n",
              "      <th>1293</th>\n",
              "      <td>CHEMBL5177502</td>\n",
              "      <td>OC[C@H]1O[C@@H](c2ccc(Cl)c(Cc3ccc(OC4CCOC4)cc3...</td>\n",
              "      <td>3.10</td>\n",
              "      <td>active</td>\n",
              "    </tr>\n",
              "    <tr>\n",
              "      <th>1294</th>\n",
              "      <td>CHEMBL5202047</td>\n",
              "      <td>CCOc1ccc(Cc2cc([C@H]3O[C@@H](SC)[C@H](O)[C@@H]...</td>\n",
              "      <td>1.80</td>\n",
              "      <td>active</td>\n",
              "    </tr>\n",
              "    <tr>\n",
              "      <th>1295</th>\n",
              "      <td>CHEMBL5182632</td>\n",
              "      <td>COc1ccc(Cc2cc([C@H]3O[C@@H](SC)[C@H](O)[C@@H](...</td>\n",
              "      <td>2.10</td>\n",
              "      <td>active</td>\n",
              "    </tr>\n",
              "    <tr>\n",
              "      <th>1296</th>\n",
              "      <td>CHEMBL5205876</td>\n",
              "      <td>COc1ccc(Cc2cc3c(c([C@@H]4O[C@H](CO)[C@@H](O)[C...</td>\n",
              "      <td>7.44</td>\n",
              "      <td>active</td>\n",
              "    </tr>\n",
              "    <tr>\n",
              "      <th>1297</th>\n",
              "      <td>CHEMBL5208827</td>\n",
              "      <td>Cc1ccc(Cc2cc([C@@H]3O[C@H](CO)[C@@H](O)[C@H](O...</td>\n",
              "      <td>1.44</td>\n",
              "      <td>active</td>\n",
              "    </tr>\n",
              "  </tbody>\n",
              "</table>\n",
              "<p>1298 rows × 4 columns</p>\n",
              "</div>"
            ],
            "text/plain": [
              "     molecule_chembl_id                                   canonical_smiles  \\\n",
              "0          CHEMBL183937  Cc1cc(O)c(C(=O)CCc2ccc3occc3c2)c(O[C@@H]2O[C@H...   \n",
              "1          CHEMBL371448  Cc1cc(O[C@@H]2O[C@H](CO)[C@@H](O)[C@H](O)[C@H]...   \n",
              "2          CHEMBL382302  Cc1cc(O[C@@H]2O[C@H](CO)[C@@H](O)[C@H](O)[C@H]...   \n",
              "3          CHEMBL382319  CCc1cc(O[C@@H]2O[C@H](CO)[C@@H](O)[C@H](O)[C@H...   \n",
              "4          CHEMBL200608  Cc1cc(O[C@@H]2O[C@H](CO)[C@@H](O)[C@H](O)[C@H]...   \n",
              "...                 ...                                                ...   \n",
              "1293      CHEMBL5177502  OC[C@H]1O[C@@H](c2ccc(Cl)c(Cc3ccc(OC4CCOC4)cc3...   \n",
              "1294      CHEMBL5202047  CCOc1ccc(Cc2cc([C@H]3O[C@@H](SC)[C@H](O)[C@@H]...   \n",
              "1295      CHEMBL5182632  COc1ccc(Cc2cc([C@H]3O[C@@H](SC)[C@H](O)[C@@H](...   \n",
              "1296      CHEMBL5205876  COc1ccc(Cc2cc3c(c([C@@H]4O[C@H](CO)[C@@H](O)[C...   \n",
              "1297      CHEMBL5208827  Cc1ccc(Cc2cc([C@@H]3O[C@H](CO)[C@@H](O)[C@H](O...   \n",
              "\n",
              "      standard_value   class  \n",
              "0              11.00  active  \n",
              "1             491.00  active  \n",
              "2             458.00  active  \n",
              "3             532.00  active  \n",
              "4             754.00  active  \n",
              "...              ...     ...  \n",
              "1293            3.10  active  \n",
              "1294            1.80  active  \n",
              "1295            2.10  active  \n",
              "1296            7.44  active  \n",
              "1297            1.44  active  \n",
              "\n",
              "[1298 rows x 4 columns]"
            ]
          },
          "execution_count": 2,
          "metadata": {},
          "output_type": "execute_result"
        }
      ],
      "source": [
        "df = pd.read_csv('../data/SGLT2_03_bioactivity_data_curated.csv')\n",
        "df"
      ]
    },
    {
      "cell_type": "code",
      "execution_count": 3,
      "metadata": {
        "colab": {},
        "colab_type": "code",
        "id": "7AMm19NW0bJR"
      },
      "outputs": [],
      "source": [
        "df_no_smiles = df.drop(columns='canonical_smiles')"
      ]
    },
    {
      "cell_type": "code",
      "execution_count": 4,
      "metadata": {
        "colab": {},
        "colab_type": "code",
        "id": "aymiQsfdr5sY"
      },
      "outputs": [],
      "source": [
        "smiles = []\n",
        "\n",
        "for i in df.canonical_smiles.tolist():\n",
        "  cpd = str(i).split('.')\n",
        "  cpd_longest = max(cpd, key = len)\n",
        "  smiles.append(cpd_longest)\n",
        "\n",
        "smiles = pd.Series(smiles, name = 'canonical_smiles')"
      ]
    },
    {
      "cell_type": "code",
      "execution_count": 5,
      "metadata": {
        "colab": {
          "base_uri": "https://localhost:8080/",
          "height": 419
        },
        "colab_type": "code",
        "id": "l7a8qW_U85ZK",
        "outputId": "9e073a51-20d4-489c-b1f7-6a44d140c22b"
      },
      "outputs": [
        {
          "data": {
            "text/html": [
              "<div>\n",
              "<style scoped>\n",
              "    .dataframe tbody tr th:only-of-type {\n",
              "        vertical-align: middle;\n",
              "    }\n",
              "\n",
              "    .dataframe tbody tr th {\n",
              "        vertical-align: top;\n",
              "    }\n",
              "\n",
              "    .dataframe thead th {\n",
              "        text-align: right;\n",
              "    }\n",
              "</style>\n",
              "<table border=\"1\" class=\"dataframe\">\n",
              "  <thead>\n",
              "    <tr style=\"text-align: right;\">\n",
              "      <th></th>\n",
              "      <th>molecule_chembl_id</th>\n",
              "      <th>standard_value</th>\n",
              "      <th>class</th>\n",
              "      <th>canonical_smiles</th>\n",
              "    </tr>\n",
              "  </thead>\n",
              "  <tbody>\n",
              "    <tr>\n",
              "      <th>0</th>\n",
              "      <td>CHEMBL183937</td>\n",
              "      <td>11.00</td>\n",
              "      <td>active</td>\n",
              "      <td>Cc1cc(O)c(C(=O)CCc2ccc3occc3c2)c(O[C@@H]2O[C@H...</td>\n",
              "    </tr>\n",
              "    <tr>\n",
              "      <th>1</th>\n",
              "      <td>CHEMBL371448</td>\n",
              "      <td>491.00</td>\n",
              "      <td>active</td>\n",
              "      <td>Cc1cc(O[C@@H]2O[C@H](CO)[C@@H](O)[C@H](O)[C@H]...</td>\n",
              "    </tr>\n",
              "    <tr>\n",
              "      <th>2</th>\n",
              "      <td>CHEMBL382302</td>\n",
              "      <td>458.00</td>\n",
              "      <td>active</td>\n",
              "      <td>Cc1cc(O[C@@H]2O[C@H](CO)[C@@H](O)[C@H](O)[C@H]...</td>\n",
              "    </tr>\n",
              "    <tr>\n",
              "      <th>3</th>\n",
              "      <td>CHEMBL382319</td>\n",
              "      <td>532.00</td>\n",
              "      <td>active</td>\n",
              "      <td>CCc1cc(O[C@@H]2O[C@H](CO)[C@@H](O)[C@H](O)[C@H...</td>\n",
              "    </tr>\n",
              "    <tr>\n",
              "      <th>4</th>\n",
              "      <td>CHEMBL200608</td>\n",
              "      <td>754.00</td>\n",
              "      <td>active</td>\n",
              "      <td>Cc1cc(O[C@@H]2O[C@H](CO)[C@@H](O)[C@H](O)[C@H]...</td>\n",
              "    </tr>\n",
              "    <tr>\n",
              "      <th>...</th>\n",
              "      <td>...</td>\n",
              "      <td>...</td>\n",
              "      <td>...</td>\n",
              "      <td>...</td>\n",
              "    </tr>\n",
              "    <tr>\n",
              "      <th>1293</th>\n",
              "      <td>CHEMBL5177502</td>\n",
              "      <td>3.10</td>\n",
              "      <td>active</td>\n",
              "      <td>OC[C@H]1O[C@@H](c2ccc(Cl)c(Cc3ccc(OC4CCOC4)cc3...</td>\n",
              "    </tr>\n",
              "    <tr>\n",
              "      <th>1294</th>\n",
              "      <td>CHEMBL5202047</td>\n",
              "      <td>1.80</td>\n",
              "      <td>active</td>\n",
              "      <td>CCOc1ccc(Cc2cc([C@H]3O[C@@H](SC)[C@H](O)[C@@H]...</td>\n",
              "    </tr>\n",
              "    <tr>\n",
              "      <th>1295</th>\n",
              "      <td>CHEMBL5182632</td>\n",
              "      <td>2.10</td>\n",
              "      <td>active</td>\n",
              "      <td>COc1ccc(Cc2cc([C@H]3O[C@@H](SC)[C@H](O)[C@@H](...</td>\n",
              "    </tr>\n",
              "    <tr>\n",
              "      <th>1296</th>\n",
              "      <td>CHEMBL5205876</td>\n",
              "      <td>7.44</td>\n",
              "      <td>active</td>\n",
              "      <td>COc1ccc(Cc2cc3c(c([C@@H]4O[C@H](CO)[C@@H](O)[C...</td>\n",
              "    </tr>\n",
              "    <tr>\n",
              "      <th>1297</th>\n",
              "      <td>CHEMBL5208827</td>\n",
              "      <td>1.44</td>\n",
              "      <td>active</td>\n",
              "      <td>Cc1ccc(Cc2cc([C@@H]3O[C@H](CO)[C@@H](O)[C@H](O...</td>\n",
              "    </tr>\n",
              "  </tbody>\n",
              "</table>\n",
              "<p>1298 rows × 4 columns</p>\n",
              "</div>"
            ],
            "text/plain": [
              "     molecule_chembl_id  standard_value   class  \\\n",
              "0          CHEMBL183937           11.00  active   \n",
              "1          CHEMBL371448          491.00  active   \n",
              "2          CHEMBL382302          458.00  active   \n",
              "3          CHEMBL382319          532.00  active   \n",
              "4          CHEMBL200608          754.00  active   \n",
              "...                 ...             ...     ...   \n",
              "1293      CHEMBL5177502            3.10  active   \n",
              "1294      CHEMBL5202047            1.80  active   \n",
              "1295      CHEMBL5182632            2.10  active   \n",
              "1296      CHEMBL5205876            7.44  active   \n",
              "1297      CHEMBL5208827            1.44  active   \n",
              "\n",
              "                                       canonical_smiles  \n",
              "0     Cc1cc(O)c(C(=O)CCc2ccc3occc3c2)c(O[C@@H]2O[C@H...  \n",
              "1     Cc1cc(O[C@@H]2O[C@H](CO)[C@@H](O)[C@H](O)[C@H]...  \n",
              "2     Cc1cc(O[C@@H]2O[C@H](CO)[C@@H](O)[C@H](O)[C@H]...  \n",
              "3     CCc1cc(O[C@@H]2O[C@H](CO)[C@@H](O)[C@H](O)[C@H...  \n",
              "4     Cc1cc(O[C@@H]2O[C@H](CO)[C@@H](O)[C@H](O)[C@H]...  \n",
              "...                                                 ...  \n",
              "1293  OC[C@H]1O[C@@H](c2ccc(Cl)c(Cc3ccc(OC4CCOC4)cc3...  \n",
              "1294  CCOc1ccc(Cc2cc([C@H]3O[C@@H](SC)[C@H](O)[C@@H]...  \n",
              "1295  COc1ccc(Cc2cc([C@H]3O[C@@H](SC)[C@H](O)[C@@H](...  \n",
              "1296  COc1ccc(Cc2cc3c(c([C@@H]4O[C@H](CO)[C@@H](O)[C...  \n",
              "1297  Cc1ccc(Cc2cc([C@@H]3O[C@H](CO)[C@@H](O)[C@H](O...  \n",
              "\n",
              "[1298 rows x 4 columns]"
            ]
          },
          "execution_count": 5,
          "metadata": {},
          "output_type": "execute_result"
        }
      ],
      "source": [
        "df_clean_smiles = pd.concat([df_no_smiles,smiles], axis=1)\n",
        "df_clean_smiles"
      ]
    },
    {
      "attachments": {},
      "cell_type": "markdown",
      "metadata": {
        "colab_type": "text",
        "id": "YzN_S4Quro5S"
      },
      "source": [
        "## **Calculate Lipinski descriptors**\n",
        "Christopher Lipinski, a scientist at Pfizer, came up with a set of rule-of-thumb for evaluating the **druglikeness** of compounds. Such druglikeness is based on the Absorption, Distribution, Metabolism and Excretion (ADME) that is also known as the pharmacokinetic profile. Lipinski analyzed all orally active FDA-approved drugs in the formulation of what is to be known as the **Rule-of-Five** or **Lipinski's Rule**.\n",
        "\n",
        "The Lipinski's Rule stated the following:\n",
        "* Molecular weight < 500 Dalton\n",
        "* Octanol-water partition coefficient (LogP) < 5\n",
        "* Hydrogen bond donors < 5\n",
        "* Hydrogen bond acceptors < 10 "
      ]
    },
    {
      "attachments": {},
      "cell_type": "markdown",
      "metadata": {
        "colab_type": "text",
        "id": "9qn_eQcnxY7C"
      },
      "source": [
        "### **Import libraries**"
      ]
    },
    {
      "cell_type": "code",
      "execution_count": 6,
      "metadata": {
        "colab": {},
        "colab_type": "code",
        "id": "CgBjIdT-rnRU"
      },
      "outputs": [],
      "source": [
        "import numpy as np\n",
        "from rdkit import Chem\n",
        "from rdkit.Chem import Descriptors, Lipinski"
      ]
    },
    {
      "attachments": {},
      "cell_type": "markdown",
      "metadata": {
        "colab_type": "text",
        "id": "JsgTV-ByxdMa"
      },
      "source": [
        "### **Calculate descriptors**"
      ]
    },
    {
      "cell_type": "code",
      "execution_count": 7,
      "metadata": {
        "colab": {},
        "colab_type": "code",
        "id": "bCXEY7a9ugO_"
      },
      "outputs": [],
      "source": [
        "# Inspired by: https://codeocean.com/explore/capsules?query=tag:data-curation\n",
        "\n",
        "# This function takes SMILES notation which is used to translate a chemical's 3D structure into a string of symbols that computer software's can understand.\n",
        "\n",
        "def lipinski(smiles, verbose=False):\n",
        "\n",
        "    moldata= []\n",
        "    for elem in smiles:\n",
        "        mol=Chem.MolFromSmiles(elem) \n",
        "        moldata.append(mol)\n",
        "       \n",
        "    baseData= np.arange(1,1)\n",
        "    i=0  \n",
        "    for mol in moldata:        \n",
        "       \n",
        "        desc_MolWt = Descriptors.MolWt(mol)\n",
        "        desc_MolLogP = Descriptors.MolLogP(mol)\n",
        "        desc_NumHDonors = Lipinski.NumHDonors(mol)\n",
        "        desc_NumHAcceptors = Lipinski.NumHAcceptors(mol)\n",
        "           \n",
        "        row = np.array([desc_MolWt,\n",
        "                        desc_MolLogP,\n",
        "                        desc_NumHDonors,\n",
        "                        desc_NumHAcceptors])   \n",
        "    \n",
        "        if(i==0):\n",
        "            baseData=row\n",
        "        else:\n",
        "            baseData=np.vstack([baseData, row])\n",
        "        i=i+1      \n",
        "    \n",
        "    columnNames=[\"MW\",\"LogP\",\"NumHDonors\",\"NumHAcceptors\"]   \n",
        "    descriptors = pd.DataFrame(data=baseData,columns=columnNames)\n",
        "    \n",
        "    return descriptors"
      ]
    },
    {
      "cell_type": "code",
      "execution_count": 8,
      "metadata": {
        "colab": {
          "base_uri": "https://localhost:8080/",
          "height": 419
        },
        "colab_type": "code",
        "id": "ThFIFw8IukMY",
        "outputId": "574c050c-44f1-43be-bf6c-bf973d8d0675"
      },
      "outputs": [
        {
          "data": {
            "text/html": [
              "<div>\n",
              "<style scoped>\n",
              "    .dataframe tbody tr th:only-of-type {\n",
              "        vertical-align: middle;\n",
              "    }\n",
              "\n",
              "    .dataframe tbody tr th {\n",
              "        vertical-align: top;\n",
              "    }\n",
              "\n",
              "    .dataframe thead th {\n",
              "        text-align: right;\n",
              "    }\n",
              "</style>\n",
              "<table border=\"1\" class=\"dataframe\">\n",
              "  <thead>\n",
              "    <tr style=\"text-align: right;\">\n",
              "      <th></th>\n",
              "      <th>MW</th>\n",
              "      <th>LogP</th>\n",
              "      <th>NumHDonors</th>\n",
              "      <th>NumHAcceptors</th>\n",
              "    </tr>\n",
              "  </thead>\n",
              "  <tbody>\n",
              "    <tr>\n",
              "      <th>0</th>\n",
              "      <td>458.463</td>\n",
              "      <td>1.44102</td>\n",
              "      <td>5.0</td>\n",
              "      <td>9.0</td>\n",
              "    </tr>\n",
              "    <tr>\n",
              "      <th>1</th>\n",
              "      <td>454.479</td>\n",
              "      <td>1.58142</td>\n",
              "      <td>5.0</td>\n",
              "      <td>8.0</td>\n",
              "    </tr>\n",
              "    <tr>\n",
              "      <th>2</th>\n",
              "      <td>456.495</td>\n",
              "      <td>0.77012</td>\n",
              "      <td>5.0</td>\n",
              "      <td>8.0</td>\n",
              "    </tr>\n",
              "    <tr>\n",
              "      <th>3</th>\n",
              "      <td>470.522</td>\n",
              "      <td>1.02410</td>\n",
              "      <td>5.0</td>\n",
              "      <td>8.0</td>\n",
              "    </tr>\n",
              "    <tr>\n",
              "      <th>4</th>\n",
              "      <td>470.522</td>\n",
              "      <td>0.78052</td>\n",
              "      <td>4.0</td>\n",
              "      <td>9.0</td>\n",
              "    </tr>\n",
              "    <tr>\n",
              "      <th>...</th>\n",
              "      <td>...</td>\n",
              "      <td>...</td>\n",
              "      <td>...</td>\n",
              "      <td>...</td>\n",
              "    </tr>\n",
              "    <tr>\n",
              "      <th>1293</th>\n",
              "      <td>450.915</td>\n",
              "      <td>1.61340</td>\n",
              "      <td>4.0</td>\n",
              "      <td>7.0</td>\n",
              "    </tr>\n",
              "    <tr>\n",
              "      <th>1294</th>\n",
              "      <td>424.946</td>\n",
              "      <td>3.17260</td>\n",
              "      <td>3.0</td>\n",
              "      <td>6.0</td>\n",
              "    </tr>\n",
              "    <tr>\n",
              "      <th>1295</th>\n",
              "      <td>410.919</td>\n",
              "      <td>2.78250</td>\n",
              "      <td>3.0</td>\n",
              "      <td>6.0</td>\n",
              "    </tr>\n",
              "    <tr>\n",
              "      <th>1296</th>\n",
              "      <td>400.471</td>\n",
              "      <td>1.28960</td>\n",
              "      <td>4.0</td>\n",
              "      <td>6.0</td>\n",
              "    </tr>\n",
              "    <tr>\n",
              "      <th>1297</th>\n",
              "      <td>420.889</td>\n",
              "      <td>1.68902</td>\n",
              "      <td>4.0</td>\n",
              "      <td>6.0</td>\n",
              "    </tr>\n",
              "  </tbody>\n",
              "</table>\n",
              "<p>1298 rows × 4 columns</p>\n",
              "</div>"
            ],
            "text/plain": [
              "           MW     LogP  NumHDonors  NumHAcceptors\n",
              "0     458.463  1.44102         5.0            9.0\n",
              "1     454.479  1.58142         5.0            8.0\n",
              "2     456.495  0.77012         5.0            8.0\n",
              "3     470.522  1.02410         5.0            8.0\n",
              "4     470.522  0.78052         4.0            9.0\n",
              "...       ...      ...         ...            ...\n",
              "1293  450.915  1.61340         4.0            7.0\n",
              "1294  424.946  3.17260         3.0            6.0\n",
              "1295  410.919  2.78250         3.0            6.0\n",
              "1296  400.471  1.28960         4.0            6.0\n",
              "1297  420.889  1.68902         4.0            6.0\n",
              "\n",
              "[1298 rows x 4 columns]"
            ]
          },
          "execution_count": 8,
          "metadata": {},
          "output_type": "execute_result"
        }
      ],
      "source": [
        "df_lipinski = lipinski(df_clean_smiles.canonical_smiles)\n",
        "df_lipinski"
      ]
    },
    {
      "attachments": {},
      "cell_type": "markdown",
      "metadata": {
        "colab_type": "text",
        "id": "gUMlPfFrxicj"
      },
      "source": [
        "### **Combine dataframes**\n",
        "\n",
        "Let's take a look at the two dataframes that will be combined."
      ]
    },
    {
      "cell_type": "code",
      "execution_count": 9,
      "metadata": {
        "colab": {
          "base_uri": "https://localhost:8080/",
          "height": 419
        },
        "colab_type": "code",
        "id": "DaezyM5vwp9n",
        "outputId": "14dfe606-85e1-43ca-aaec-feb5b59f5404"
      },
      "outputs": [
        {
          "data": {
            "text/html": [
              "<div>\n",
              "<style scoped>\n",
              "    .dataframe tbody tr th:only-of-type {\n",
              "        vertical-align: middle;\n",
              "    }\n",
              "\n",
              "    .dataframe tbody tr th {\n",
              "        vertical-align: top;\n",
              "    }\n",
              "\n",
              "    .dataframe thead th {\n",
              "        text-align: right;\n",
              "    }\n",
              "</style>\n",
              "<table border=\"1\" class=\"dataframe\">\n",
              "  <thead>\n",
              "    <tr style=\"text-align: right;\">\n",
              "      <th></th>\n",
              "      <th>MW</th>\n",
              "      <th>LogP</th>\n",
              "      <th>NumHDonors</th>\n",
              "      <th>NumHAcceptors</th>\n",
              "    </tr>\n",
              "  </thead>\n",
              "  <tbody>\n",
              "    <tr>\n",
              "      <th>0</th>\n",
              "      <td>458.463</td>\n",
              "      <td>1.44102</td>\n",
              "      <td>5.0</td>\n",
              "      <td>9.0</td>\n",
              "    </tr>\n",
              "    <tr>\n",
              "      <th>1</th>\n",
              "      <td>454.479</td>\n",
              "      <td>1.58142</td>\n",
              "      <td>5.0</td>\n",
              "      <td>8.0</td>\n",
              "    </tr>\n",
              "    <tr>\n",
              "      <th>2</th>\n",
              "      <td>456.495</td>\n",
              "      <td>0.77012</td>\n",
              "      <td>5.0</td>\n",
              "      <td>8.0</td>\n",
              "    </tr>\n",
              "    <tr>\n",
              "      <th>3</th>\n",
              "      <td>470.522</td>\n",
              "      <td>1.02410</td>\n",
              "      <td>5.0</td>\n",
              "      <td>8.0</td>\n",
              "    </tr>\n",
              "    <tr>\n",
              "      <th>4</th>\n",
              "      <td>470.522</td>\n",
              "      <td>0.78052</td>\n",
              "      <td>4.0</td>\n",
              "      <td>9.0</td>\n",
              "    </tr>\n",
              "    <tr>\n",
              "      <th>...</th>\n",
              "      <td>...</td>\n",
              "      <td>...</td>\n",
              "      <td>...</td>\n",
              "      <td>...</td>\n",
              "    </tr>\n",
              "    <tr>\n",
              "      <th>1293</th>\n",
              "      <td>450.915</td>\n",
              "      <td>1.61340</td>\n",
              "      <td>4.0</td>\n",
              "      <td>7.0</td>\n",
              "    </tr>\n",
              "    <tr>\n",
              "      <th>1294</th>\n",
              "      <td>424.946</td>\n",
              "      <td>3.17260</td>\n",
              "      <td>3.0</td>\n",
              "      <td>6.0</td>\n",
              "    </tr>\n",
              "    <tr>\n",
              "      <th>1295</th>\n",
              "      <td>410.919</td>\n",
              "      <td>2.78250</td>\n",
              "      <td>3.0</td>\n",
              "      <td>6.0</td>\n",
              "    </tr>\n",
              "    <tr>\n",
              "      <th>1296</th>\n",
              "      <td>400.471</td>\n",
              "      <td>1.28960</td>\n",
              "      <td>4.0</td>\n",
              "      <td>6.0</td>\n",
              "    </tr>\n",
              "    <tr>\n",
              "      <th>1297</th>\n",
              "      <td>420.889</td>\n",
              "      <td>1.68902</td>\n",
              "      <td>4.0</td>\n",
              "      <td>6.0</td>\n",
              "    </tr>\n",
              "  </tbody>\n",
              "</table>\n",
              "<p>1298 rows × 4 columns</p>\n",
              "</div>"
            ],
            "text/plain": [
              "           MW     LogP  NumHDonors  NumHAcceptors\n",
              "0     458.463  1.44102         5.0            9.0\n",
              "1     454.479  1.58142         5.0            8.0\n",
              "2     456.495  0.77012         5.0            8.0\n",
              "3     470.522  1.02410         5.0            8.0\n",
              "4     470.522  0.78052         4.0            9.0\n",
              "...       ...      ...         ...            ...\n",
              "1293  450.915  1.61340         4.0            7.0\n",
              "1294  424.946  3.17260         3.0            6.0\n",
              "1295  410.919  2.78250         3.0            6.0\n",
              "1296  400.471  1.28960         4.0            6.0\n",
              "1297  420.889  1.68902         4.0            6.0\n",
              "\n",
              "[1298 rows x 4 columns]"
            ]
          },
          "execution_count": 9,
          "metadata": {},
          "output_type": "execute_result"
        }
      ],
      "source": [
        "df_lipinski"
      ]
    },
    {
      "cell_type": "code",
      "execution_count": 10,
      "metadata": {
        "colab": {
          "base_uri": "https://localhost:8080/",
          "height": 419
        },
        "colab_type": "code",
        "id": "9-ChzM8_wuq_",
        "outputId": "64a6a0c0-e29a-4cdd-c9ea-9b102b63cfe2"
      },
      "outputs": [
        {
          "data": {
            "text/html": [
              "<div>\n",
              "<style scoped>\n",
              "    .dataframe tbody tr th:only-of-type {\n",
              "        vertical-align: middle;\n",
              "    }\n",
              "\n",
              "    .dataframe tbody tr th {\n",
              "        vertical-align: top;\n",
              "    }\n",
              "\n",
              "    .dataframe thead th {\n",
              "        text-align: right;\n",
              "    }\n",
              "</style>\n",
              "<table border=\"1\" class=\"dataframe\">\n",
              "  <thead>\n",
              "    <tr style=\"text-align: right;\">\n",
              "      <th></th>\n",
              "      <th>molecule_chembl_id</th>\n",
              "      <th>canonical_smiles</th>\n",
              "      <th>standard_value</th>\n",
              "      <th>class</th>\n",
              "    </tr>\n",
              "  </thead>\n",
              "  <tbody>\n",
              "    <tr>\n",
              "      <th>0</th>\n",
              "      <td>CHEMBL183937</td>\n",
              "      <td>Cc1cc(O)c(C(=O)CCc2ccc3occc3c2)c(O[C@@H]2O[C@H...</td>\n",
              "      <td>11.00</td>\n",
              "      <td>active</td>\n",
              "    </tr>\n",
              "    <tr>\n",
              "      <th>1</th>\n",
              "      <td>CHEMBL371448</td>\n",
              "      <td>Cc1cc(O[C@@H]2O[C@H](CO)[C@@H](O)[C@H](O)[C@H]...</td>\n",
              "      <td>491.00</td>\n",
              "      <td>active</td>\n",
              "    </tr>\n",
              "    <tr>\n",
              "      <th>2</th>\n",
              "      <td>CHEMBL382302</td>\n",
              "      <td>Cc1cc(O[C@@H]2O[C@H](CO)[C@@H](O)[C@H](O)[C@H]...</td>\n",
              "      <td>458.00</td>\n",
              "      <td>active</td>\n",
              "    </tr>\n",
              "    <tr>\n",
              "      <th>3</th>\n",
              "      <td>CHEMBL382319</td>\n",
              "      <td>CCc1cc(O[C@@H]2O[C@H](CO)[C@@H](O)[C@H](O)[C@H...</td>\n",
              "      <td>532.00</td>\n",
              "      <td>active</td>\n",
              "    </tr>\n",
              "    <tr>\n",
              "      <th>4</th>\n",
              "      <td>CHEMBL200608</td>\n",
              "      <td>Cc1cc(O[C@@H]2O[C@H](CO)[C@@H](O)[C@H](O)[C@H]...</td>\n",
              "      <td>754.00</td>\n",
              "      <td>active</td>\n",
              "    </tr>\n",
              "    <tr>\n",
              "      <th>...</th>\n",
              "      <td>...</td>\n",
              "      <td>...</td>\n",
              "      <td>...</td>\n",
              "      <td>...</td>\n",
              "    </tr>\n",
              "    <tr>\n",
              "      <th>1293</th>\n",
              "      <td>CHEMBL5177502</td>\n",
              "      <td>OC[C@H]1O[C@@H](c2ccc(Cl)c(Cc3ccc(OC4CCOC4)cc3...</td>\n",
              "      <td>3.10</td>\n",
              "      <td>active</td>\n",
              "    </tr>\n",
              "    <tr>\n",
              "      <th>1294</th>\n",
              "      <td>CHEMBL5202047</td>\n",
              "      <td>CCOc1ccc(Cc2cc([C@H]3O[C@@H](SC)[C@H](O)[C@@H]...</td>\n",
              "      <td>1.80</td>\n",
              "      <td>active</td>\n",
              "    </tr>\n",
              "    <tr>\n",
              "      <th>1295</th>\n",
              "      <td>CHEMBL5182632</td>\n",
              "      <td>COc1ccc(Cc2cc([C@H]3O[C@@H](SC)[C@H](O)[C@@H](...</td>\n",
              "      <td>2.10</td>\n",
              "      <td>active</td>\n",
              "    </tr>\n",
              "    <tr>\n",
              "      <th>1296</th>\n",
              "      <td>CHEMBL5205876</td>\n",
              "      <td>COc1ccc(Cc2cc3c(c([C@@H]4O[C@H](CO)[C@@H](O)[C...</td>\n",
              "      <td>7.44</td>\n",
              "      <td>active</td>\n",
              "    </tr>\n",
              "    <tr>\n",
              "      <th>1297</th>\n",
              "      <td>CHEMBL5208827</td>\n",
              "      <td>Cc1ccc(Cc2cc([C@@H]3O[C@H](CO)[C@@H](O)[C@H](O...</td>\n",
              "      <td>1.44</td>\n",
              "      <td>active</td>\n",
              "    </tr>\n",
              "  </tbody>\n",
              "</table>\n",
              "<p>1298 rows × 4 columns</p>\n",
              "</div>"
            ],
            "text/plain": [
              "     molecule_chembl_id                                   canonical_smiles  \\\n",
              "0          CHEMBL183937  Cc1cc(O)c(C(=O)CCc2ccc3occc3c2)c(O[C@@H]2O[C@H...   \n",
              "1          CHEMBL371448  Cc1cc(O[C@@H]2O[C@H](CO)[C@@H](O)[C@H](O)[C@H]...   \n",
              "2          CHEMBL382302  Cc1cc(O[C@@H]2O[C@H](CO)[C@@H](O)[C@H](O)[C@H]...   \n",
              "3          CHEMBL382319  CCc1cc(O[C@@H]2O[C@H](CO)[C@@H](O)[C@H](O)[C@H...   \n",
              "4          CHEMBL200608  Cc1cc(O[C@@H]2O[C@H](CO)[C@@H](O)[C@H](O)[C@H]...   \n",
              "...                 ...                                                ...   \n",
              "1293      CHEMBL5177502  OC[C@H]1O[C@@H](c2ccc(Cl)c(Cc3ccc(OC4CCOC4)cc3...   \n",
              "1294      CHEMBL5202047  CCOc1ccc(Cc2cc([C@H]3O[C@@H](SC)[C@H](O)[C@@H]...   \n",
              "1295      CHEMBL5182632  COc1ccc(Cc2cc([C@H]3O[C@@H](SC)[C@H](O)[C@@H](...   \n",
              "1296      CHEMBL5205876  COc1ccc(Cc2cc3c(c([C@@H]4O[C@H](CO)[C@@H](O)[C...   \n",
              "1297      CHEMBL5208827  Cc1ccc(Cc2cc([C@@H]3O[C@H](CO)[C@@H](O)[C@H](O...   \n",
              "\n",
              "      standard_value   class  \n",
              "0              11.00  active  \n",
              "1             491.00  active  \n",
              "2             458.00  active  \n",
              "3             532.00  active  \n",
              "4             754.00  active  \n",
              "...              ...     ...  \n",
              "1293            3.10  active  \n",
              "1294            1.80  active  \n",
              "1295            2.10  active  \n",
              "1296            7.44  active  \n",
              "1297            1.44  active  \n",
              "\n",
              "[1298 rows x 4 columns]"
            ]
          },
          "execution_count": 10,
          "metadata": {},
          "output_type": "execute_result"
        }
      ],
      "source": [
        "df"
      ]
    },
    {
      "attachments": {},
      "cell_type": "markdown",
      "metadata": {
        "colab_type": "text",
        "id": "eET6iZ1Aw3oe"
      },
      "source": [
        "Combining the two dataframes:"
      ]
    },
    {
      "cell_type": "code",
      "execution_count": 11,
      "metadata": {
        "colab": {},
        "colab_type": "code",
        "id": "L9nUZC0Ww3gp"
      },
      "outputs": [],
      "source": [
        "df_combined = pd.concat([df,df_lipinski], axis=1)"
      ]
    },
    {
      "cell_type": "code",
      "execution_count": 12,
      "metadata": {
        "colab": {
          "base_uri": "https://localhost:8080/",
          "height": 419
        },
        "colab_type": "code",
        "id": "FRBfBP3QxFJp",
        "outputId": "33528544-8108-4303-a9f2-977c0f6aef91"
      },
      "outputs": [
        {
          "data": {
            "text/html": [
              "<div>\n",
              "<style scoped>\n",
              "    .dataframe tbody tr th:only-of-type {\n",
              "        vertical-align: middle;\n",
              "    }\n",
              "\n",
              "    .dataframe tbody tr th {\n",
              "        vertical-align: top;\n",
              "    }\n",
              "\n",
              "    .dataframe thead th {\n",
              "        text-align: right;\n",
              "    }\n",
              "</style>\n",
              "<table border=\"1\" class=\"dataframe\">\n",
              "  <thead>\n",
              "    <tr style=\"text-align: right;\">\n",
              "      <th></th>\n",
              "      <th>molecule_chembl_id</th>\n",
              "      <th>canonical_smiles</th>\n",
              "      <th>standard_value</th>\n",
              "      <th>class</th>\n",
              "      <th>MW</th>\n",
              "      <th>LogP</th>\n",
              "      <th>NumHDonors</th>\n",
              "      <th>NumHAcceptors</th>\n",
              "    </tr>\n",
              "  </thead>\n",
              "  <tbody>\n",
              "    <tr>\n",
              "      <th>0</th>\n",
              "      <td>CHEMBL183937</td>\n",
              "      <td>Cc1cc(O)c(C(=O)CCc2ccc3occc3c2)c(O[C@@H]2O[C@H...</td>\n",
              "      <td>11.00</td>\n",
              "      <td>active</td>\n",
              "      <td>458.463</td>\n",
              "      <td>1.44102</td>\n",
              "      <td>5.0</td>\n",
              "      <td>9.0</td>\n",
              "    </tr>\n",
              "    <tr>\n",
              "      <th>1</th>\n",
              "      <td>CHEMBL371448</td>\n",
              "      <td>Cc1cc(O[C@@H]2O[C@H](CO)[C@@H](O)[C@H](O)[C@H]...</td>\n",
              "      <td>491.00</td>\n",
              "      <td>active</td>\n",
              "      <td>454.479</td>\n",
              "      <td>1.58142</td>\n",
              "      <td>5.0</td>\n",
              "      <td>8.0</td>\n",
              "    </tr>\n",
              "    <tr>\n",
              "      <th>2</th>\n",
              "      <td>CHEMBL382302</td>\n",
              "      <td>Cc1cc(O[C@@H]2O[C@H](CO)[C@@H](O)[C@H](O)[C@H]...</td>\n",
              "      <td>458.00</td>\n",
              "      <td>active</td>\n",
              "      <td>456.495</td>\n",
              "      <td>0.77012</td>\n",
              "      <td>5.0</td>\n",
              "      <td>8.0</td>\n",
              "    </tr>\n",
              "    <tr>\n",
              "      <th>3</th>\n",
              "      <td>CHEMBL382319</td>\n",
              "      <td>CCc1cc(O[C@@H]2O[C@H](CO)[C@@H](O)[C@H](O)[C@H...</td>\n",
              "      <td>532.00</td>\n",
              "      <td>active</td>\n",
              "      <td>470.522</td>\n",
              "      <td>1.02410</td>\n",
              "      <td>5.0</td>\n",
              "      <td>8.0</td>\n",
              "    </tr>\n",
              "    <tr>\n",
              "      <th>4</th>\n",
              "      <td>CHEMBL200608</td>\n",
              "      <td>Cc1cc(O[C@@H]2O[C@H](CO)[C@@H](O)[C@H](O)[C@H]...</td>\n",
              "      <td>754.00</td>\n",
              "      <td>active</td>\n",
              "      <td>470.522</td>\n",
              "      <td>0.78052</td>\n",
              "      <td>4.0</td>\n",
              "      <td>9.0</td>\n",
              "    </tr>\n",
              "    <tr>\n",
              "      <th>...</th>\n",
              "      <td>...</td>\n",
              "      <td>...</td>\n",
              "      <td>...</td>\n",
              "      <td>...</td>\n",
              "      <td>...</td>\n",
              "      <td>...</td>\n",
              "      <td>...</td>\n",
              "      <td>...</td>\n",
              "    </tr>\n",
              "    <tr>\n",
              "      <th>1293</th>\n",
              "      <td>CHEMBL5177502</td>\n",
              "      <td>OC[C@H]1O[C@@H](c2ccc(Cl)c(Cc3ccc(OC4CCOC4)cc3...</td>\n",
              "      <td>3.10</td>\n",
              "      <td>active</td>\n",
              "      <td>450.915</td>\n",
              "      <td>1.61340</td>\n",
              "      <td>4.0</td>\n",
              "      <td>7.0</td>\n",
              "    </tr>\n",
              "    <tr>\n",
              "      <th>1294</th>\n",
              "      <td>CHEMBL5202047</td>\n",
              "      <td>CCOc1ccc(Cc2cc([C@H]3O[C@@H](SC)[C@H](O)[C@@H]...</td>\n",
              "      <td>1.80</td>\n",
              "      <td>active</td>\n",
              "      <td>424.946</td>\n",
              "      <td>3.17260</td>\n",
              "      <td>3.0</td>\n",
              "      <td>6.0</td>\n",
              "    </tr>\n",
              "    <tr>\n",
              "      <th>1295</th>\n",
              "      <td>CHEMBL5182632</td>\n",
              "      <td>COc1ccc(Cc2cc([C@H]3O[C@@H](SC)[C@H](O)[C@@H](...</td>\n",
              "      <td>2.10</td>\n",
              "      <td>active</td>\n",
              "      <td>410.919</td>\n",
              "      <td>2.78250</td>\n",
              "      <td>3.0</td>\n",
              "      <td>6.0</td>\n",
              "    </tr>\n",
              "    <tr>\n",
              "      <th>1296</th>\n",
              "      <td>CHEMBL5205876</td>\n",
              "      <td>COc1ccc(Cc2cc3c(c([C@@H]4O[C@H](CO)[C@@H](O)[C...</td>\n",
              "      <td>7.44</td>\n",
              "      <td>active</td>\n",
              "      <td>400.471</td>\n",
              "      <td>1.28960</td>\n",
              "      <td>4.0</td>\n",
              "      <td>6.0</td>\n",
              "    </tr>\n",
              "    <tr>\n",
              "      <th>1297</th>\n",
              "      <td>CHEMBL5208827</td>\n",
              "      <td>Cc1ccc(Cc2cc([C@@H]3O[C@H](CO)[C@@H](O)[C@H](O...</td>\n",
              "      <td>1.44</td>\n",
              "      <td>active</td>\n",
              "      <td>420.889</td>\n",
              "      <td>1.68902</td>\n",
              "      <td>4.0</td>\n",
              "      <td>6.0</td>\n",
              "    </tr>\n",
              "  </tbody>\n",
              "</table>\n",
              "<p>1298 rows × 8 columns</p>\n",
              "</div>"
            ],
            "text/plain": [
              "     molecule_chembl_id                                   canonical_smiles  \\\n",
              "0          CHEMBL183937  Cc1cc(O)c(C(=O)CCc2ccc3occc3c2)c(O[C@@H]2O[C@H...   \n",
              "1          CHEMBL371448  Cc1cc(O[C@@H]2O[C@H](CO)[C@@H](O)[C@H](O)[C@H]...   \n",
              "2          CHEMBL382302  Cc1cc(O[C@@H]2O[C@H](CO)[C@@H](O)[C@H](O)[C@H]...   \n",
              "3          CHEMBL382319  CCc1cc(O[C@@H]2O[C@H](CO)[C@@H](O)[C@H](O)[C@H...   \n",
              "4          CHEMBL200608  Cc1cc(O[C@@H]2O[C@H](CO)[C@@H](O)[C@H](O)[C@H]...   \n",
              "...                 ...                                                ...   \n",
              "1293      CHEMBL5177502  OC[C@H]1O[C@@H](c2ccc(Cl)c(Cc3ccc(OC4CCOC4)cc3...   \n",
              "1294      CHEMBL5202047  CCOc1ccc(Cc2cc([C@H]3O[C@@H](SC)[C@H](O)[C@@H]...   \n",
              "1295      CHEMBL5182632  COc1ccc(Cc2cc([C@H]3O[C@@H](SC)[C@H](O)[C@@H](...   \n",
              "1296      CHEMBL5205876  COc1ccc(Cc2cc3c(c([C@@H]4O[C@H](CO)[C@@H](O)[C...   \n",
              "1297      CHEMBL5208827  Cc1ccc(Cc2cc([C@@H]3O[C@H](CO)[C@@H](O)[C@H](O...   \n",
              "\n",
              "      standard_value   class       MW     LogP  NumHDonors  NumHAcceptors  \n",
              "0              11.00  active  458.463  1.44102         5.0            9.0  \n",
              "1             491.00  active  454.479  1.58142         5.0            8.0  \n",
              "2             458.00  active  456.495  0.77012         5.0            8.0  \n",
              "3             532.00  active  470.522  1.02410         5.0            8.0  \n",
              "4             754.00  active  470.522  0.78052         4.0            9.0  \n",
              "...              ...     ...      ...      ...         ...            ...  \n",
              "1293            3.10  active  450.915  1.61340         4.0            7.0  \n",
              "1294            1.80  active  424.946  3.17260         3.0            6.0  \n",
              "1295            2.10  active  410.919  2.78250         3.0            6.0  \n",
              "1296            7.44  active  400.471  1.28960         4.0            6.0  \n",
              "1297            1.44  active  420.889  1.68902         4.0            6.0  \n",
              "\n",
              "[1298 rows x 8 columns]"
            ]
          },
          "execution_count": 12,
          "metadata": {},
          "output_type": "execute_result"
        }
      ],
      "source": [
        "df_combined"
      ]
    },
    {
      "attachments": {},
      "cell_type": "markdown",
      "metadata": {
        "colab_type": "text",
        "id": "e0MLOedB6j96"
      },
      "source": [
        "### **Convert IC50 to pIC50**\n",
        "To allow **IC50** data to be more uniformly distributed, I will convert **IC50** to the negative logarithmic scale which is essentially **-log10(IC50)**.\n",
        "\n",
        "This custom function pIC50() will accept a dataframe as input and will:\n",
        "* Take the IC50 values from the ``standard_value`` column and converts it from nM to M by multiplying the value by 10$^{-9}$\n",
        "* Take the molar value and apply -log10\n",
        "* Delete the ``standard_value`` column and create a new ``pIC50`` column"
      ]
    },
    {
      "cell_type": "code",
      "execution_count": 13,
      "metadata": {
        "colab": {},
        "colab_type": "code",
        "id": "UXMuFQoQ4pZF"
      },
      "outputs": [],
      "source": [
        "import numpy as np\n",
        "\n",
        "def pIC50(input):\n",
        "    pIC50 = []\n",
        "\n",
        "    for i in input['standard_value_norm']:\n",
        "        molar = i*(10**-9) # Converts nM to M\n",
        "        pIC50.append(-np.log10(molar))\n",
        "\n",
        "    input['pIC50'] = pIC50\n",
        "    x = input.drop('standard_value_norm', axis = 1)\n",
        "        \n",
        "    return x"
      ]
    },
    {
      "attachments": {},
      "cell_type": "markdown",
      "metadata": {
        "colab_type": "text",
        "id": "WU5Fh1h2OaJJ"
      },
      "source": [
        "*Note: Values greater than 100,000,000 will be fixed at 100,000,000 otherwise the negative logarithmic value will become negative.*"
      ]
    },
    {
      "cell_type": "code",
      "execution_count": 14,
      "metadata": {
        "colab": {
          "base_uri": "https://localhost:8080/",
          "height": 170
        },
        "colab_type": "code",
        "id": "QuUTFUpcR1wU",
        "outputId": "3e3fe22d-8587-42e3-c92e-396d37877589"
      },
      "outputs": [
        {
          "data": {
            "text/plain": [
              "count       1298.000000\n",
              "mean        2814.935992\n",
              "std        29914.058779\n",
              "min            0.300000\n",
              "25%            2.585000\n",
              "50%           18.800000\n",
              "75%          163.800000\n",
              "max      1000000.000000\n",
              "Name: standard_value, dtype: float64"
            ]
          },
          "execution_count": 14,
          "metadata": {},
          "output_type": "execute_result"
        }
      ],
      "source": [
        "df_combined.standard_value.describe()"
      ]
    },
    {
      "cell_type": "code",
      "execution_count": 15,
      "metadata": {
        "colab": {
          "base_uri": "https://localhost:8080/",
          "height": 34
        },
        "colab_type": "code",
        "id": "QyiJ0to5N6Z_",
        "outputId": "58b38ec2-8f7d-4f44-cc35-1ef394f57854"
      },
      "outputs": [
        {
          "data": {
            "text/plain": [
              "1.0"
            ]
          },
          "execution_count": 15,
          "metadata": {},
          "output_type": "execute_result"
        }
      ],
      "source": [
        "-np.log10( (10**-9)* 100000000 )"
      ]
    },
    {
      "cell_type": "code",
      "execution_count": 16,
      "metadata": {
        "colab": {
          "base_uri": "https://localhost:8080/",
          "height": 34
        },
        "colab_type": "code",
        "id": "9S1aJkOYOP6K",
        "outputId": "0d9c6937-7c36-4844-f84b-9a95a22802dc"
      },
      "outputs": [
        {
          "data": {
            "text/plain": [
              "-1.0"
            ]
          },
          "execution_count": 16,
          "metadata": {},
          "output_type": "execute_result"
        }
      ],
      "source": [
        "-np.log10( (10**-9)* 10000000000 )"
      ]
    },
    {
      "cell_type": "code",
      "execution_count": 17,
      "metadata": {
        "colab": {},
        "colab_type": "code",
        "id": "iktHDDwtPDwl"
      },
      "outputs": [],
      "source": [
        "def norm_value(input):\n",
        "    norm = []\n",
        "\n",
        "    for i in input['standard_value']:\n",
        "        if i > 100000000:\n",
        "          i = 100000000\n",
        "        norm.append(i)\n",
        "\n",
        "    input['standard_value_norm'] = norm\n",
        "    x = input.drop('standard_value', axis = 1)\n",
        "        \n",
        "    return x"
      ]
    },
    {
      "attachments": {},
      "cell_type": "markdown",
      "metadata": {
        "colab_type": "text",
        "id": "EkrTs7RfPsrH"
      },
      "source": [
        "I will first apply the norm_value() function so that the values in the standard_value column is normalized."
      ]
    },
    {
      "cell_type": "code",
      "execution_count": 18,
      "metadata": {
        "colab": {
          "base_uri": "https://localhost:8080/",
          "height": 419
        },
        "colab_type": "code",
        "id": "EX2Mj2-ZP1Rj",
        "outputId": "8e07791e-d693-4d1b-9f82-f396d34c6338"
      },
      "outputs": [
        {
          "data": {
            "text/html": [
              "<div>\n",
              "<style scoped>\n",
              "    .dataframe tbody tr th:only-of-type {\n",
              "        vertical-align: middle;\n",
              "    }\n",
              "\n",
              "    .dataframe tbody tr th {\n",
              "        vertical-align: top;\n",
              "    }\n",
              "\n",
              "    .dataframe thead th {\n",
              "        text-align: right;\n",
              "    }\n",
              "</style>\n",
              "<table border=\"1\" class=\"dataframe\">\n",
              "  <thead>\n",
              "    <tr style=\"text-align: right;\">\n",
              "      <th></th>\n",
              "      <th>molecule_chembl_id</th>\n",
              "      <th>canonical_smiles</th>\n",
              "      <th>class</th>\n",
              "      <th>MW</th>\n",
              "      <th>LogP</th>\n",
              "      <th>NumHDonors</th>\n",
              "      <th>NumHAcceptors</th>\n",
              "      <th>standard_value_norm</th>\n",
              "    </tr>\n",
              "  </thead>\n",
              "  <tbody>\n",
              "    <tr>\n",
              "      <th>0</th>\n",
              "      <td>CHEMBL183937</td>\n",
              "      <td>Cc1cc(O)c(C(=O)CCc2ccc3occc3c2)c(O[C@@H]2O[C@H...</td>\n",
              "      <td>active</td>\n",
              "      <td>458.463</td>\n",
              "      <td>1.44102</td>\n",
              "      <td>5.0</td>\n",
              "      <td>9.0</td>\n",
              "      <td>11.00</td>\n",
              "    </tr>\n",
              "    <tr>\n",
              "      <th>1</th>\n",
              "      <td>CHEMBL371448</td>\n",
              "      <td>Cc1cc(O[C@@H]2O[C@H](CO)[C@@H](O)[C@H](O)[C@H]...</td>\n",
              "      <td>active</td>\n",
              "      <td>454.479</td>\n",
              "      <td>1.58142</td>\n",
              "      <td>5.0</td>\n",
              "      <td>8.0</td>\n",
              "      <td>491.00</td>\n",
              "    </tr>\n",
              "    <tr>\n",
              "      <th>2</th>\n",
              "      <td>CHEMBL382302</td>\n",
              "      <td>Cc1cc(O[C@@H]2O[C@H](CO)[C@@H](O)[C@H](O)[C@H]...</td>\n",
              "      <td>active</td>\n",
              "      <td>456.495</td>\n",
              "      <td>0.77012</td>\n",
              "      <td>5.0</td>\n",
              "      <td>8.0</td>\n",
              "      <td>458.00</td>\n",
              "    </tr>\n",
              "    <tr>\n",
              "      <th>3</th>\n",
              "      <td>CHEMBL382319</td>\n",
              "      <td>CCc1cc(O[C@@H]2O[C@H](CO)[C@@H](O)[C@H](O)[C@H...</td>\n",
              "      <td>active</td>\n",
              "      <td>470.522</td>\n",
              "      <td>1.02410</td>\n",
              "      <td>5.0</td>\n",
              "      <td>8.0</td>\n",
              "      <td>532.00</td>\n",
              "    </tr>\n",
              "    <tr>\n",
              "      <th>4</th>\n",
              "      <td>CHEMBL200608</td>\n",
              "      <td>Cc1cc(O[C@@H]2O[C@H](CO)[C@@H](O)[C@H](O)[C@H]...</td>\n",
              "      <td>active</td>\n",
              "      <td>470.522</td>\n",
              "      <td>0.78052</td>\n",
              "      <td>4.0</td>\n",
              "      <td>9.0</td>\n",
              "      <td>754.00</td>\n",
              "    </tr>\n",
              "    <tr>\n",
              "      <th>...</th>\n",
              "      <td>...</td>\n",
              "      <td>...</td>\n",
              "      <td>...</td>\n",
              "      <td>...</td>\n",
              "      <td>...</td>\n",
              "      <td>...</td>\n",
              "      <td>...</td>\n",
              "      <td>...</td>\n",
              "    </tr>\n",
              "    <tr>\n",
              "      <th>1293</th>\n",
              "      <td>CHEMBL5177502</td>\n",
              "      <td>OC[C@H]1O[C@@H](c2ccc(Cl)c(Cc3ccc(OC4CCOC4)cc3...</td>\n",
              "      <td>active</td>\n",
              "      <td>450.915</td>\n",
              "      <td>1.61340</td>\n",
              "      <td>4.0</td>\n",
              "      <td>7.0</td>\n",
              "      <td>3.10</td>\n",
              "    </tr>\n",
              "    <tr>\n",
              "      <th>1294</th>\n",
              "      <td>CHEMBL5202047</td>\n",
              "      <td>CCOc1ccc(Cc2cc([C@H]3O[C@@H](SC)[C@H](O)[C@@H]...</td>\n",
              "      <td>active</td>\n",
              "      <td>424.946</td>\n",
              "      <td>3.17260</td>\n",
              "      <td>3.0</td>\n",
              "      <td>6.0</td>\n",
              "      <td>1.80</td>\n",
              "    </tr>\n",
              "    <tr>\n",
              "      <th>1295</th>\n",
              "      <td>CHEMBL5182632</td>\n",
              "      <td>COc1ccc(Cc2cc([C@H]3O[C@@H](SC)[C@H](O)[C@@H](...</td>\n",
              "      <td>active</td>\n",
              "      <td>410.919</td>\n",
              "      <td>2.78250</td>\n",
              "      <td>3.0</td>\n",
              "      <td>6.0</td>\n",
              "      <td>2.10</td>\n",
              "    </tr>\n",
              "    <tr>\n",
              "      <th>1296</th>\n",
              "      <td>CHEMBL5205876</td>\n",
              "      <td>COc1ccc(Cc2cc3c(c([C@@H]4O[C@H](CO)[C@@H](O)[C...</td>\n",
              "      <td>active</td>\n",
              "      <td>400.471</td>\n",
              "      <td>1.28960</td>\n",
              "      <td>4.0</td>\n",
              "      <td>6.0</td>\n",
              "      <td>7.44</td>\n",
              "    </tr>\n",
              "    <tr>\n",
              "      <th>1297</th>\n",
              "      <td>CHEMBL5208827</td>\n",
              "      <td>Cc1ccc(Cc2cc([C@@H]3O[C@H](CO)[C@@H](O)[C@H](O...</td>\n",
              "      <td>active</td>\n",
              "      <td>420.889</td>\n",
              "      <td>1.68902</td>\n",
              "      <td>4.0</td>\n",
              "      <td>6.0</td>\n",
              "      <td>1.44</td>\n",
              "    </tr>\n",
              "  </tbody>\n",
              "</table>\n",
              "<p>1298 rows × 8 columns</p>\n",
              "</div>"
            ],
            "text/plain": [
              "     molecule_chembl_id                                   canonical_smiles  \\\n",
              "0          CHEMBL183937  Cc1cc(O)c(C(=O)CCc2ccc3occc3c2)c(O[C@@H]2O[C@H...   \n",
              "1          CHEMBL371448  Cc1cc(O[C@@H]2O[C@H](CO)[C@@H](O)[C@H](O)[C@H]...   \n",
              "2          CHEMBL382302  Cc1cc(O[C@@H]2O[C@H](CO)[C@@H](O)[C@H](O)[C@H]...   \n",
              "3          CHEMBL382319  CCc1cc(O[C@@H]2O[C@H](CO)[C@@H](O)[C@H](O)[C@H...   \n",
              "4          CHEMBL200608  Cc1cc(O[C@@H]2O[C@H](CO)[C@@H](O)[C@H](O)[C@H]...   \n",
              "...                 ...                                                ...   \n",
              "1293      CHEMBL5177502  OC[C@H]1O[C@@H](c2ccc(Cl)c(Cc3ccc(OC4CCOC4)cc3...   \n",
              "1294      CHEMBL5202047  CCOc1ccc(Cc2cc([C@H]3O[C@@H](SC)[C@H](O)[C@@H]...   \n",
              "1295      CHEMBL5182632  COc1ccc(Cc2cc([C@H]3O[C@@H](SC)[C@H](O)[C@@H](...   \n",
              "1296      CHEMBL5205876  COc1ccc(Cc2cc3c(c([C@@H]4O[C@H](CO)[C@@H](O)[C...   \n",
              "1297      CHEMBL5208827  Cc1ccc(Cc2cc([C@@H]3O[C@H](CO)[C@@H](O)[C@H](O...   \n",
              "\n",
              "       class       MW     LogP  NumHDonors  NumHAcceptors  standard_value_norm  \n",
              "0     active  458.463  1.44102         5.0            9.0                11.00  \n",
              "1     active  454.479  1.58142         5.0            8.0               491.00  \n",
              "2     active  456.495  0.77012         5.0            8.0               458.00  \n",
              "3     active  470.522  1.02410         5.0            8.0               532.00  \n",
              "4     active  470.522  0.78052         4.0            9.0               754.00  \n",
              "...      ...      ...      ...         ...            ...                  ...  \n",
              "1293  active  450.915  1.61340         4.0            7.0                 3.10  \n",
              "1294  active  424.946  3.17260         3.0            6.0                 1.80  \n",
              "1295  active  410.919  2.78250         3.0            6.0                 2.10  \n",
              "1296  active  400.471  1.28960         4.0            6.0                 7.44  \n",
              "1297  active  420.889  1.68902         4.0            6.0                 1.44  \n",
              "\n",
              "[1298 rows x 8 columns]"
            ]
          },
          "execution_count": 18,
          "metadata": {},
          "output_type": "execute_result"
        }
      ],
      "source": [
        "df_norm = norm_value(df_combined)\n",
        "df_norm"
      ]
    },
    {
      "cell_type": "code",
      "execution_count": 19,
      "metadata": {
        "colab": {
          "base_uri": "https://localhost:8080/",
          "height": 170
        },
        "colab_type": "code",
        "id": "hb1eKrIjRiH9",
        "outputId": "8435d28b-9774-4567-8134-51bfc3fc8271"
      },
      "outputs": [
        {
          "data": {
            "text/plain": [
              "count       1298.000000\n",
              "mean        2814.935992\n",
              "std        29914.058779\n",
              "min            0.300000\n",
              "25%            2.585000\n",
              "50%           18.800000\n",
              "75%          163.800000\n",
              "max      1000000.000000\n",
              "Name: standard_value_norm, dtype: float64"
            ]
          },
          "execution_count": 19,
          "metadata": {},
          "output_type": "execute_result"
        }
      ],
      "source": [
        "df_norm.standard_value_norm.describe()"
      ]
    },
    {
      "cell_type": "code",
      "execution_count": 20,
      "metadata": {
        "colab": {
          "base_uri": "https://localhost:8080/",
          "height": 419
        },
        "colab_type": "code",
        "id": "UDKZzmK57YnS",
        "outputId": "89ec9de3-c71e-44fb-86a5-3b4172cf9e63"
      },
      "outputs": [
        {
          "data": {
            "text/html": [
              "<div>\n",
              "<style scoped>\n",
              "    .dataframe tbody tr th:only-of-type {\n",
              "        vertical-align: middle;\n",
              "    }\n",
              "\n",
              "    .dataframe tbody tr th {\n",
              "        vertical-align: top;\n",
              "    }\n",
              "\n",
              "    .dataframe thead th {\n",
              "        text-align: right;\n",
              "    }\n",
              "</style>\n",
              "<table border=\"1\" class=\"dataframe\">\n",
              "  <thead>\n",
              "    <tr style=\"text-align: right;\">\n",
              "      <th></th>\n",
              "      <th>molecule_chembl_id</th>\n",
              "      <th>canonical_smiles</th>\n",
              "      <th>class</th>\n",
              "      <th>MW</th>\n",
              "      <th>LogP</th>\n",
              "      <th>NumHDonors</th>\n",
              "      <th>NumHAcceptors</th>\n",
              "      <th>pIC50</th>\n",
              "    </tr>\n",
              "  </thead>\n",
              "  <tbody>\n",
              "    <tr>\n",
              "      <th>0</th>\n",
              "      <td>CHEMBL183937</td>\n",
              "      <td>Cc1cc(O)c(C(=O)CCc2ccc3occc3c2)c(O[C@@H]2O[C@H...</td>\n",
              "      <td>active</td>\n",
              "      <td>458.463</td>\n",
              "      <td>1.44102</td>\n",
              "      <td>5.0</td>\n",
              "      <td>9.0</td>\n",
              "      <td>7.958607</td>\n",
              "    </tr>\n",
              "    <tr>\n",
              "      <th>1</th>\n",
              "      <td>CHEMBL371448</td>\n",
              "      <td>Cc1cc(O[C@@H]2O[C@H](CO)[C@@H](O)[C@H](O)[C@H]...</td>\n",
              "      <td>active</td>\n",
              "      <td>454.479</td>\n",
              "      <td>1.58142</td>\n",
              "      <td>5.0</td>\n",
              "      <td>8.0</td>\n",
              "      <td>6.308919</td>\n",
              "    </tr>\n",
              "    <tr>\n",
              "      <th>2</th>\n",
              "      <td>CHEMBL382302</td>\n",
              "      <td>Cc1cc(O[C@@H]2O[C@H](CO)[C@@H](O)[C@H](O)[C@H]...</td>\n",
              "      <td>active</td>\n",
              "      <td>456.495</td>\n",
              "      <td>0.77012</td>\n",
              "      <td>5.0</td>\n",
              "      <td>8.0</td>\n",
              "      <td>6.339135</td>\n",
              "    </tr>\n",
              "    <tr>\n",
              "      <th>3</th>\n",
              "      <td>CHEMBL382319</td>\n",
              "      <td>CCc1cc(O[C@@H]2O[C@H](CO)[C@@H](O)[C@H](O)[C@H...</td>\n",
              "      <td>active</td>\n",
              "      <td>470.522</td>\n",
              "      <td>1.02410</td>\n",
              "      <td>5.0</td>\n",
              "      <td>8.0</td>\n",
              "      <td>6.274088</td>\n",
              "    </tr>\n",
              "    <tr>\n",
              "      <th>4</th>\n",
              "      <td>CHEMBL200608</td>\n",
              "      <td>Cc1cc(O[C@@H]2O[C@H](CO)[C@@H](O)[C@H](O)[C@H]...</td>\n",
              "      <td>active</td>\n",
              "      <td>470.522</td>\n",
              "      <td>0.78052</td>\n",
              "      <td>4.0</td>\n",
              "      <td>9.0</td>\n",
              "      <td>6.122629</td>\n",
              "    </tr>\n",
              "    <tr>\n",
              "      <th>...</th>\n",
              "      <td>...</td>\n",
              "      <td>...</td>\n",
              "      <td>...</td>\n",
              "      <td>...</td>\n",
              "      <td>...</td>\n",
              "      <td>...</td>\n",
              "      <td>...</td>\n",
              "      <td>...</td>\n",
              "    </tr>\n",
              "    <tr>\n",
              "      <th>1293</th>\n",
              "      <td>CHEMBL5177502</td>\n",
              "      <td>OC[C@H]1O[C@@H](c2ccc(Cl)c(Cc3ccc(OC4CCOC4)cc3...</td>\n",
              "      <td>active</td>\n",
              "      <td>450.915</td>\n",
              "      <td>1.61340</td>\n",
              "      <td>4.0</td>\n",
              "      <td>7.0</td>\n",
              "      <td>8.508638</td>\n",
              "    </tr>\n",
              "    <tr>\n",
              "      <th>1294</th>\n",
              "      <td>CHEMBL5202047</td>\n",
              "      <td>CCOc1ccc(Cc2cc([C@H]3O[C@@H](SC)[C@H](O)[C@@H]...</td>\n",
              "      <td>active</td>\n",
              "      <td>424.946</td>\n",
              "      <td>3.17260</td>\n",
              "      <td>3.0</td>\n",
              "      <td>6.0</td>\n",
              "      <td>8.744727</td>\n",
              "    </tr>\n",
              "    <tr>\n",
              "      <th>1295</th>\n",
              "      <td>CHEMBL5182632</td>\n",
              "      <td>COc1ccc(Cc2cc([C@H]3O[C@@H](SC)[C@H](O)[C@@H](...</td>\n",
              "      <td>active</td>\n",
              "      <td>410.919</td>\n",
              "      <td>2.78250</td>\n",
              "      <td>3.0</td>\n",
              "      <td>6.0</td>\n",
              "      <td>8.677781</td>\n",
              "    </tr>\n",
              "    <tr>\n",
              "      <th>1296</th>\n",
              "      <td>CHEMBL5205876</td>\n",
              "      <td>COc1ccc(Cc2cc3c(c([C@@H]4O[C@H](CO)[C@@H](O)[C...</td>\n",
              "      <td>active</td>\n",
              "      <td>400.471</td>\n",
              "      <td>1.28960</td>\n",
              "      <td>4.0</td>\n",
              "      <td>6.0</td>\n",
              "      <td>8.128427</td>\n",
              "    </tr>\n",
              "    <tr>\n",
              "      <th>1297</th>\n",
              "      <td>CHEMBL5208827</td>\n",
              "      <td>Cc1ccc(Cc2cc([C@@H]3O[C@H](CO)[C@@H](O)[C@H](O...</td>\n",
              "      <td>active</td>\n",
              "      <td>420.889</td>\n",
              "      <td>1.68902</td>\n",
              "      <td>4.0</td>\n",
              "      <td>6.0</td>\n",
              "      <td>8.841638</td>\n",
              "    </tr>\n",
              "  </tbody>\n",
              "</table>\n",
              "<p>1298 rows × 8 columns</p>\n",
              "</div>"
            ],
            "text/plain": [
              "     molecule_chembl_id                                   canonical_smiles  \\\n",
              "0          CHEMBL183937  Cc1cc(O)c(C(=O)CCc2ccc3occc3c2)c(O[C@@H]2O[C@H...   \n",
              "1          CHEMBL371448  Cc1cc(O[C@@H]2O[C@H](CO)[C@@H](O)[C@H](O)[C@H]...   \n",
              "2          CHEMBL382302  Cc1cc(O[C@@H]2O[C@H](CO)[C@@H](O)[C@H](O)[C@H]...   \n",
              "3          CHEMBL382319  CCc1cc(O[C@@H]2O[C@H](CO)[C@@H](O)[C@H](O)[C@H...   \n",
              "4          CHEMBL200608  Cc1cc(O[C@@H]2O[C@H](CO)[C@@H](O)[C@H](O)[C@H]...   \n",
              "...                 ...                                                ...   \n",
              "1293      CHEMBL5177502  OC[C@H]1O[C@@H](c2ccc(Cl)c(Cc3ccc(OC4CCOC4)cc3...   \n",
              "1294      CHEMBL5202047  CCOc1ccc(Cc2cc([C@H]3O[C@@H](SC)[C@H](O)[C@@H]...   \n",
              "1295      CHEMBL5182632  COc1ccc(Cc2cc([C@H]3O[C@@H](SC)[C@H](O)[C@@H](...   \n",
              "1296      CHEMBL5205876  COc1ccc(Cc2cc3c(c([C@@H]4O[C@H](CO)[C@@H](O)[C...   \n",
              "1297      CHEMBL5208827  Cc1ccc(Cc2cc([C@@H]3O[C@H](CO)[C@@H](O)[C@H](O...   \n",
              "\n",
              "       class       MW     LogP  NumHDonors  NumHAcceptors     pIC50  \n",
              "0     active  458.463  1.44102         5.0            9.0  7.958607  \n",
              "1     active  454.479  1.58142         5.0            8.0  6.308919  \n",
              "2     active  456.495  0.77012         5.0            8.0  6.339135  \n",
              "3     active  470.522  1.02410         5.0            8.0  6.274088  \n",
              "4     active  470.522  0.78052         4.0            9.0  6.122629  \n",
              "...      ...      ...      ...         ...            ...       ...  \n",
              "1293  active  450.915  1.61340         4.0            7.0  8.508638  \n",
              "1294  active  424.946  3.17260         3.0            6.0  8.744727  \n",
              "1295  active  410.919  2.78250         3.0            6.0  8.677781  \n",
              "1296  active  400.471  1.28960         4.0            6.0  8.128427  \n",
              "1297  active  420.889  1.68902         4.0            6.0  8.841638  \n",
              "\n",
              "[1298 rows x 8 columns]"
            ]
          },
          "execution_count": 20,
          "metadata": {},
          "output_type": "execute_result"
        }
      ],
      "source": [
        "df_final = pIC50(df_norm)\n",
        "df_final"
      ]
    },
    {
      "cell_type": "code",
      "execution_count": 21,
      "metadata": {
        "colab": {
          "base_uri": "https://localhost:8080/",
          "height": 170
        },
        "colab_type": "code",
        "id": "BoqY53udSTYC",
        "outputId": "13f3b5ff-acf5-4136-b8a3-f494066d4824"
      },
      "outputs": [
        {
          "data": {
            "text/plain": [
              "count    1298.000000\n",
              "mean        7.530706\n",
              "std         1.238352\n",
              "min         3.000000\n",
              "25%         6.785687\n",
              "50%         7.725842\n",
              "75%         8.587542\n",
              "max         9.522879\n",
              "Name: pIC50, dtype: float64"
            ]
          },
          "execution_count": 21,
          "metadata": {},
          "output_type": "execute_result"
        }
      ],
      "source": [
        "df_final.pIC50.describe()"
      ]
    },
    {
      "cell_type": "code",
      "execution_count": 42,
      "metadata": {
        "colab": {},
        "colab_type": "code",
        "id": "sbZfHUSOgykw"
      },
      "outputs": [],
      "source": [
        "df_final.to_csv('../data/SGLT2_04_bioactivity_data_3class_pIC50.csv')"
      ]
    },
    {
      "attachments": {},
      "cell_type": "markdown",
      "metadata": {
        "colab_type": "text",
        "id": "05vHBWvqaQtb"
      },
      "source": [
        "### **Removing the 'intermediate' bioactivity class**\n",
        "Here, I will be removing the ``intermediate`` class from the dataset to allow for simpler comparison."
      ]
    },
    {
      "cell_type": "code",
      "execution_count": 23,
      "metadata": {
        "colab": {
          "base_uri": "https://localhost:8080/",
          "height": 419
        },
        "colab_type": "code",
        "id": "HmrndhDW3c7Z",
        "outputId": "dbc2255b-ed9c-460c-c12c-1795a735c9e7"
      },
      "outputs": [
        {
          "data": {
            "text/html": [
              "<div>\n",
              "<style scoped>\n",
              "    .dataframe tbody tr th:only-of-type {\n",
              "        vertical-align: middle;\n",
              "    }\n",
              "\n",
              "    .dataframe tbody tr th {\n",
              "        vertical-align: top;\n",
              "    }\n",
              "\n",
              "    .dataframe thead th {\n",
              "        text-align: right;\n",
              "    }\n",
              "</style>\n",
              "<table border=\"1\" class=\"dataframe\">\n",
              "  <thead>\n",
              "    <tr style=\"text-align: right;\">\n",
              "      <th></th>\n",
              "      <th>molecule_chembl_id</th>\n",
              "      <th>canonical_smiles</th>\n",
              "      <th>class</th>\n",
              "      <th>MW</th>\n",
              "      <th>LogP</th>\n",
              "      <th>NumHDonors</th>\n",
              "      <th>NumHAcceptors</th>\n",
              "      <th>pIC50</th>\n",
              "    </tr>\n",
              "  </thead>\n",
              "  <tbody>\n",
              "    <tr>\n",
              "      <th>0</th>\n",
              "      <td>CHEMBL183937</td>\n",
              "      <td>Cc1cc(O)c(C(=O)CCc2ccc3occc3c2)c(O[C@@H]2O[C@H...</td>\n",
              "      <td>active</td>\n",
              "      <td>458.463</td>\n",
              "      <td>1.44102</td>\n",
              "      <td>5.0</td>\n",
              "      <td>9.0</td>\n",
              "      <td>7.958607</td>\n",
              "    </tr>\n",
              "    <tr>\n",
              "      <th>1</th>\n",
              "      <td>CHEMBL371448</td>\n",
              "      <td>Cc1cc(O[C@@H]2O[C@H](CO)[C@@H](O)[C@H](O)[C@H]...</td>\n",
              "      <td>active</td>\n",
              "      <td>454.479</td>\n",
              "      <td>1.58142</td>\n",
              "      <td>5.0</td>\n",
              "      <td>8.0</td>\n",
              "      <td>6.308919</td>\n",
              "    </tr>\n",
              "    <tr>\n",
              "      <th>2</th>\n",
              "      <td>CHEMBL382302</td>\n",
              "      <td>Cc1cc(O[C@@H]2O[C@H](CO)[C@@H](O)[C@H](O)[C@H]...</td>\n",
              "      <td>active</td>\n",
              "      <td>456.495</td>\n",
              "      <td>0.77012</td>\n",
              "      <td>5.0</td>\n",
              "      <td>8.0</td>\n",
              "      <td>6.339135</td>\n",
              "    </tr>\n",
              "    <tr>\n",
              "      <th>3</th>\n",
              "      <td>CHEMBL382319</td>\n",
              "      <td>CCc1cc(O[C@@H]2O[C@H](CO)[C@@H](O)[C@H](O)[C@H...</td>\n",
              "      <td>active</td>\n",
              "      <td>470.522</td>\n",
              "      <td>1.02410</td>\n",
              "      <td>5.0</td>\n",
              "      <td>8.0</td>\n",
              "      <td>6.274088</td>\n",
              "    </tr>\n",
              "    <tr>\n",
              "      <th>4</th>\n",
              "      <td>CHEMBL200608</td>\n",
              "      <td>Cc1cc(O[C@@H]2O[C@H](CO)[C@@H](O)[C@H](O)[C@H]...</td>\n",
              "      <td>active</td>\n",
              "      <td>470.522</td>\n",
              "      <td>0.78052</td>\n",
              "      <td>4.0</td>\n",
              "      <td>9.0</td>\n",
              "      <td>6.122629</td>\n",
              "    </tr>\n",
              "    <tr>\n",
              "      <th>...</th>\n",
              "      <td>...</td>\n",
              "      <td>...</td>\n",
              "      <td>...</td>\n",
              "      <td>...</td>\n",
              "      <td>...</td>\n",
              "      <td>...</td>\n",
              "      <td>...</td>\n",
              "      <td>...</td>\n",
              "    </tr>\n",
              "    <tr>\n",
              "      <th>1293</th>\n",
              "      <td>CHEMBL5177502</td>\n",
              "      <td>OC[C@H]1O[C@@H](c2ccc(Cl)c(Cc3ccc(OC4CCOC4)cc3...</td>\n",
              "      <td>active</td>\n",
              "      <td>450.915</td>\n",
              "      <td>1.61340</td>\n",
              "      <td>4.0</td>\n",
              "      <td>7.0</td>\n",
              "      <td>8.508638</td>\n",
              "    </tr>\n",
              "    <tr>\n",
              "      <th>1294</th>\n",
              "      <td>CHEMBL5202047</td>\n",
              "      <td>CCOc1ccc(Cc2cc([C@H]3O[C@@H](SC)[C@H](O)[C@@H]...</td>\n",
              "      <td>active</td>\n",
              "      <td>424.946</td>\n",
              "      <td>3.17260</td>\n",
              "      <td>3.0</td>\n",
              "      <td>6.0</td>\n",
              "      <td>8.744727</td>\n",
              "    </tr>\n",
              "    <tr>\n",
              "      <th>1295</th>\n",
              "      <td>CHEMBL5182632</td>\n",
              "      <td>COc1ccc(Cc2cc([C@H]3O[C@@H](SC)[C@H](O)[C@@H](...</td>\n",
              "      <td>active</td>\n",
              "      <td>410.919</td>\n",
              "      <td>2.78250</td>\n",
              "      <td>3.0</td>\n",
              "      <td>6.0</td>\n",
              "      <td>8.677781</td>\n",
              "    </tr>\n",
              "    <tr>\n",
              "      <th>1296</th>\n",
              "      <td>CHEMBL5205876</td>\n",
              "      <td>COc1ccc(Cc2cc3c(c([C@@H]4O[C@H](CO)[C@@H](O)[C...</td>\n",
              "      <td>active</td>\n",
              "      <td>400.471</td>\n",
              "      <td>1.28960</td>\n",
              "      <td>4.0</td>\n",
              "      <td>6.0</td>\n",
              "      <td>8.128427</td>\n",
              "    </tr>\n",
              "    <tr>\n",
              "      <th>1297</th>\n",
              "      <td>CHEMBL5208827</td>\n",
              "      <td>Cc1ccc(Cc2cc([C@@H]3O[C@H](CO)[C@@H](O)[C@H](O...</td>\n",
              "      <td>active</td>\n",
              "      <td>420.889</td>\n",
              "      <td>1.68902</td>\n",
              "      <td>4.0</td>\n",
              "      <td>6.0</td>\n",
              "      <td>8.841638</td>\n",
              "    </tr>\n",
              "  </tbody>\n",
              "</table>\n",
              "<p>1216 rows × 8 columns</p>\n",
              "</div>"
            ],
            "text/plain": [
              "     molecule_chembl_id                                   canonical_smiles  \\\n",
              "0          CHEMBL183937  Cc1cc(O)c(C(=O)CCc2ccc3occc3c2)c(O[C@@H]2O[C@H...   \n",
              "1          CHEMBL371448  Cc1cc(O[C@@H]2O[C@H](CO)[C@@H](O)[C@H](O)[C@H]...   \n",
              "2          CHEMBL382302  Cc1cc(O[C@@H]2O[C@H](CO)[C@@H](O)[C@H](O)[C@H]...   \n",
              "3          CHEMBL382319  CCc1cc(O[C@@H]2O[C@H](CO)[C@@H](O)[C@H](O)[C@H...   \n",
              "4          CHEMBL200608  Cc1cc(O[C@@H]2O[C@H](CO)[C@@H](O)[C@H](O)[C@H]...   \n",
              "...                 ...                                                ...   \n",
              "1293      CHEMBL5177502  OC[C@H]1O[C@@H](c2ccc(Cl)c(Cc3ccc(OC4CCOC4)cc3...   \n",
              "1294      CHEMBL5202047  CCOc1ccc(Cc2cc([C@H]3O[C@@H](SC)[C@H](O)[C@@H]...   \n",
              "1295      CHEMBL5182632  COc1ccc(Cc2cc([C@H]3O[C@@H](SC)[C@H](O)[C@@H](...   \n",
              "1296      CHEMBL5205876  COc1ccc(Cc2cc3c(c([C@@H]4O[C@H](CO)[C@@H](O)[C...   \n",
              "1297      CHEMBL5208827  Cc1ccc(Cc2cc([C@@H]3O[C@H](CO)[C@@H](O)[C@H](O...   \n",
              "\n",
              "       class       MW     LogP  NumHDonors  NumHAcceptors     pIC50  \n",
              "0     active  458.463  1.44102         5.0            9.0  7.958607  \n",
              "1     active  454.479  1.58142         5.0            8.0  6.308919  \n",
              "2     active  456.495  0.77012         5.0            8.0  6.339135  \n",
              "3     active  470.522  1.02410         5.0            8.0  6.274088  \n",
              "4     active  470.522  0.78052         4.0            9.0  6.122629  \n",
              "...      ...      ...      ...         ...            ...       ...  \n",
              "1293  active  450.915  1.61340         4.0            7.0  8.508638  \n",
              "1294  active  424.946  3.17260         3.0            6.0  8.744727  \n",
              "1295  active  410.919  2.78250         3.0            6.0  8.677781  \n",
              "1296  active  400.471  1.28960         4.0            6.0  8.128427  \n",
              "1297  active  420.889  1.68902         4.0            6.0  8.841638  \n",
              "\n",
              "[1216 rows x 8 columns]"
            ]
          },
          "execution_count": 23,
          "metadata": {},
          "output_type": "execute_result"
        }
      ],
      "source": [
        "df_2class = df_final[df_final['class'] != 'intermediate']\n",
        "df_2class"
      ]
    },
    {
      "cell_type": "code",
      "execution_count": 41,
      "metadata": {
        "colab": {},
        "colab_type": "code",
        "id": "XIiYdeL5ghCo"
      },
      "outputs": [],
      "source": [
        "df_2class.to_csv('../data/SLGT2_05_bioactivity_data_2class_pIC50.csv')"
      ]
    },
    {
      "attachments": {},
      "cell_type": "markdown",
      "metadata": {
        "colab_type": "text",
        "id": "p9vA4-hQQ8sA"
      },
      "source": [
        "---"
      ]
    },
    {
      "attachments": {},
      "cell_type": "markdown",
      "metadata": {
        "colab_type": "text",
        "id": "x0vqbQWfxsZu"
      },
      "source": [
        "## **Exploratory Data Analysis (Chemical Space Analysis) via Lipinski descriptors**"
      ]
    },
    {
      "attachments": {},
      "cell_type": "markdown",
      "metadata": {
        "colab_type": "text",
        "id": "18heJagiyHoF"
      },
      "source": [
        "### **Import library**"
      ]
    },
    {
      "cell_type": "code",
      "execution_count": 25,
      "metadata": {
        "colab": {
          "base_uri": "https://localhost:8080/",
          "height": 51
        },
        "colab_type": "code",
        "id": "0Egq_rNsxtIj",
        "outputId": "33657ad8-3fcc-41cd-83ab-6f4f8c0a9e84"
      },
      "outputs": [],
      "source": [
        "import seaborn as sns\n",
        "sns.set(style='ticks')\n",
        "import matplotlib.pyplot as plt"
      ]
    },
    {
      "cell_type": "code",
      "execution_count": 26,
      "metadata": {},
      "outputs": [],
      "source": [
        "palette = ['darkseagreen', 'lightcoral']"
      ]
    },
    {
      "attachments": {},
      "cell_type": "markdown",
      "metadata": {
        "colab_type": "text",
        "id": "NiarmFbOdG3H"
      },
      "source": [
        "### **Frequency plot of the 2 bioactivity classes**"
      ]
    },
    {
      "cell_type": "code",
      "execution_count": 27,
      "metadata": {
        "colab": {
          "base_uri": "https://localhost:8080/",
          "height": 367
        },
        "colab_type": "code",
        "id": "w2Ia0iycdMO2",
        "outputId": "fa37bcfd-af06-4e4b-c754-b6fb2b1b4f97"
      },
      "outputs": [
        {
          "name": "stderr",
          "output_type": "stream",
          "text": [
            "/var/folders/0b/t44sb5395fz_lr8c2gy7h3h80000gn/T/ipykernel_15401/1347909514.py:3: FutureWarning: \n",
            "\n",
            "Passing `palette` without assigning `hue` is deprecated and will be removed in v0.14.0. Assign the `x` variable to `hue` and set `legend=False` for the same effect.\n",
            "\n",
            "  sns.countplot(x='class', data=df_2class, edgecolor='black', palette = palette)\n"
          ]
        },
        {
          "data": {
            "image/png": "[encoded data removed]",
            "text/plain": [
              "<Figure size 550x550 with 1 Axes>"
            ]
          },
          "metadata": {},
          "output_type": "display_data"
        }
      ],
      "source": [
        "plt.figure(figsize=(5.5, 5.5))\n",
        "\n",
        "sns.countplot(x='class', data=df_2class, edgecolor='black', palette = palette)\n",
        "\n",
        "plt.xlabel('Bioactivity class', fontsize=14, fontweight='bold')\n",
        "plt.ylabel('Frequency', fontsize=14, fontweight='bold')\n",
        "\n",
        "plt.savefig('../plots/plot_bioactivity_class.png')"
      ]
    },
    {
      "attachments": {},
      "cell_type": "markdown",
      "metadata": {
        "colab_type": "text",
        "id": "wB68NKVG0j68"
      },
      "source": [
        "### **Scatter plot of MW versus LogP**"
      ]
    },
    {
      "cell_type": "code",
      "execution_count": 28,
      "metadata": {
        "colab": {
          "base_uri": "https://localhost:8080/",
          "height": 367
        },
        "colab_type": "code",
        "id": "F79BNwjF0nub",
        "outputId": "a80f9843-848a-4eb0-ff78-e9473d5d2d4b"
      },
      "outputs": [
        {
          "data": {
            "image/png": "[encoded data removed]",
            "text/plain": [
              "<Figure size 550x550 with 1 Axes>"
            ]
          },
          "metadata": {},
          "output_type": "display_data"
        }
      ],
      "source": [
        "plt.figure(figsize=(5.5, 5.5))\n",
        "\n",
        "sns.scatterplot(x='MW', y='LogP', data=df_2class, hue='class', size='pIC50', edgecolor='black', alpha=0.7, palette = palette)\n",
        "\n",
        "plt.xlabel('MW', fontsize=14, fontweight='bold')\n",
        "plt.ylabel('LogP', fontsize=14, fontweight='bold')\n",
        "plt.legend(bbox_to_anchor=(1.05, 1), loc=2, borderaxespad=0)\n",
        "plt.savefig('../plots/plot_MW_vs_LogP.png')"
      ]
    },
    {
      "cell_type": "markdown",
      "metadata": {},
      "source": [
        "It can be seen that the active bioactivity class spans more chemical space than the inactive bioactivity class as evident by the scatter plot of MW vs LogP."
      ]
    },
    {
      "attachments": {},
      "cell_type": "markdown",
      "metadata": {
        "colab_type": "text",
        "id": "oLAfyRwHyJfX"
      },
      "source": [
        "### **Box plots of each Lipinski descriptor**"
      ]
    },
    {
      "attachments": {},
      "cell_type": "markdown",
      "metadata": {
        "colab_type": "text",
        "id": "1n1uIAivyOkY"
      },
      "source": [
        "#### **1) pIC50 value**"
      ]
    },
    {
      "cell_type": "code",
      "execution_count": 29,
      "metadata": {
        "colab": {
          "base_uri": "https://localhost:8080/",
          "height": 367
        },
        "colab_type": "code",
        "id": "EpPviw0hxue6",
        "outputId": "a6386fee-ae04-4bf0-93cb-c95bcf801432"
      },
      "outputs": [
        {
          "name": "stderr",
          "output_type": "stream",
          "text": [
            "/var/folders/0b/t44sb5395fz_lr8c2gy7h3h80000gn/T/ipykernel_15401/2754408176.py:3: FutureWarning: \n",
            "\n",
            "Passing `palette` without assigning `hue` is deprecated and will be removed in v0.14.0. Assign the `x` variable to `hue` and set `legend=False` for the same effect.\n",
            "\n",
            "  sns.boxplot(x = 'class', y = 'pIC50', data = df_2class, palette = palette)\n"
          ]
        },
        {
          "data": {
            "image/png": "[encoded data removed]",
            "text/plain": [
              "<Figure size 550x550 with 1 Axes>"
            ]
          },
          "metadata": {},
          "output_type": "display_data"
        }
      ],
      "source": [
        "plt.figure(figsize=(5.5, 5.5))\n",
        "\n",
        "sns.boxplot(x = 'class', y = 'pIC50', data = df_2class, palette = palette)\n",
        "\n",
        "plt.xlabel('Bioactivity class', fontsize=14, fontweight='bold')\n",
        "plt.ylabel('pIC50 value', fontsize=14, fontweight='bold')\n",
        "\n",
        "plt.savefig('../plots/plot_ic50.png')"
      ]
    },
    {
      "cell_type": "code",
      "execution_count": null,
      "metadata": {},
      "outputs": [
        {
          "data": {
            "text/html": [
              "<div>\n",
              "<style scoped>\n",
              "    .dataframe tbody tr th:only-of-type {\n",
              "        vertical-align: middle;\n",
              "    }\n",
              "\n",
              "    .dataframe tbody tr th {\n",
              "        vertical-align: top;\n",
              "    }\n",
              "\n",
              "    .dataframe thead th {\n",
              "        text-align: right;\n",
              "    }\n",
              "</style>\n",
              "<table border=\"1\" class=\"dataframe\">\n",
              "  <thead>\n",
              "    <tr style=\"text-align: right;\">\n",
              "      <th></th>\n",
              "      <th>molecule_chembl_id</th>\n",
              "      <th>canonical_smiles</th>\n",
              "      <th>class</th>\n",
              "      <th>MW</th>\n",
              "      <th>LogP</th>\n",
              "      <th>NumHDonors</th>\n",
              "      <th>NumHAcceptors</th>\n",
              "      <th>pIC50</th>\n",
              "    </tr>\n",
              "  </thead>\n",
              "  <tbody>\n",
              "    <tr>\n",
              "      <th>0</th>\n",
              "      <td>CHEMBL183937</td>\n",
              "      <td>Cc1cc(O)c(C(=O)CCc2ccc3occc3c2)c(O[C@@H]2O[C@H...</td>\n",
              "      <td>active</td>\n",
              "      <td>458.463</td>\n",
              "      <td>1.44102</td>\n",
              "      <td>5.0</td>\n",
              "      <td>9.0</td>\n",
              "      <td>7.958607</td>\n",
              "    </tr>\n",
              "    <tr>\n",
              "      <th>1</th>\n",
              "      <td>CHEMBL371448</td>\n",
              "      <td>Cc1cc(O[C@@H]2O[C@H](CO)[C@@H](O)[C@H](O)[C@H]...</td>\n",
              "      <td>active</td>\n",
              "      <td>454.479</td>\n",
              "      <td>1.58142</td>\n",
              "      <td>5.0</td>\n",
              "      <td>8.0</td>\n",
              "      <td>6.308919</td>\n",
              "    </tr>\n",
              "    <tr>\n",
              "      <th>2</th>\n",
              "      <td>CHEMBL382302</td>\n",
              "      <td>Cc1cc(O[C@@H]2O[C@H](CO)[C@@H](O)[C@H](O)[C@H]...</td>\n",
              "      <td>active</td>\n",
              "      <td>456.495</td>\n",
              "      <td>0.77012</td>\n",
              "      <td>5.0</td>\n",
              "      <td>8.0</td>\n",
              "      <td>6.339135</td>\n",
              "    </tr>\n",
              "    <tr>\n",
              "      <th>3</th>\n",
              "      <td>CHEMBL382319</td>\n",
              "      <td>CCc1cc(O[C@@H]2O[C@H](CO)[C@@H](O)[C@H](O)[C@H...</td>\n",
              "      <td>active</td>\n",
              "      <td>470.522</td>\n",
              "      <td>1.02410</td>\n",
              "      <td>5.0</td>\n",
              "      <td>8.0</td>\n",
              "      <td>6.274088</td>\n",
              "    </tr>\n",
              "    <tr>\n",
              "      <th>4</th>\n",
              "      <td>CHEMBL200608</td>\n",
              "      <td>Cc1cc(O[C@@H]2O[C@H](CO)[C@@H](O)[C@H](O)[C@H]...</td>\n",
              "      <td>active</td>\n",
              "      <td>470.522</td>\n",
              "      <td>0.78052</td>\n",
              "      <td>4.0</td>\n",
              "      <td>9.0</td>\n",
              "      <td>6.122629</td>\n",
              "    </tr>\n",
              "    <tr>\n",
              "      <th>...</th>\n",
              "      <td>...</td>\n",
              "      <td>...</td>\n",
              "      <td>...</td>\n",
              "      <td>...</td>\n",
              "      <td>...</td>\n",
              "      <td>...</td>\n",
              "      <td>...</td>\n",
              "      <td>...</td>\n",
              "    </tr>\n",
              "    <tr>\n",
              "      <th>1293</th>\n",
              "      <td>CHEMBL5177502</td>\n",
              "      <td>OC[C@H]1O[C@@H](c2ccc(Cl)c(Cc3ccc(OC4CCOC4)cc3...</td>\n",
              "      <td>active</td>\n",
              "      <td>450.915</td>\n",
              "      <td>1.61340</td>\n",
              "      <td>4.0</td>\n",
              "      <td>7.0</td>\n",
              "      <td>8.508638</td>\n",
              "    </tr>\n",
              "    <tr>\n",
              "      <th>1294</th>\n",
              "      <td>CHEMBL5202047</td>\n",
              "      <td>CCOc1ccc(Cc2cc([C@H]3O[C@@H](SC)[C@H](O)[C@@H]...</td>\n",
              "      <td>active</td>\n",
              "      <td>424.946</td>\n",
              "      <td>3.17260</td>\n",
              "      <td>3.0</td>\n",
              "      <td>6.0</td>\n",
              "      <td>8.744727</td>\n",
              "    </tr>\n",
              "    <tr>\n",
              "      <th>1295</th>\n",
              "      <td>CHEMBL5182632</td>\n",
              "      <td>COc1ccc(Cc2cc([C@H]3O[C@@H](SC)[C@H](O)[C@@H](...</td>\n",
              "      <td>active</td>\n",
              "      <td>410.919</td>\n",
              "      <td>2.78250</td>\n",
              "      <td>3.0</td>\n",
              "      <td>6.0</td>\n",
              "      <td>8.677781</td>\n",
              "    </tr>\n",
              "    <tr>\n",
              "      <th>1296</th>\n",
              "      <td>CHEMBL5205876</td>\n",
              "      <td>COc1ccc(Cc2cc3c(c([C@@H]4O[C@H](CO)[C@@H](O)[C...</td>\n",
              "      <td>active</td>\n",
              "      <td>400.471</td>\n",
              "      <td>1.28960</td>\n",
              "      <td>4.0</td>\n",
              "      <td>6.0</td>\n",
              "      <td>8.128427</td>\n",
              "    </tr>\n",
              "    <tr>\n",
              "      <th>1297</th>\n",
              "      <td>CHEMBL5208827</td>\n",
              "      <td>Cc1ccc(Cc2cc([C@@H]3O[C@H](CO)[C@@H](O)[C@H](O...</td>\n",
              "      <td>active</td>\n",
              "      <td>420.889</td>\n",
              "      <td>1.68902</td>\n",
              "      <td>4.0</td>\n",
              "      <td>6.0</td>\n",
              "      <td>8.841638</td>\n",
              "    </tr>\n",
              "  </tbody>\n",
              "</table>\n",
              "<p>1298 rows × 8 columns</p>\n",
              "</div>"
            ],
            "text/plain": [
              "     molecule_chembl_id                                   canonical_smiles  \\\n",
              "0          CHEMBL183937  Cc1cc(O)c(C(=O)CCc2ccc3occc3c2)c(O[C@@H]2O[C@H...   \n",
              "1          CHEMBL371448  Cc1cc(O[C@@H]2O[C@H](CO)[C@@H](O)[C@H](O)[C@H]...   \n",
              "2          CHEMBL382302  Cc1cc(O[C@@H]2O[C@H](CO)[C@@H](O)[C@H](O)[C@H]...   \n",
              "3          CHEMBL382319  CCc1cc(O[C@@H]2O[C@H](CO)[C@@H](O)[C@H](O)[C@H...   \n",
              "4          CHEMBL200608  Cc1cc(O[C@@H]2O[C@H](CO)[C@@H](O)[C@H](O)[C@H]...   \n",
              "...                 ...                                                ...   \n",
              "1293      CHEMBL5177502  OC[C@H]1O[C@@H](c2ccc(Cl)c(Cc3ccc(OC4CCOC4)cc3...   \n",
              "1294      CHEMBL5202047  CCOc1ccc(Cc2cc([C@H]3O[C@@H](SC)[C@H](O)[C@@H]...   \n",
              "1295      CHEMBL5182632  COc1ccc(Cc2cc([C@H]3O[C@@H](SC)[C@H](O)[C@@H](...   \n",
              "1296      CHEMBL5205876  COc1ccc(Cc2cc3c(c([C@@H]4O[C@H](CO)[C@@H](O)[C...   \n",
              "1297      CHEMBL5208827  Cc1ccc(Cc2cc([C@@H]3O[C@H](CO)[C@@H](O)[C@H](O...   \n",
              "\n",
              "       class       MW     LogP  NumHDonors  NumHAcceptors     pIC50  \n",
              "0     active  458.463  1.44102         5.0            9.0  7.958607  \n",
              "1     active  454.479  1.58142         5.0            8.0  6.308919  \n",
              "2     active  456.495  0.77012         5.0            8.0  6.339135  \n",
              "3     active  470.522  1.02410         5.0            8.0  6.274088  \n",
              "4     active  470.522  0.78052         4.0            9.0  6.122629  \n",
              "...      ...      ...      ...         ...            ...       ...  \n",
              "1293  active  450.915  1.61340         4.0            7.0  8.508638  \n",
              "1294  active  424.946  3.17260         3.0            6.0  8.744727  \n",
              "1295  active  410.919  2.78250         3.0            6.0  8.677781  \n",
              "1296  active  400.471  1.28960         4.0            6.0  8.128427  \n",
              "1297  active  420.889  1.68902         4.0            6.0  8.841638  \n",
              "\n",
              "[1298 rows x 8 columns]"
            ]
          },
          "metadata": {},
          "output_type": "display_data"
        }
      ],
      "source": []
    },
    {
      "attachments": {},
      "cell_type": "markdown",
      "metadata": {
        "colab_type": "text",
        "id": "PsOqKyysCZCv"
      },
      "source": [
        "**Statistical analysis | Mann-Whitney U Test**"
      ]
    },
    {
      "cell_type": "markdown",
      "metadata": {},
      "source": [
        "The Mann-Whitney U test evaluates the statistical significance of the difference between active and inactive bioactivity classes."
      ]
    },
    {
      "cell_type": "code",
      "execution_count": 30,
      "metadata": {
        "colab": {},
        "colab_type": "code",
        "id": "LPdV1vDnWBsh"
      },
      "outputs": [],
      "source": [
        "def mannwhitney(descriptor, verbose=False):\n",
        "  # Modified from https://machinelearningmastery.com/nonparametric-statistical-significance-tests-in-python/\n",
        "  from numpy.random import seed\n",
        "  from numpy.random import randn\n",
        "  from scipy.stats import mannwhitneyu\n",
        "\n",
        "# seed the random number generator\n",
        "  seed(1)\n",
        "\n",
        "# actives and inactives\n",
        "  selection = [descriptor, 'class']\n",
        "  df = df_2class[selection]\n",
        "  active = df[df['class'] == 'active']\n",
        "  active = active[descriptor]\n",
        "\n",
        "  selection = [descriptor, 'class']\n",
        "  df = df_2class[selection]\n",
        "  inactive = df[df['class'] == 'inactive']\n",
        "  inactive = inactive[descriptor]\n",
        "\n",
        "# compare samples\n",
        "  stat, p = mannwhitneyu(active, inactive)\n",
        "  #print('Statistics=%.3f, p=%.3f' % (stat, p))\n",
        "\n",
        "# interpret\n",
        "  alpha = 0.05\n",
        "  if p > alpha:\n",
        "    interpretation = 'Same distribution (fail to reject H0)'\n",
        "  else:\n",
        "    interpretation = 'Different distribution (reject H0)'\n",
        "  \n",
        "  results = pd.DataFrame({'Descriptor':descriptor,\n",
        "                          'Statistics':stat,\n",
        "                          'p':p,\n",
        "                          'alpha':alpha,\n",
        "                          'Interpretation':interpretation}, index=[0])\n",
        "  filename = 'mannwhitneyu_' + descriptor + '.csv'\n",
        "  results.to_csv(filename)\n",
        "\n",
        "  return results"
      ]
    },
    {
      "cell_type": "code",
      "execution_count": 31,
      "metadata": {
        "colab": {
          "base_uri": "https://localhost:8080/",
          "height": 80
        },
        "colab_type": "code",
        "id": "HZmUgOmdYVm5",
        "outputId": "3a9ba656-596c-434a-e52f-5696325cd4e7"
      },
      "outputs": [
        {
          "data": {
            "text/html": [
              "<div>\n",
              "<style scoped>\n",
              "    .dataframe tbody tr th:only-of-type {\n",
              "        vertical-align: middle;\n",
              "    }\n",
              "\n",
              "    .dataframe tbody tr th {\n",
              "        vertical-align: top;\n",
              "    }\n",
              "\n",
              "    .dataframe thead th {\n",
              "        text-align: right;\n",
              "    }\n",
              "</style>\n",
              "<table border=\"1\" class=\"dataframe\">\n",
              "  <thead>\n",
              "    <tr style=\"text-align: right;\">\n",
              "      <th></th>\n",
              "      <th>Descriptor</th>\n",
              "      <th>Statistics</th>\n",
              "      <th>p</th>\n",
              "      <th>alpha</th>\n",
              "      <th>Interpretation</th>\n",
              "    </tr>\n",
              "  </thead>\n",
              "  <tbody>\n",
              "    <tr>\n",
              "      <th>0</th>\n",
              "      <td>pIC50</td>\n",
              "      <td>75900.0</td>\n",
              "      <td>1.367120e-42</td>\n",
              "      <td>0.05</td>\n",
              "      <td>Different distribution (reject H0)</td>\n",
              "    </tr>\n",
              "  </tbody>\n",
              "</table>\n",
              "</div>"
            ],
            "text/plain": [
              "  Descriptor  Statistics             p  alpha  \\\n",
              "0      pIC50     75900.0  1.367120e-42   0.05   \n",
              "\n",
              "                       Interpretation  \n",
              "0  Different distribution (reject H0)  "
            ]
          },
          "execution_count": 31,
          "metadata": {},
          "output_type": "execute_result"
        }
      ],
      "source": [
        "mannwhitney('pIC50')"
      ]
    },
    {
      "attachments": {},
      "cell_type": "markdown",
      "metadata": {
        "colab_type": "text",
        "id": "o2UlCwPmyTBq"
      },
      "source": [
        "#### **2) MW**"
      ]
    },
    {
      "cell_type": "code",
      "execution_count": 32,
      "metadata": {
        "colab": {
          "base_uri": "https://localhost:8080/",
          "height": 370
        },
        "colab_type": "code",
        "id": "ZNlEEsDEx3m6",
        "outputId": "819f291c-d893-4ff6-f4ca-28b46351e999"
      },
      "outputs": [
        {
          "name": "stderr",
          "output_type": "stream",
          "text": [
            "/var/folders/0b/t44sb5395fz_lr8c2gy7h3h80000gn/T/ipykernel_15401/2397871116.py:3: FutureWarning: \n",
            "\n",
            "Passing `palette` without assigning `hue` is deprecated and will be removed in v0.14.0. Assign the `x` variable to `hue` and set `legend=False` for the same effect.\n",
            "\n",
            "  sns.boxplot(x = 'class', y = 'MW', data = df_2class, palette = palette)\n"
          ]
        },
        {
          "data": {
            "image/png": "[encoded data removed]",
            "text/plain": [
              "<Figure size 550x550 with 1 Axes>"
            ]
          },
          "metadata": {},
          "output_type": "display_data"
        }
      ],
      "source": [
        "plt.figure(figsize=(5.5, 5.5))\n",
        "\n",
        "sns.boxplot(x = 'class', y = 'MW', data = df_2class, palette = palette)\n",
        "\n",
        "plt.xlabel('Bioactivity class', fontsize=14, fontweight='bold')\n",
        "plt.ylabel('MW', fontsize=14, fontweight='bold')\n",
        "\n",
        "plt.savefig('../plots/plot_MW.png')"
      ]
    },
    {
      "cell_type": "code",
      "execution_count": 33,
      "metadata": {
        "colab": {
          "base_uri": "https://localhost:8080/",
          "height": 80
        },
        "colab_type": "code",
        "id": "wRl2FvgHYqaG",
        "outputId": "01f76db8-fdaf-40af-9161-888f5065b07b"
      },
      "outputs": [
        {
          "data": {
            "text/html": [
              "<div>\n",
              "<style scoped>\n",
              "    .dataframe tbody tr th:only-of-type {\n",
              "        vertical-align: middle;\n",
              "    }\n",
              "\n",
              "    .dataframe tbody tr th {\n",
              "        vertical-align: top;\n",
              "    }\n",
              "\n",
              "    .dataframe thead th {\n",
              "        text-align: right;\n",
              "    }\n",
              "</style>\n",
              "<table border=\"1\" class=\"dataframe\">\n",
              "  <thead>\n",
              "    <tr style=\"text-align: right;\">\n",
              "      <th></th>\n",
              "      <th>Descriptor</th>\n",
              "      <th>Statistics</th>\n",
              "      <th>p</th>\n",
              "      <th>alpha</th>\n",
              "      <th>Interpretation</th>\n",
              "    </tr>\n",
              "  </thead>\n",
              "  <tbody>\n",
              "    <tr>\n",
              "      <th>0</th>\n",
              "      <td>MW</td>\n",
              "      <td>50897.0</td>\n",
              "      <td>0.000003</td>\n",
              "      <td>0.05</td>\n",
              "      <td>Different distribution (reject H0)</td>\n",
              "    </tr>\n",
              "  </tbody>\n",
              "</table>\n",
              "</div>"
            ],
            "text/plain": [
              "  Descriptor  Statistics         p  alpha                      Interpretation\n",
              "0         MW     50897.0  0.000003   0.05  Different distribution (reject H0)"
            ]
          },
          "execution_count": 33,
          "metadata": {},
          "output_type": "execute_result"
        }
      ],
      "source": [
        "mannwhitney('MW')"
      ]
    },
    {
      "cell_type": "code",
      "execution_count": null,
      "metadata": {},
      "outputs": [
        {
          "data": {
            "text/html": [
              "<div>\n",
              "<style scoped>\n",
              "    .dataframe tbody tr th:only-of-type {\n",
              "        vertical-align: middle;\n",
              "    }\n",
              "\n",
              "    .dataframe tbody tr th {\n",
              "        vertical-align: top;\n",
              "    }\n",
              "\n",
              "    .dataframe thead th {\n",
              "        text-align: right;\n",
              "    }\n",
              "</style>\n",
              "<table border=\"1\" class=\"dataframe\">\n",
              "  <thead>\n",
              "    <tr style=\"text-align: right;\">\n",
              "      <th></th>\n",
              "      <th>molecule_chembl_id</th>\n",
              "      <th>canonical_smiles</th>\n",
              "      <th>class</th>\n",
              "      <th>MW</th>\n",
              "      <th>LogP</th>\n",
              "      <th>NumHDonors</th>\n",
              "      <th>NumHAcceptors</th>\n",
              "      <th>pIC50</th>\n",
              "    </tr>\n",
              "  </thead>\n",
              "  <tbody>\n",
              "    <tr>\n",
              "      <th>0</th>\n",
              "      <td>CHEMBL183937</td>\n",
              "      <td>Cc1cc(O)c(C(=O)CCc2ccc3occc3c2)c(O[C@@H]2O[C@H...</td>\n",
              "      <td>active</td>\n",
              "      <td>458.463</td>\n",
              "      <td>1.44102</td>\n",
              "      <td>5.0</td>\n",
              "      <td>9.0</td>\n",
              "      <td>7.958607</td>\n",
              "    </tr>\n",
              "    <tr>\n",
              "      <th>1</th>\n",
              "      <td>CHEMBL371448</td>\n",
              "      <td>Cc1cc(O[C@@H]2O[C@H](CO)[C@@H](O)[C@H](O)[C@H]...</td>\n",
              "      <td>active</td>\n",
              "      <td>454.479</td>\n",
              "      <td>1.58142</td>\n",
              "      <td>5.0</td>\n",
              "      <td>8.0</td>\n",
              "      <td>6.308919</td>\n",
              "    </tr>\n",
              "    <tr>\n",
              "      <th>2</th>\n",
              "      <td>CHEMBL382302</td>\n",
              "      <td>Cc1cc(O[C@@H]2O[C@H](CO)[C@@H](O)[C@H](O)[C@H]...</td>\n",
              "      <td>active</td>\n",
              "      <td>456.495</td>\n",
              "      <td>0.77012</td>\n",
              "      <td>5.0</td>\n",
              "      <td>8.0</td>\n",
              "      <td>6.339135</td>\n",
              "    </tr>\n",
              "    <tr>\n",
              "      <th>3</th>\n",
              "      <td>CHEMBL382319</td>\n",
              "      <td>CCc1cc(O[C@@H]2O[C@H](CO)[C@@H](O)[C@H](O)[C@H...</td>\n",
              "      <td>active</td>\n",
              "      <td>470.522</td>\n",
              "      <td>1.02410</td>\n",
              "      <td>5.0</td>\n",
              "      <td>8.0</td>\n",
              "      <td>6.274088</td>\n",
              "    </tr>\n",
              "    <tr>\n",
              "      <th>4</th>\n",
              "      <td>CHEMBL200608</td>\n",
              "      <td>Cc1cc(O[C@@H]2O[C@H](CO)[C@@H](O)[C@H](O)[C@H]...</td>\n",
              "      <td>active</td>\n",
              "      <td>470.522</td>\n",
              "      <td>0.78052</td>\n",
              "      <td>4.0</td>\n",
              "      <td>9.0</td>\n",
              "      <td>6.122629</td>\n",
              "    </tr>\n",
              "    <tr>\n",
              "      <th>...</th>\n",
              "      <td>...</td>\n",
              "      <td>...</td>\n",
              "      <td>...</td>\n",
              "      <td>...</td>\n",
              "      <td>...</td>\n",
              "      <td>...</td>\n",
              "      <td>...</td>\n",
              "      <td>...</td>\n",
              "    </tr>\n",
              "    <tr>\n",
              "      <th>1293</th>\n",
              "      <td>CHEMBL5177502</td>\n",
              "      <td>OC[C@H]1O[C@@H](c2ccc(Cl)c(Cc3ccc(OC4CCOC4)cc3...</td>\n",
              "      <td>active</td>\n",
              "      <td>450.915</td>\n",
              "      <td>1.61340</td>\n",
              "      <td>4.0</td>\n",
              "      <td>7.0</td>\n",
              "      <td>8.508638</td>\n",
              "    </tr>\n",
              "    <tr>\n",
              "      <th>1294</th>\n",
              "      <td>CHEMBL5202047</td>\n",
              "      <td>CCOc1ccc(Cc2cc([C@H]3O[C@@H](SC)[C@H](O)[C@@H]...</td>\n",
              "      <td>active</td>\n",
              "      <td>424.946</td>\n",
              "      <td>3.17260</td>\n",
              "      <td>3.0</td>\n",
              "      <td>6.0</td>\n",
              "      <td>8.744727</td>\n",
              "    </tr>\n",
              "    <tr>\n",
              "      <th>1295</th>\n",
              "      <td>CHEMBL5182632</td>\n",
              "      <td>COc1ccc(Cc2cc([C@H]3O[C@@H](SC)[C@H](O)[C@@H](...</td>\n",
              "      <td>active</td>\n",
              "      <td>410.919</td>\n",
              "      <td>2.78250</td>\n",
              "      <td>3.0</td>\n",
              "      <td>6.0</td>\n",
              "      <td>8.677781</td>\n",
              "    </tr>\n",
              "    <tr>\n",
              "      <th>1296</th>\n",
              "      <td>CHEMBL5205876</td>\n",
              "      <td>COc1ccc(Cc2cc3c(c([C@@H]4O[C@H](CO)[C@@H](O)[C...</td>\n",
              "      <td>active</td>\n",
              "      <td>400.471</td>\n",
              "      <td>1.28960</td>\n",
              "      <td>4.0</td>\n",
              "      <td>6.0</td>\n",
              "      <td>8.128427</td>\n",
              "    </tr>\n",
              "    <tr>\n",
              "      <th>1297</th>\n",
              "      <td>CHEMBL5208827</td>\n",
              "      <td>Cc1ccc(Cc2cc([C@@H]3O[C@H](CO)[C@@H](O)[C@H](O...</td>\n",
              "      <td>active</td>\n",
              "      <td>420.889</td>\n",
              "      <td>1.68902</td>\n",
              "      <td>4.0</td>\n",
              "      <td>6.0</td>\n",
              "      <td>8.841638</td>\n",
              "    </tr>\n",
              "  </tbody>\n",
              "</table>\n",
              "<p>1298 rows × 8 columns</p>\n",
              "</div>"
            ],
            "text/plain": [
              "     molecule_chembl_id                                   canonical_smiles  \\\n",
              "0          CHEMBL183937  Cc1cc(O)c(C(=O)CCc2ccc3occc3c2)c(O[C@@H]2O[C@H...   \n",
              "1          CHEMBL371448  Cc1cc(O[C@@H]2O[C@H](CO)[C@@H](O)[C@H](O)[C@H]...   \n",
              "2          CHEMBL382302  Cc1cc(O[C@@H]2O[C@H](CO)[C@@H](O)[C@H](O)[C@H]...   \n",
              "3          CHEMBL382319  CCc1cc(O[C@@H]2O[C@H](CO)[C@@H](O)[C@H](O)[C@H...   \n",
              "4          CHEMBL200608  Cc1cc(O[C@@H]2O[C@H](CO)[C@@H](O)[C@H](O)[C@H]...   \n",
              "...                 ...                                                ...   \n",
              "1293      CHEMBL5177502  OC[C@H]1O[C@@H](c2ccc(Cl)c(Cc3ccc(OC4CCOC4)cc3...   \n",
              "1294      CHEMBL5202047  CCOc1ccc(Cc2cc([C@H]3O[C@@H](SC)[C@H](O)[C@@H]...   \n",
              "1295      CHEMBL5182632  COc1ccc(Cc2cc([C@H]3O[C@@H](SC)[C@H](O)[C@@H](...   \n",
              "1296      CHEMBL5205876  COc1ccc(Cc2cc3c(c([C@@H]4O[C@H](CO)[C@@H](O)[C...   \n",
              "1297      CHEMBL5208827  Cc1ccc(Cc2cc([C@@H]3O[C@H](CO)[C@@H](O)[C@H](O...   \n",
              "\n",
              "       class       MW     LogP  NumHDonors  NumHAcceptors     pIC50  \n",
              "0     active  458.463  1.44102         5.0            9.0  7.958607  \n",
              "1     active  454.479  1.58142         5.0            8.0  6.308919  \n",
              "2     active  456.495  0.77012         5.0            8.0  6.339135  \n",
              "3     active  470.522  1.02410         5.0            8.0  6.274088  \n",
              "4     active  470.522  0.78052         4.0            9.0  6.122629  \n",
              "...      ...      ...      ...         ...            ...       ...  \n",
              "1293  active  450.915  1.61340         4.0            7.0  8.508638  \n",
              "1294  active  424.946  3.17260         3.0            6.0  8.744727  \n",
              "1295  active  410.919  2.78250         3.0            6.0  8.677781  \n",
              "1296  active  400.471  1.28960         4.0            6.0  8.128427  \n",
              "1297  active  420.889  1.68902         4.0            6.0  8.841638  \n",
              "\n",
              "[1298 rows x 8 columns]"
            ]
          },
          "metadata": {},
          "output_type": "display_data"
        }
      ],
      "source": []
    },
    {
      "attachments": {},
      "cell_type": "markdown",
      "metadata": {
        "colab_type": "text",
        "id": "z5hyBhGqyc6J"
      },
      "source": [
        "#### **3) LogP**"
      ]
    },
    {
      "cell_type": "code",
      "execution_count": 34,
      "metadata": {
        "colab": {
          "base_uri": "https://localhost:8080/",
          "height": 367
        },
        "colab_type": "code",
        "id": "liEtkpI4yX9t",
        "outputId": "63ed7b14-b112-44d5-8f0d-8fe017ec0d43"
      },
      "outputs": [
        {
          "name": "stderr",
          "output_type": "stream",
          "text": [
            "/var/folders/0b/t44sb5395fz_lr8c2gy7h3h80000gn/T/ipykernel_15401/179447754.py:3: FutureWarning: \n",
            "\n",
            "Passing `palette` without assigning `hue` is deprecated and will be removed in v0.14.0. Assign the `x` variable to `hue` and set `legend=False` for the same effect.\n",
            "\n",
            "  sns.boxplot(x = 'class', y = 'LogP', data = df_2class, palette = palette)\n"
          ]
        },
        {
          "data": {
            "image/png": "[encoded data removed]",
            "text/plain": [
              "<Figure size 550x550 with 1 Axes>"
            ]
          },
          "metadata": {},
          "output_type": "display_data"
        }
      ],
      "source": [
        "plt.figure(figsize=(5.5, 5.5))\n",
        "\n",
        "sns.boxplot(x = 'class', y = 'LogP', data = df_2class, palette = palette)\n",
        "\n",
        "plt.xlabel('Bioactivity class', fontsize=14, fontweight='bold')\n",
        "plt.ylabel('LogP', fontsize=14, fontweight='bold')\n",
        "\n",
        "plt.savefig('../plots/plot_LogP.png')"
      ]
    },
    {
      "attachments": {},
      "cell_type": "markdown",
      "metadata": {
        "colab_type": "text",
        "id": "2KgV5v_oFLXh"
      },
      "source": [
        "**Statistical analysis | Mann-Whitney U Test**"
      ]
    },
    {
      "cell_type": "code",
      "execution_count": 35,
      "metadata": {
        "colab": {
          "base_uri": "https://localhost:8080/",
          "height": 80
        },
        "colab_type": "code",
        "id": "B61UsGMIFLuE",
        "outputId": "3fd097e7-7a4a-4c6e-bc0c-af010caac7b2"
      },
      "outputs": [
        {
          "data": {
            "text/html": [
              "<div>\n",
              "<style scoped>\n",
              "    .dataframe tbody tr th:only-of-type {\n",
              "        vertical-align: middle;\n",
              "    }\n",
              "\n",
              "    .dataframe tbody tr th {\n",
              "        vertical-align: top;\n",
              "    }\n",
              "\n",
              "    .dataframe thead th {\n",
              "        text-align: right;\n",
              "    }\n",
              "</style>\n",
              "<table border=\"1\" class=\"dataframe\">\n",
              "  <thead>\n",
              "    <tr style=\"text-align: right;\">\n",
              "      <th></th>\n",
              "      <th>Descriptor</th>\n",
              "      <th>Statistics</th>\n",
              "      <th>p</th>\n",
              "      <th>alpha</th>\n",
              "      <th>Interpretation</th>\n",
              "    </tr>\n",
              "  </thead>\n",
              "  <tbody>\n",
              "    <tr>\n",
              "      <th>0</th>\n",
              "      <td>LogP</td>\n",
              "      <td>35363.0</td>\n",
              "      <td>0.351202</td>\n",
              "      <td>0.05</td>\n",
              "      <td>Same distribution (fail to reject H0)</td>\n",
              "    </tr>\n",
              "  </tbody>\n",
              "</table>\n",
              "</div>"
            ],
            "text/plain": [
              "  Descriptor  Statistics         p  alpha  \\\n",
              "0       LogP     35363.0  0.351202   0.05   \n",
              "\n",
              "                          Interpretation  \n",
              "0  Same distribution (fail to reject H0)  "
            ]
          },
          "execution_count": 35,
          "metadata": {},
          "output_type": "execute_result"
        }
      ],
      "source": [
        "mannwhitney('LogP')"
      ]
    },
    {
      "attachments": {},
      "cell_type": "markdown",
      "metadata": {
        "colab_type": "text",
        "id": "4db7LZLRym2k"
      },
      "source": [
        "#### **4) NumHDonors**"
      ]
    },
    {
      "cell_type": "code",
      "execution_count": 36,
      "metadata": {
        "colab": {
          "base_uri": "https://localhost:8080/",
          "height": 367
        },
        "colab_type": "code",
        "id": "iru1JPM1yg5A",
        "outputId": "838b8622-b34a-4f93-bec1-9df19fc9f571"
      },
      "outputs": [
        {
          "name": "stderr",
          "output_type": "stream",
          "text": [
            "/var/folders/0b/t44sb5395fz_lr8c2gy7h3h80000gn/T/ipykernel_15401/1596860469.py:3: FutureWarning: \n",
            "\n",
            "Passing `palette` without assigning `hue` is deprecated and will be removed in v0.14.0. Assign the `x` variable to `hue` and set `legend=False` for the same effect.\n",
            "\n",
            "  sns.boxplot(x = 'class', y = 'NumHDonors', data = df_2class, palette = palette)\n"
          ]
        },
        {
          "data": {
            "image/png": "[encoded data removed]",
            "text/plain": [
              "<Figure size 550x550 with 1 Axes>"
            ]
          },
          "metadata": {},
          "output_type": "display_data"
        }
      ],
      "source": [
        "plt.figure(figsize=(5.5, 5.5))\n",
        "\n",
        "sns.boxplot(x = 'class', y = 'NumHDonors', data = df_2class, palette = palette)\n",
        "\n",
        "plt.xlabel('Bioactivity class', fontsize=14, fontweight='bold')\n",
        "plt.ylabel('NumHDonors', fontsize=14, fontweight='bold')\n",
        "\n",
        "plt.savefig('../plots/plot_NumHDonors.png')"
      ]
    },
    {
      "attachments": {},
      "cell_type": "markdown",
      "metadata": {
        "colab_type": "text",
        "id": "vM5vZWanFe3c"
      },
      "source": [
        "**Statistical analysis | Mann-Whitney U Test**"
      ]
    },
    {
      "cell_type": "code",
      "execution_count": 37,
      "metadata": {
        "colab": {
          "base_uri": "https://localhost:8080/",
          "height": 80
        },
        "colab_type": "code",
        "id": "mS-rOqq7Fd1E",
        "outputId": "d6e88523-ae95-4298-8550-f840fd8b5a36"
      },
      "outputs": [
        {
          "data": {
            "text/html": [
              "<div>\n",
              "<style scoped>\n",
              "    .dataframe tbody tr th:only-of-type {\n",
              "        vertical-align: middle;\n",
              "    }\n",
              "\n",
              "    .dataframe tbody tr th {\n",
              "        vertical-align: top;\n",
              "    }\n",
              "\n",
              "    .dataframe thead th {\n",
              "        text-align: right;\n",
              "    }\n",
              "</style>\n",
              "<table border=\"1\" class=\"dataframe\">\n",
              "  <thead>\n",
              "    <tr style=\"text-align: right;\">\n",
              "      <th></th>\n",
              "      <th>Descriptor</th>\n",
              "      <th>Statistics</th>\n",
              "      <th>p</th>\n",
              "      <th>alpha</th>\n",
              "      <th>Interpretation</th>\n",
              "    </tr>\n",
              "  </thead>\n",
              "  <tbody>\n",
              "    <tr>\n",
              "      <th>0</th>\n",
              "      <td>NumHDonors</td>\n",
              "      <td>42092.0</td>\n",
              "      <td>0.087438</td>\n",
              "      <td>0.05</td>\n",
              "      <td>Same distribution (fail to reject H0)</td>\n",
              "    </tr>\n",
              "  </tbody>\n",
              "</table>\n",
              "</div>"
            ],
            "text/plain": [
              "   Descriptor  Statistics         p  alpha  \\\n",
              "0  NumHDonors     42092.0  0.087438   0.05   \n",
              "\n",
              "                          Interpretation  \n",
              "0  Same distribution (fail to reject H0)  "
            ]
          },
          "execution_count": 37,
          "metadata": {},
          "output_type": "execute_result"
        }
      ],
      "source": [
        "mannwhitney('NumHDonors')"
      ]
    },
    {
      "attachments": {},
      "cell_type": "markdown",
      "metadata": {
        "colab_type": "text",
        "id": "yOYQ3QiSyu7-"
      },
      "source": [
        "#### **5) NumHAcceptors**"
      ]
    },
    {
      "cell_type": "code",
      "execution_count": 38,
      "metadata": {
        "colab": {
          "base_uri": "https://localhost:8080/",
          "height": 367
        },
        "colab_type": "code",
        "id": "yCw6tgNCyxHf",
        "outputId": "3de01d96-1e31-4f95-8084-907f15901106"
      },
      "outputs": [
        {
          "name": "stderr",
          "output_type": "stream",
          "text": [
            "/var/folders/0b/t44sb5395fz_lr8c2gy7h3h80000gn/T/ipykernel_15401/2277621025.py:3: FutureWarning: \n",
            "\n",
            "Passing `palette` without assigning `hue` is deprecated and will be removed in v0.14.0. Assign the `x` variable to `hue` and set `legend=False` for the same effect.\n",
            "\n",
            "  sns.boxplot(x = 'class', y = 'NumHAcceptors', data = df_2class, palette = palette)\n"
          ]
        },
        {
          "data": {
            "image/png": "[encoded data removed]",
            "text/plain": [
              "<Figure size 550x550 with 1 Axes>"
            ]
          },
          "metadata": {},
          "output_type": "display_data"
        }
      ],
      "source": [
        "plt.figure(figsize=(5.5, 5.5))\n",
        "\n",
        "sns.boxplot(x = 'class', y = 'NumHAcceptors', data = df_2class, palette = palette)\n",
        "\n",
        "plt.xlabel('Bioactivity class', fontsize=14, fontweight='bold')\n",
        "plt.ylabel('NumHAcceptors', fontsize=14, fontweight='bold')\n",
        "\n",
        "plt.savefig('../plots/plot_NumHAcceptors.png')"
      ]
    },
    {
      "cell_type": "code",
      "execution_count": 39,
      "metadata": {
        "colab": {
          "base_uri": "https://localhost:8080/",
          "height": 80
        },
        "colab_type": "code",
        "id": "NEQoDZctFtGG",
        "outputId": "417d0d17-81f6-438f-dae4-70083b319b85"
      },
      "outputs": [
        {
          "data": {
            "text/html": [
              "<div>\n",
              "<style scoped>\n",
              "    .dataframe tbody tr th:only-of-type {\n",
              "        vertical-align: middle;\n",
              "    }\n",
              "\n",
              "    .dataframe tbody tr th {\n",
              "        vertical-align: top;\n",
              "    }\n",
              "\n",
              "    .dataframe thead th {\n",
              "        text-align: right;\n",
              "    }\n",
              "</style>\n",
              "<table border=\"1\" class=\"dataframe\">\n",
              "  <thead>\n",
              "    <tr style=\"text-align: right;\">\n",
              "      <th></th>\n",
              "      <th>Descriptor</th>\n",
              "      <th>Statistics</th>\n",
              "      <th>p</th>\n",
              "      <th>alpha</th>\n",
              "      <th>Interpretation</th>\n",
              "    </tr>\n",
              "  </thead>\n",
              "  <tbody>\n",
              "    <tr>\n",
              "      <th>0</th>\n",
              "      <td>NumHAcceptors</td>\n",
              "      <td>40840.0</td>\n",
              "      <td>0.284765</td>\n",
              "      <td>0.05</td>\n",
              "      <td>Same distribution (fail to reject H0)</td>\n",
              "    </tr>\n",
              "  </tbody>\n",
              "</table>\n",
              "</div>"
            ],
            "text/plain": [
              "      Descriptor  Statistics         p  alpha  \\\n",
              "0  NumHAcceptors     40840.0  0.284765   0.05   \n",
              "\n",
              "                          Interpretation  \n",
              "0  Same distribution (fail to reject H0)  "
            ]
          },
          "execution_count": 39,
          "metadata": {},
          "output_type": "execute_result"
        }
      ],
      "source": [
        "mannwhitney('NumHAcceptors')"
      ]
    },
    {
      "attachments": {},
      "cell_type": "markdown",
      "metadata": {
        "colab_type": "text",
        "id": "p4QjdHVjKYum"
      },
      "source": [
        "#### **Interpretation of Statistical Results**"
      ]
    },
    {
      "attachments": {},
      "cell_type": "markdown",
      "metadata": {
        "colab_type": "text",
        "id": "mSoOBIqfLbDs"
      },
      "source": [
        "#### **Box Plots**\n",
        "\n",
        "##### **pIC50 values**\n",
        "\n",
        "Taking a look at pIC50 values, the **actives** and **inactives** displayed ***significant statistical difference***, which is to be expected since threshold values (``IC50 < 1,000 nM = Actives while IC50 > 10,000 nM = Inactives``, corresponding to ``pIC50 > 6 = Actives and pIC50 < 5 = Inactives``) were used to define actives and inactives.\n",
        "\n",
        "##### **Lipinski's descriptors**\n",
        "\n",
        "Only of 2 of the 4 Lipinski's descriptors (``MW`` and ``LogP``) exhibited ***significant statistical difference*** between the **actives** and **inactives**. \n",
        "\n",
        "The number of hydrogen bond donors and acceptors (``NumHDonors`` and ``NumHAcceptors``) did not exhibit statistical significance."
      ]
    },
    {
      "attachments": {},
      "cell_type": "markdown",
      "metadata": {
        "colab_type": "text",
        "id": "U-rK8l0wWnKK"
      },
      "source": [
        "## **Zip files**"
      ]
    },
    {
      "cell_type": "code",
      "execution_count": 40,
      "metadata": {
        "colab": {
          "base_uri": "https://localhost:8080/",
          "height": 272
        },
        "colab_type": "code",
        "id": "GW1ZSsfJWqbM",
        "outputId": "cee2f037-c743-4059-9822-c87eba3f0c51"
      },
      "outputs": [
        {
          "name": "stdout",
          "output_type": "stream",
          "text": [
            "updating: SGLT2_04_bioactivity_data_3class_pIC50.csv (deflated 80%)\n",
            "updating: mannwhitneyu_NumHAcceptors.csv (deflated 10%)\n",
            "updating: mannwhitneyu_NumHDonors.csv (deflated 11%)\n",
            "updating: mannwhitneyu_MW.csv (deflated 8%)\n",
            "updating: SLGT2_05_bioactivity_data_2class_pIC50.csv (deflated 80%)\n",
            "updating: mannwhitneyu_pIC50.csv (deflated 10%)\n",
            "updating: mannwhitneyu_LogP.csv (deflated 8%)\n",
            "  adding: SGLT2_06_bioactivity_data_3class_pIC50_pubchem_fp.csv (deflated 96%)\n"
          ]
        }
      ],
      "source": [
        "! zip -r results.zip . -i *.csv *.png"
      ]
    }
  ],
  "metadata": {
    "colab": {
      "collapsed_sections": [],
      "name": "CDD-ML-Part-2-Exploratory-Data-Analysis-Acetylcholinesterase.ipynb",
      "provenance": []
    },
    "kernelspec": {
      "display_name": "Python 3",
      "name": "python3"
    },
    "language_info": {
      "codemirror_mode": {
        "name": "ipython",
        "version": 3
      },
      "file_extension": ".py",
      "mimetype": "text/x-python",
      "name": "python",
      "nbconvert_exporter": "python",
      "pygments_lexer": "ipython3",
      "version": "3.8.5"
    }
  },
  "nbformat": 4,
  "nbformat_minor": 0
}
